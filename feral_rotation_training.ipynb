{
 "cells": [
  {
   "cell_type": "code",
   "execution_count": 1,
   "metadata": {},
   "outputs": [],
   "source": [
    "import wowsims\n",
    "import feral\n",
    "import feral_sim_env\n",
    "import gymnasium\n",
    "import numpy as np"
   ]
  },
  {
   "cell_type": "code",
   "execution_count": 2,
   "metadata": {},
   "outputs": [],
   "source": [
    "from gymnasium.envs.registration import register\n",
    "register(id=\"FeralSimEnv\", entry_point=\"feral_sim_env:FeralSimEnv\")"
   ]
  },
  {
   "cell_type": "code",
   "execution_count": 3,
   "metadata": {},
   "outputs": [],
   "source": [
    "env = gymnasium.make(\"FeralSimEnv\")"
   ]
  },
  {
   "cell_type": "code",
   "execution_count": 4,
   "metadata": {},
   "outputs": [
    {
     "name": "stdout",
     "output_type": "stream",
     "text": [
      "2634.1899725754133\n",
      "180.05 0.0\n",
      "179.95 0.0\n",
      "178.85 7.0\n",
      "177.75 6.0\n",
      "176.65 2.0\n",
      "176.58 5.0\n",
      "176.55 1.0\n",
      "176.45 6.0\n",
      "176.35 1.0\n",
      "176.31 1.0\n",
      "175.25 7.0\n",
      "174.15 7.0\n",
      "174.06 0.0\n",
      "173.05 4.0\n",
      "171.95 7.0\n",
      "170.85 1.0\n",
      "169.75 4.0\n",
      "169.65 0.0\n",
      "168.55 1.0\n",
      "167.45 2.0\n",
      "0.05 3.0\n"
     ]
    }
   ],
   "source": [
    "observation, info = env.reset()\n",
    "terminated = False\n",
    "reward = 0\n",
    "dim_size = env.observation_space.shape[0]+1+1\n",
    "batch = []\n",
    "while not terminated:\n",
    "    action = env.action_space.sample()\n",
    "    observation, reward, terminated, truncated, info = env.step(action)\n",
    "    batch.append(np.concatenate((observation, [action], [reward])))\n",
    "print(reward/(180-observation[0]))\n",
    "\n",
    "for row in batch:\n",
    "    print(np.round(row[0],2), row[-2])"
   ]
  }
 ],
 "metadata": {
  "kernelspec": {
   "display_name": "tts39",
   "language": "python",
   "name": "python3"
  },
  "language_info": {
   "codemirror_mode": {
    "name": "ipython",
    "version": 3
   },
   "file_extension": ".py",
   "mimetype": "text/x-python",
   "name": "python",
   "nbconvert_exporter": "python",
   "pygments_lexer": "ipython3",
   "version": "3.9.16"
  },
  "orig_nbformat": 4
 },
 "nbformat": 4,
 "nbformat_minor": 2
}
