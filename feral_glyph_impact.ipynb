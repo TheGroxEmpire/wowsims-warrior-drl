{
 "cells": [
  {
   "cell_type": "code",
   "execution_count": 1,
   "metadata": {},
   "outputs": [],
   "source": [
    "import json\n",
    "import util\n",
    "import wowsims"
   ]
  },
  {
   "attachments": {},
   "cell_type": "markdown",
   "metadata": {},
   "source": [
    "This notebook uses wowsims to estimate the impact of each of the main Feral druid glyphs in BiS gear for phase two, three, and four."
   ]
  },
  {
   "cell_type": "code",
   "execution_count": 2,
   "metadata": {},
   "outputs": [],
   "source": [
    "# Load p2 as tbe base settings\n",
    "p2_base = json.load(open('data/p2_feral.json'))\n",
    "\n",
    "# Delete the database because our library bundles it\n",
    "del p2_base['raid']['parties'][0]['players'][0]['database']\n",
    "\n",
    "# Copy settings for p3/p4\n",
    "p3_base = json.loads(json.dumps(p2_base))\n",
    "p4_base = json.loads(json.dumps(p2_base))\n",
    "\n",
    "# Replace the items with the p3 items\n",
    "p3_base['raid']['parties'][0]['players'][0]['equipment']['items'] = json.load(open('data/p3_feral_items.json'))\n",
    "\n",
    "# Same thing for p4 settings\n",
    "p4_all = json.load(open('data/p4_feral.json'))\n",
    "p4_base['raid']['parties'][0]['players'][0]['equipment']['items'] = p4_all['raid']['parties'][0]['players'][0]['equipment']['items']"
   ]
  },
  {
   "attachments": {},
   "cell_type": "markdown",
   "metadata": {},
   "source": [
    "Check and make sure that our baseline settings have the correct glyphs:\n",
    "\n",
    "40902 -> Glyph of Rip\n",
    "\n",
    "45604 -> Glyph of Savage Roar\n",
    "\n",
    "40901 -> Glyph of Shred"
   ]
  },
  {
   "cell_type": "code",
   "execution_count": 3,
   "metadata": {},
   "outputs": [
    {
     "data": {
      "text/html": [
       "<table><tr><td><td>major1</td><td>40902</td><td></tr><tr><td><td>major2</td><td>45604</td><td></tr><tr><td><td>major3</td><td>40901</td><td></tr></table>"
      ],
      "text/plain": [
       "[('major1', 40902), ('major2', 45604), ('major3', 40901)]"
      ]
     },
     "execution_count": 3,
     "metadata": {},
     "output_type": "execute_result"
    }
   ],
   "source": [
    "# Equipped glyphs\n",
    "[item for item in p2_base['raid']['parties'][0]['players'][0]['glyphs'].items() if item[0].startswith(\"major\")]"
   ]
  },
  {
   "cell_type": "code",
   "execution_count": 4,
   "metadata": {},
   "outputs": [],
   "source": [
    "# Sim p2, p3, and p4 with all Glyphs\n",
    "p2 = wowsims.runSim(p2_base)\n",
    "p3 = wowsims.runSim(p3_base)\n",
    "p4 = wowsims.runSim(p4_base)\n",
    "base_dps = [r['raidMetrics']['dps']['avg'] for r in [p2, p3, p4]]"
   ]
  },
  {
   "cell_type": "code",
   "execution_count": 5,
   "metadata": {},
   "outputs": [],
   "source": [
    "# Helper function to run a sim without a glyph\n",
    "def runWithoutGlyph(glyph):\n",
    "    p2_settings = json.loads(json.dumps(p2_base))\n",
    "    del p2_settings['raid']['parties'][0]['players'][0]['glyphs'][glyph]\n",
    "    p3_settings = json.loads(json.dumps(p3_base))\n",
    "    del p3_settings['raid']['parties'][0]['players'][0]['glyphs'][glyph]\n",
    "    p4_settings = json.loads(json.dumps(p4_base))\n",
    "    del p4_settings['raid']['parties'][0]['players'][0]['glyphs'][glyph]\n",
    "    p2 = wowsims.runSim(p2_settings)\n",
    "    p3 = wowsims.runSim(p3_settings)\n",
    "    p4 = wowsims.runSim(p4_settings)\n",
    "    return [r['raidMetrics']['dps']['avg'] for r in [p2, p3, p4]]"
   ]
  },
  {
   "cell_type": "code",
   "execution_count": 6,
   "metadata": {},
   "outputs": [],
   "source": [
    "no_rip_dps = runWithoutGlyph('major1')\n",
    "no_roar_dps = runWithoutGlyph('major2')\n",
    "no_shred_dps = runWithoutGlyph('major3')"
   ]
  },
  {
   "cell_type": "code",
   "execution_count": 7,
   "metadata": {},
   "outputs": [
    {
     "data": {
      "text/html": [
       "<table><tr><td><td>Glyph</td><td>P2</td><td>P3</td><td>P4</td><td></tr><tr><td><td>Rip</td><td>128</td><td>132</td><td>137</td><td></tr><tr><td><td>Roar</td><td>237</td><td>272</td><td>375</td><td></tr><tr><td><td>Shred</td><td>212</td><td>232</td><td>252</td><td></tr></table>"
      ],
      "text/plain": [
       "[('Glyph', 'P2', 'P3', 'P4'),\n",
       " ('Rip', 127.65240292697672, 132.1735368931695, 137.22823222300212),\n",
       " ('Roar', 236.79738140006884, 272.0569358647481, 374.92562876481315),\n",
       " ('Shred', 211.99012698995466, 232.34511789136923, 251.85594146520816)]"
      ]
     },
     "execution_count": 7,
     "metadata": {},
     "output_type": "execute_result"
    }
   ],
   "source": [
    "rip_loss = [base_dps[phase] - dps for (phase, dps) in enumerate(no_rip_dps)]\n",
    "roar_loss = [base_dps[phase] - dps for (phase, dps) in enumerate(no_roar_dps)]\n",
    "shred_loss = [base_dps[phase] - dps for (phase, dps) in enumerate(no_shred_dps)]\n",
    "[('Glyph', 'P2', 'P3', 'P4'), ('Rip', rip_loss[0], rip_loss[1], rip_loss[2]), ('Roar', roar_loss[0], roar_loss[1], roar_loss[2]), ('Shred', shred_loss[0], shred_loss[1], shred_loss[2])]"
   ]
  }
 ],
 "metadata": {
  "kernelspec": {
   "display_name": "tts39",
   "language": "python",
   "name": "python3"
  },
  "language_info": {
   "codemirror_mode": {
    "name": "ipython",
    "version": 3
   },
   "file_extension": ".py",
   "mimetype": "text/x-python",
   "name": "python",
   "nbconvert_exporter": "python",
   "pygments_lexer": "ipython3",
   "version": "3.9.16"
  },
  "orig_nbformat": 4
 },
 "nbformat": 4,
 "nbformat_minor": 2
}
