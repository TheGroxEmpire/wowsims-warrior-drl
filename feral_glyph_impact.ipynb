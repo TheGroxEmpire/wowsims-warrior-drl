{
 "cells": [
  {
   "cell_type": "code",
   "execution_count": 1,
   "metadata": {},
   "outputs": [],
   "source": [
    "import json\n",
    "import util\n",
    "import wowsims"
   ]
  },
  {
   "attachments": {},
   "cell_type": "markdown",
   "metadata": {},
   "source": [
    "This notebook uses wowsims to estimate the impact of each of the main Feral druid glyphs in BiS gear for phase two, three, and four."
   ]
  },
  {
   "cell_type": "code",
   "execution_count": 2,
   "metadata": {},
   "outputs": [],
   "source": [
    "# Load p2 as tbe base settings\n",
    "p2_base = json.load(open('data/p2_feral.json'))\n",
    "\n",
    "# Delete the database because our library bundles it\n",
    "del p2_base['raid']['parties'][0]['players'][0]['database']\n",
    "\n",
    "# Copy settings for p3/p4\n",
    "p3_base = json.loads(json.dumps(p2_base))\n",
    "p4_base = json.loads(json.dumps(p2_base))\n",
    "\n",
    "# Replace the items with the p3 items\n",
    "p3_base['raid']['parties'][0]['players'][0]['equipment']['items'] = json.load(open('data/p3_feral_items.json'))\n",
    "\n",
    "# Same thing for p4 settings\n",
    "p4_all = json.load(open('data/p4_feral.json'))\n",
    "p4_base['raid']['parties'][0]['players'][0]['equipment']['items'] = p4_all['raid']['parties'][0]['players'][0]['equipment']['items']"
   ]
  },
  {
   "cell_type": "code",
   "execution_count": 3,
   "metadata": {},
   "outputs": [
    {
     "data": {
      "text/html": [
       "<table><li><a href=\"https://wowsims.github.io/wotlk/feral_druid/#eJzslD9oFEEUxud7u7fuLhw3OQTH8/ZYB4QYCMzueqCF3J6V5YGNjXCCprIIVmp1CoJ/ChsVvEpFJE0aC9nCGLn4hxQXzoAptLl4l7sVi6QRQrCQ3bWwFZPOj+Hx3o/ve80MYx8ySdFxNKiJWbSAOaAH9IEYKLLSTs40OErrsAv8Y0zimyONl0vUici2eHdAUkvaAl9YJ9F3pNGJKAO9MYkH5RTsRGQX+ZMBiW1HWpkjMeX5/IjEzYrUNyJidp6vxCTul6XeScYCvxfTn/Yi7w9IbDrSehVRduwC/zkg8bAsjd/A4v0xSe35KGnnhiS1hOr8+yipa+MkMj8k0XWksRHRSpdsZuv89muSeZOU3tDP6ldwC7immxB0A0bj0vmrFy/fwdHp6rHAV74X+IHvK0+pauD5SgUq8FTV86Z9FVRVoDy/DfYZ7CuE+X6R+LMhiXeL5LY/0eSHVVJLqxRD38K+p/SD7DfE/uufVFR/m3iBI8mz5xA5F5M4yZhbD3OnK+cYa9ZbqJQMfkHAhbyrWWmgNRNOZNH94cH2o0TLtcMzqdZq/hcSOffM1B5f5db1cDfWtJbf7sqevdCJtC5shvVs3q41kTHWq01pZnTg1IQJl0LM4nH6VUXArwAAAP//GweSkA==\">P2 Base</a></li>\n",
       "<li><a href=\"https://wowsims.github.io/wotlk/feral_druid/#eJzslM9rE0Ecxed9s1l3F0OmQXCM2bAOCLVQmN01oAfJxpPHgBcvQgTtyUPxpJ6iIBa9qmC8iHgoeBMj3YNUqD8oarYULaKXYKNUPCRFhb0pu2v/ALG5+Vi+7HvD5zEww1h7DVJ0CE1qYRZtYB5YAfrABlBi5c28oXOU38Mq8tcxia+21B8vURSSZfK3Q5K5bkjWTh7FJPq2zEWpC7+TuFnJ1oq8F5OIbal3w5Qr8AcDEleqUotCYlaBv4pJ3KhIrZfYIp8bkTR7IXXTzyrx/jqJob2Vrf1KOj8PSdyqSD3LLJOvb+3F5PODP78avzNK5rcvCXJ1k8QbW+pRhjBL449+kCwYpLSmdkI7jzngomZA0GXozbOnLpw5dw0HpmsHfU95ru/5nqdcpWq+6ynlK99VNded9pRfU75yvQ7YB7BPEMaLReL3BySeL5LTeUeTL1dJLa3SBrQRdtyjn2Q9JfZf/6SS+lviIfYnt51D5B1M4ghjTiPIH6ueZKzVaKNa1vlpAQfyes5MgfZMMJGhu4I9nduJluv7ZlKt1b2PJPLO8akxH+XoUrAdNe3lZ9vSMw4dTueTYdDIfFxvIcvYSn0qZyzsPjphwKEAs7ibvlALwO8AAAD///mCjmY=\">P3 Base</a></li>\n",
       "<li><a href=\"https://wowsims.github.io/wotlk/feral_druid/#eJzslE1oE08Yxud5Z7PdDP+SafiDY0zCOiDUQmF214AeJBtPHgNevAgRtCcPxZN6ioJgmh4CfqA5iQgqCAUh0kVKhfpBDtpSsAd7idFDvdhCFXpTdvfgWWxvPofhfd6X58cLM4w44JCho6hTA9NoAo+BFWAAbAB5VviecWyJwjpETg46XH0tafv5Ej3pk8jKfptrHpf/yc8drgYlzXtR7KJtUreL6Swnhx2udkra7kW0EJEYld/aXF0va+t9RExIud3m6lZRjwwj6sWdnLw5y3W2l9gYmJOfOlxt/kbk5FybqztFbS9HtBzFuzyNd0nLYYtrPoxIWPJFiwtLPmpxkZdzs1y9KyXctZ8Uz5mw5N0ZrkcdMlbdOm1dwg3giuVA0TXY9QtnL5+/OIPDk5UjgW98L/AD3zeeMZXA840JTOCZiudN+iaomMB4fhfsI9gQynmzSPLhF1KvF8ntfqDxt6tkllZpA9YWRh7QDxIvif3TXylv/jTxDIfiBy+hMi7GcZwxtxZmTpbPMNaoNVEu2PKcggvd5tkk0JwKx9Lo/+H+7r1Y/erBqURrVX+dVMY9NbHHV7l1NdwNTLP/alc4e6FjybmwGdZSv1NtIO2xleoEd+b3nRhz4FKIadxPPql54FcAAAD//9vsiqM=\">P4 Base</a></li></table>"
      ],
      "text/plain": [
       "<IPython.core.display.HTML object>"
      ]
     },
     "metadata": {},
     "output_type": "display_data"
    }
   ],
   "source": [
    "# Wowsims links to each of the simulations used\n",
    "from IPython.display import display, HTML\n",
    "u = \"https://wowsims.github.io/wotlk/feral_druid/#\"\n",
    "list_items = [f'<li><a href=\"{url}\">{name}</a></li>' for (url, name) in [\n",
    "    (u + wowsims.encodeSettings(p2_base), \"P2 Base\"),\n",
    "    (u + wowsims.encodeSettings(p3_base), \"P3 Base\"),\n",
    "    (u + wowsims.encodeSettings(p4_base), \"P4 Base\"),]]\n",
    "display(HTML('<table>' + '\\n'.join(list_items) + '</table>'))"
   ]
  },
  {
   "attachments": {},
   "cell_type": "markdown",
   "metadata": {},
   "source": [
    "Check and make sure that our baseline settings have the correct glyphs:\n",
    "\n",
    "40902 -> Glyph of Rip\n",
    "\n",
    "45604 -> Glyph of Savage Roar\n",
    "\n",
    "40901 -> Glyph of Shred"
   ]
  },
  {
   "cell_type": "code",
   "execution_count": 4,
   "metadata": {},
   "outputs": [
    {
     "data": {
      "text/html": [
       "<table><tr><td><td>major1</td><td>40902</td><td></tr><tr><td><td>major2</td><td>45604</td><td></tr><tr><td><td>major3</td><td>40901</td><td></tr></table>"
      ],
      "text/plain": [
       "[('major1', 40902), ('major2', 45604), ('major3', 40901)]"
      ]
     },
     "execution_count": 4,
     "metadata": {},
     "output_type": "execute_result"
    }
   ],
   "source": [
    "# Equipped glyphs\n",
    "[item for item in p2_base['raid']['parties'][0]['players'][0]['glyphs'].items() if item[0].startswith(\"major\")]"
   ]
  },
  {
   "cell_type": "code",
   "execution_count": 5,
   "metadata": {},
   "outputs": [],
   "source": [
    "# Sim p2, p3, and p4 with all Glyphs\n",
    "p2 = wowsims.runSim(p2_base)\n",
    "p3 = wowsims.runSim(p3_base)\n",
    "p4 = wowsims.runSim(p4_base)\n",
    "base_dps = [r['raidMetrics']['dps']['avg'] for r in [p2, p3, p4]]"
   ]
  },
  {
   "cell_type": "code",
   "execution_count": 6,
   "metadata": {},
   "outputs": [],
   "source": [
    "# Helper function to run a sim without a glyph\n",
    "def runWithoutGlyph(glyph):\n",
    "    p2_settings = json.loads(json.dumps(p2_base))\n",
    "    del p2_settings['raid']['parties'][0]['players'][0]['glyphs'][glyph]\n",
    "    p3_settings = json.loads(json.dumps(p3_base))\n",
    "    del p3_settings['raid']['parties'][0]['players'][0]['glyphs'][glyph]\n",
    "    p4_settings = json.loads(json.dumps(p4_base))\n",
    "    del p4_settings['raid']['parties'][0]['players'][0]['glyphs'][glyph]\n",
    "    p2 = wowsims.runSim(p2_settings)\n",
    "    p3 = wowsims.runSim(p3_settings)\n",
    "    p4 = wowsims.runSim(p4_settings)\n",
    "    return [r['raidMetrics']['dps']['avg'] for r in [p2, p3, p4]]"
   ]
  },
  {
   "cell_type": "code",
   "execution_count": 7,
   "metadata": {},
   "outputs": [],
   "source": [
    "no_rip_dps = runWithoutGlyph('major1')\n",
    "no_roar_dps = runWithoutGlyph('major2')\n",
    "no_shred_dps = runWithoutGlyph('major3')"
   ]
  },
  {
   "cell_type": "code",
   "execution_count": 8,
   "metadata": {},
   "outputs": [
    {
     "data": {
      "text/html": [
       "<table><tr><td><td>Glyph</td><td>P2</td><td>P3</td><td>P4</td><td></tr><tr><td><td>Rip</td><td>134</td><td>145</td><td>149</td><td></tr><tr><td><td>Roar</td><td>237</td><td>272</td><td>375</td><td></tr><tr><td><td>Shred</td><td>209</td><td>249</td><td>266</td><td></tr></table>"
      ],
      "text/plain": [
       "[('Glyph', 'P2', 'P3', 'P4'),\n",
       " ('Rip', 133.89935372041145, 145.33278708216494, 148.95098617940312),\n",
       " ('Roar', 237.06286815753083, 272.1349335847208, 375.1255322692814),\n",
       " ('Shred', 208.54875575281767, 249.39140223332652, 265.5814190222627)]"
      ]
     },
     "execution_count": 8,
     "metadata": {},
     "output_type": "execute_result"
    }
   ],
   "source": [
    "rip_loss = [base_dps[phase] - dps for (phase, dps) in enumerate(no_rip_dps)]\n",
    "roar_loss = [base_dps[phase] - dps for (phase, dps) in enumerate(no_roar_dps)]\n",
    "shred_loss = [base_dps[phase] - dps for (phase, dps) in enumerate(no_shred_dps)]\n",
    "[('Glyph', 'P2', 'P3', 'P4'), ('Rip', rip_loss[0], rip_loss[1], rip_loss[2]), ('Roar', roar_loss[0], roar_loss[1], roar_loss[2]), ('Shred', shred_loss[0], shred_loss[1], shred_loss[2])]"
   ]
  }
 ],
 "metadata": {
  "kernelspec": {
   "display_name": "tts39",
   "language": "python",
   "name": "python3"
  },
  "language_info": {
   "codemirror_mode": {
    "name": "ipython",
    "version": 3
   },
   "file_extension": ".py",
   "mimetype": "text/x-python",
   "name": "python",
   "nbconvert_exporter": "python",
   "pygments_lexer": "ipython3",
   "version": "3.9.16"
  },
  "orig_nbformat": 4
 },
 "nbformat": 4,
 "nbformat_minor": 2
}
