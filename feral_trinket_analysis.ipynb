{
 "cells": [
  {
   "attachments": {},
   "cell_type": "markdown",
   "metadata": {},
   "source": [
    "This notebook uses the wowsims library to compare Feral Druid trinket values for p2/p3."
   ]
  },
  {
   "cell_type": "code",
   "execution_count": 1,
   "metadata": {},
   "outputs": [],
   "source": [
    "import json\n",
    "import wowsims"
   ]
  },
  {
   "cell_type": "code",
   "execution_count": 2,
   "metadata": {},
   "outputs": [],
   "source": [
    "p2_settings = json.load(open('data/p2_feral.json'))\n",
    "\n",
    "# Delete the database because our library bundles it\n",
    "del p2_settings['raid']['parties'][0]['players'][0]['database']\n",
    "\n",
    "# Deep copy the settings\n",
    "p3_settings = json.loads(json.dumps(p2_settings))\n",
    "\n",
    "# Replace the item\n",
    "p3_settings['raid']['parties'][0]['players'][0]['equipment']['items'] = json.load(open('data/p3_feral_items.json'))"
   ]
  },
  {
   "attachments": {},
   "cell_type": "markdown",
   "metadata": {},
   "source": [
    "We load settings for p2, delete the database, copy them for p3 and then overwrite the items.\n",
    "After this process, `p2_settings` and `p3_settings` are ready to be used as input to the sim.\n",
    "\n",
    "The trinkets to consider are listed below."
   ]
  },
  {
   "cell_type": "code",
   "execution_count": 3,
   "metadata": {},
   "outputs": [],
   "source": [
    "trinkets = [45931, 46038, 47131, 45609, 47115, 47734, 47946, 47948, 44253, 42987]\n",
    "trinket_names = ['Mjolnir', 'Dark Matter', 'Verdict[H]', 'Comet', 'Verdict', 'Supremacy', 'Volatile', 'Victor[H]', 'DMC-Agi', 'DMC-Str']"
   ]
  },
  {
   "attachments": {},
   "cell_type": "markdown",
   "metadata": {},
   "source": [
    "The following code goes through the list of trinkets and pairs each one with each trinket later in the list.\n",
    "Each of those trinket pairs is used to overwrite the top/bottom trinket items in the settings for both p2 and p3."
   ]
  },
  {
   "cell_type": "code",
   "execution_count": 4,
   "metadata": {},
   "outputs": [],
   "source": [
    "results = []\n",
    "for i in range(len(trinkets)-1):\n",
    "    for j in range(i+1, len(trinkets)):\n",
    "        active_settings = p2_settings\n",
    "        top = {'id': trinkets[i] }\n",
    "        bot = {'id': trinkets[j] }\n",
    "        active_settings['raid']['parties'][0]['players'][0]['equipment']['items'][12] = top\n",
    "        active_settings['raid']['parties'][0]['players'][0]['equipment']['items'][13] = bot\n",
    "        p2_result = wowsims.runSim(active_settings)\n",
    "        active_settings = p3_settings\n",
    "        top = {'id': trinkets[i] }\n",
    "        bot = {'id': trinkets[j] }\n",
    "        active_settings['raid']['parties'][0]['players'][0]['equipment']['items'][12] = top\n",
    "        active_settings['raid']['parties'][0]['players'][0]['equipment']['items'][13] = bot\n",
    "        p3_result = wowsims.runSim(active_settings)\n",
    "        results.append((top['id'], bot['id'], p2_result['raidMetrics']['dps']['avg'], p3_result['raidMetrics']['dps']['avg']))\n",
    "results.sort(key=lambda x: x[2], reverse=True)"
   ]
  },
  {
   "attachments": {},
   "cell_type": "markdown",
   "metadata": {},
   "source": [
    "The results from the previous operation are stored in the `results` list.\n",
    "That list is sorted by the p2 dps value from the sim.\n",
    "\n",
    "The sorted list is then modified to replace the trinket id with the name defined above.\n",
    "The dps values are also rebased so that the value is their difference relative to the top combination."
   ]
  },
  {
   "cell_type": "code",
   "execution_count": 5,
   "metadata": {},
   "outputs": [
    {
     "data": {
      "text/html": [
       "<table><tr><td><td>Trink1</td><td>Trink2</td><td>P2</td><td>P3</td><td></tr><tr><td><td>Mjolnir</td><td>Verdict[H]</td><td>0</td><td>0</td><td></tr><tr><td><td>Mjolnir</td><td>Verdict</td><td>-68</td><td>-72</td><td></tr><tr><td><td>Mjolnir</td><td>Dark Matter</td><td>-115</td><td>-190</td><td></tr><tr><td><td>Mjolnir</td><td>Comet</td><td>-130</td><td>-111</td><td></tr><tr><td><td>Verdict[H]</td><td>Verdict</td><td>-154</td><td>-192</td><td></tr><tr><td><td>Mjolnir</td><td>DMC-Agi</td><td>-196</td><td>-215</td><td></tr><tr><td><td>Mjolnir</td><td>DMC-Str</td><td>-208</td><td>-221</td><td></tr><tr><td><td>Dark Matter</td><td>Verdict[H]</td><td>-218</td><td>-291</td><td></tr><tr><td><td>Verdict[H]</td><td>Comet</td><td>-220</td><td>-201</td><td></tr></table>"
      ],
      "text/plain": [
       "[('Trink1', 'Trink2', 'P2', 'P3'),\n",
       " ('Mjolnir', 'Verdict[H]', 0.0, 0.0),\n",
       " ('Mjolnir', 'Verdict', -67.66090463399087, -71.61465148118077),\n",
       " ('Mjolnir', 'Dark Matter', -115.10054550833593, -190.12224077822793),\n",
       " ('Mjolnir', 'Comet', -130.02253635088528, -110.63818744394666),\n",
       " ('Verdict[H]', 'Verdict', -153.6110583706777, -191.6863513976241),\n",
       " ('Mjolnir', 'DMC-Agi', -195.98706632454014, -214.70815138193757),\n",
       " ('Mjolnir', 'DMC-Str', -207.7345293350536, -220.78749875799986),\n",
       " ('Dark Matter', 'Verdict[H]', -218.19503527967026, -291.1666194481022),\n",
       " ('Verdict[H]', 'Comet', -220.4666917997729, -201.24579585657193)]"
      ]
     },
     "execution_count": 5,
     "metadata": {},
     "output_type": "execute_result"
    }
   ],
   "source": [
    "import util\n",
    "names = dict(zip(trinkets, trinket_names))\n",
    "[('Trink1', 'Trink2', 'P2', 'P3')] + \\\n",
    "    [(names[r[0]], names[r[1]], r[2]-results[0][2], r[3]-results[0][3]) for r in results][:9]"
   ]
  }
 ],
 "metadata": {
  "kernelspec": {
   "display_name": "tts39",
   "language": "python",
   "name": "python3"
  },
  "language_info": {
   "codemirror_mode": {
    "name": "ipython",
    "version": 3
   },
   "file_extension": ".py",
   "mimetype": "text/x-python",
   "name": "python",
   "nbconvert_exporter": "python",
   "pygments_lexer": "ipython3",
   "version": "3.9.16"
  },
  "orig_nbformat": 4
 },
 "nbformat": 4,
 "nbformat_minor": 2
}
