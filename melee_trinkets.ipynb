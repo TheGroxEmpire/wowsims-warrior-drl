{
 "cells": [
  {
   "cell_type": "code",
   "execution_count": 1,
   "metadata": {},
   "outputs": [],
   "source": [
    "import wowsims\n",
    "from specs import *"
   ]
  },
  {
   "cell_type": "code",
   "execution_count": 2,
   "metadata": {},
   "outputs": [],
   "source": [
    "trinkets = [45931, 46038, 47131, 45609, 47115, 47734, 47946, 47948, 44253, 42987]\n",
    "trinket_names = ['Mjolnir', 'Dark Matter', 'Verdict[H]', 'Comet', 'Verdict', 'Supremacy', 'Volatile', 'Victor[H]', 'DMC-Agi', 'DMC-Str']\n",
    "def trinket_itr():\n",
    "    for i in range(len(trinkets)-1):\n",
    "        for j in range(i+1, len(trinkets)):\n",
    "            # Heroic and normal versions of the same trinket are unique-equipped\n",
    "            if trinkets[i] == 47131 and trinkets[j] == 47115:\n",
    "                continue\n",
    "            yield (trinkets[i], trinkets[j])"
   ]
  },
  {
   "cell_type": "code",
   "execution_count": 3,
   "metadata": {},
   "outputs": [],
   "source": [
    "items = items_for_phase('p2')"
   ]
  },
  {
   "cell_type": "code",
   "execution_count": null,
   "metadata": {},
   "outputs": [],
   "source": [
    "results = []\n",
    "for spec in SPEC_NAMES:\n",
    "    settings = settings_for_spec(spec)\n",
    "    set_items(settings, items[spec])\n",
    "    for t in trinket_itr():\n",
    "        set_trinkets(settings, t)\n",
    "        result = wowsims.runSim(settings)\n",
    "        results.append((spec, t, result['raidMetrics']['dps']['avg']))"
   ]
  },
  {
   "cell_type": "code",
   "execution_count": 25,
   "metadata": {},
   "outputs": [
    {
     "data": {
      "text/html": [
       "<table><tr><td><td>fury</td><td><td>Mjolnir</td><td>Verdict[H]</td><td>0</td></td><td>&gt;</td><td><td>Mjolnir</td><td>Verdict</td><td>-83</td></td><td>&gt;</td><td><td>Mjolnir</td><td>Comet</td><td>-139</td></td><td></tr><tr><td><td>assassin</td><td><td>Verdict[H]</td><td>Comet</td><td>0</td></td><td>&gt;</td><td><td>Comet</td><td>Verdict</td><td>-80</td></td><td>&gt;</td><td><td>Dark Matter</td><td>Comet</td><td>-142</td></td><td></tr><tr><td><td>feral</td><td><td>Mjolnir</td><td>Verdict[H]</td><td>0</td></td><td>&gt;</td><td><td>Mjolnir</td><td>Verdict</td><td>-71</td></td><td>&gt;</td><td><td>Mjolnir</td><td>Dark Matter</td><td>-120</td></td><td></tr><tr><td><td>combat</td><td><td>Verdict[H]</td><td>Comet</td><td>0</td></td><td>&gt;</td><td><td>Dark Matter</td><td>Verdict[H]</td><td>-64</td></td><td>&gt;</td><td><td>Mjolnir</td><td>Verdict[H]</td><td>-68</td></td><td></tr><tr><td><td>frost</td><td><td>Mjolnir</td><td>Verdict[H]</td><td>0</td></td><td>&gt;</td><td><td>Verdict[H]</td><td>Comet</td><td>-63</td></td><td>&gt;</td><td><td>Verdict[H]</td><td>DMC-Str</td><td>-81</td></td><td></tr><tr><td><td>mm</td><td><td>Mjolnir</td><td>Verdict[H]</td><td>0</td></td><td>&gt;</td><td><td>Dark Matter</td><td>Verdict[H]</td><td>-57</td></td><td>&gt;</td><td><td>Mjolnir</td><td>Verdict</td><td>-65</td></td><td></tr><tr><td><td>enhance</td><td><td>Verdict[H]</td><td>Comet</td><td>0</td></td><td>&gt;</td><td><td>Comet</td><td>Verdict</td><td>-54</td></td><td>&gt;</td><td><td>Dark Matter</td><td>Comet</td><td>-55</td></td><td></tr><tr><td><td>dw_unholy</td><td><td>Verdict[H]</td><td>Comet</td><td>0</td></td><td>&gt;</td><td><td>Verdict[H]</td><td>DMC-Str</td><td>-36</td></td><td>&gt;</td><td><td>Comet</td><td>Verdict</td><td>-98</td></td><td></tr><tr><td><td>surv</td><td><td>Verdict[H]</td><td>DMC-Agi</td><td>0</td></td><td>&gt;</td><td><td>Dark Matter</td><td>Verdict[H]</td><td>-30</td></td><td>&gt;</td><td><td>Mjolnir</td><td>Verdict[H]</td><td>-53</td></td><td></tr><tr><td><td>ret</td><td><td>Verdict[H]</td><td>DMC-Str</td><td>0</td></td><td>&gt;</td><td><td>Verdict[H]</td><td>Comet</td><td>-27</td></td><td>&gt;</td><td><td>Dark Matter</td><td>Verdict[H]</td><td>-66</td></td><td></tr></table>"
      ],
      "text/plain": [
       "[('fury',\n",
       "  ('Mjolnir', 'Verdict[H]', 0.0),\n",
       "  '>',\n",
       "  ('Mjolnir', 'Verdict', -82.65575214989076),\n",
       "  '>',\n",
       "  ('Mjolnir', 'Comet', -139.2713604339533)),\n",
       " ('assassin',\n",
       "  ('Verdict[H]', 'Comet', 0.0),\n",
       "  '>',\n",
       "  ('Comet', 'Verdict', -80.188557890644),\n",
       "  '>',\n",
       "  ('Dark Matter', 'Comet', -142.02555013599704)),\n",
       " ('feral',\n",
       "  ('Mjolnir', 'Verdict[H]', 0.0),\n",
       "  '>',\n",
       "  ('Mjolnir', 'Verdict', -71.10806449798656),\n",
       "  '>',\n",
       "  ('Mjolnir', 'Dark Matter', -120.08588428269832)),\n",
       " ('combat',\n",
       "  ('Verdict[H]', 'Comet', 0.0),\n",
       "  '>',\n",
       "  ('Dark Matter', 'Verdict[H]', -63.712852599339385),\n",
       "  '>',\n",
       "  ('Mjolnir', 'Verdict[H]', -67.98865164209928)),\n",
       " ('frost',\n",
       "  ('Mjolnir', 'Verdict[H]', 0.0),\n",
       "  '>',\n",
       "  ('Verdict[H]', 'Comet', -63.013509319547666),\n",
       "  '>',\n",
       "  ('Verdict[H]', 'DMC-Str', -81.44491052646299)),\n",
       " ('mm',\n",
       "  ('Mjolnir', 'Verdict[H]', 0.0),\n",
       "  '>',\n",
       "  ('Dark Matter', 'Verdict[H]', -57.224188221058284),\n",
       "  '>',\n",
       "  ('Mjolnir', 'Verdict', -65.08125756632035)),\n",
       " ('enhance',\n",
       "  ('Verdict[H]', 'Comet', 0.0),\n",
       "  '>',\n",
       "  ('Comet', 'Verdict', -53.653492711586296),\n",
       "  '>',\n",
       "  ('Dark Matter', 'Comet', -54.82372748011949)),\n",
       " ('dw_unholy',\n",
       "  ('Verdict[H]', 'Comet', 0.0),\n",
       "  '>',\n",
       "  ('Verdict[H]', 'DMC-Str', -36.06944612687403),\n",
       "  '>',\n",
       "  ('Comet', 'Verdict', -98.01531101903493)),\n",
       " ('surv',\n",
       "  ('Verdict[H]', 'DMC-Agi', 0.0),\n",
       "  '>',\n",
       "  ('Dark Matter', 'Verdict[H]', -30.18937401610856),\n",
       "  '>',\n",
       "  ('Mjolnir', 'Verdict[H]', -53.29612805623583)),\n",
       " ('ret',\n",
       "  ('Verdict[H]', 'DMC-Str', 0.0),\n",
       "  '>',\n",
       "  ('Verdict[H]', 'Comet', -27.024877590192773),\n",
       "  '>',\n",
       "  ('Dark Matter', 'Verdict[H]', -65.75311792132197))]"
      ]
     },
     "execution_count": 25,
     "metadata": {},
     "output_type": "execute_result"
    }
   ],
   "source": [
    "import util\n",
    "names = dict(zip(trinkets, trinket_names))\n",
    "trinket_values = {}\n",
    "for spec in SPEC_NAMES:\n",
    "    row = [(s, t, r) for s, t, r in filter(lambda s: s[0] == spec, results)]\n",
    "    row.sort(key=lambda s: s[2], reverse=True)\n",
    "    trinket_values[spec] = [(names[t1], names[t2], dps-row[0][2]) for s, (t1, t2), dps in row[:3]]\n",
    "\n",
    "comp = [(spec, rows[0], \">\", rows[1], \">\", rows[2]) for spec, rows in trinket_values.items()]\n",
    "comp.sort(key=lambda r: r[3][2])\n",
    "comp"
   ]
  }
 ],
 "metadata": {
  "kernelspec": {
   "display_name": "tts39",
   "language": "python",
   "name": "python3"
  },
  "language_info": {
   "codemirror_mode": {
    "name": "ipython",
    "version": 3
   },
   "file_extension": ".py",
   "mimetype": "text/x-python",
   "name": "python",
   "nbconvert_exporter": "python",
   "pygments_lexer": "ipython3",
   "version": "3.9.16"
  },
  "orig_nbformat": 4
 },
 "nbformat": 4,
 "nbformat_minor": 2
}
