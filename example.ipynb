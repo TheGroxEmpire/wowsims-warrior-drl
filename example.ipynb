{
 "cells": [
  {
   "cell_type": "code",
   "execution_count": 9,
   "metadata": {},
   "outputs": [],
   "source": [
    "import json\n",
    "import numpy as np\n",
    "import wowsims"
   ]
  },
  {
   "attachments": {},
   "cell_type": "markdown",
   "metadata": {},
   "source": [
    "This example loads simulation settings for a fearl druid.\n",
    "These are stored in a json file that is included in the repository."
   ]
  },
  {
   "cell_type": "code",
   "execution_count": 10,
   "metadata": {},
   "outputs": [],
   "source": [
    "f = open('data/feral.json')\n",
    "settings = json.load(f)"
   ]
  },
  {
   "attachments": {},
   "cell_type": "markdown",
   "metadata": {},
   "source": [
    "The easiest way to reset a simulation, for now, is to create a new one.\n",
    "To do that, the settings json is encoded as a utf-8 string and passed as input to `new`."
   ]
  },
  {
   "cell_type": "code",
   "execution_count": 11,
   "metadata": {},
   "outputs": [],
   "source": [
    "def reset():\n",
    "    wowsims.new(json.dumps(settings).encode('utf-8'))"
   ]
  },
  {
   "attachments": {},
   "cell_type": "markdown",
   "metadata": {},
   "source": [
    "The sim library currently ignores the iteration parameter in the settings to better support interactive mode (see a few cells down).\n",
    "The following code is an example of how to run multiple iterations in this environment."
   ]
  },
  {
   "cell_type": "code",
   "execution_count": null,
   "metadata": {},
   "outputs": [],
   "source": [
    "iterations = settings['simOptions']['iterations']\n",
    "duration = settings['encounter']['duration']"
   ]
  },
  {
   "cell_type": "code",
   "execution_count": 14,
   "metadata": {},
   "outputs": [
    {
     "name": "stdout",
     "output_type": "stream",
     "text": [
      "Average DPS: 10532.8224523183\n"
     ]
    }
   ],
   "source": [
    "settings['simOptions']['interactive'] = False\n",
    "damages = np.array([])\n",
    "\n",
    "for i in range(iterations):\n",
    "    reset()\n",
    "    while not wowsims.step():\n",
    "        pass\n",
    "    totalDamage = wowsims.getDamageDone()\n",
    "    damages = np.append(damages, totalDamage)\n",
    "\n",
    "print(f'Average DPS: {damages.mean() / duration}')"
   ]
  },
  {
   "attachments": {},
   "cell_type": "markdown",
   "metadata": {},
   "source": [
    "Interactive mode is a way to provide input to the sim while it is running.\n",
    "This can be used, for example, as a way to test rotation ideas.\n",
    "Because interactive mode is enabled, the code below does nothing other than auto attack."
   ]
  },
  {
   "cell_type": "code",
   "execution_count": 13,
   "metadata": {},
   "outputs": [
    {
     "name": "stdout",
     "output_type": "stream",
     "text": [
      "Average DPS: 2165.7281271220236\n"
     ]
    }
   ],
   "source": [
    "settings['simOptions']['interactive'] = True\n",
    "damages = np.array([])\n",
    "\n",
    "for i in range(iterations):\n",
    "    reset()\n",
    "    while not wowsims.step():\n",
    "        pass\n",
    "    totalDamage = wowsims.getDamageDone()\n",
    "    damages = np.append(damages, totalDamage)\n",
    "\n",
    "print(f'Average DPS: {damages.mean() / duration}')"
   ]
  },
  {
   "attachments": {},
   "cell_type": "markdown",
   "metadata": {},
   "source": [
    "The next run uses the shred spell when it can.\n",
    "Spells are accesed via the casting character's spellbook.\n",
    "In this case, we have a help file `feral.py` that defines some globals for the spells we are interested in."
   ]
  },
  {
   "cell_type": "code",
   "execution_count": 17,
   "metadata": {},
   "outputs": [
    {
     "name": "stdout",
     "output_type": "stream",
     "text": [
      "Average DPS: 4460.278852687831\n"
     ]
    }
   ],
   "source": [
    "from feral import Spells\n",
    "\n",
    "Spells.register()\n",
    "\n",
    "settings['simOptions']['interactive'] = True\n",
    "damages = np.array([])\n",
    "\n",
    "for i in range(iterations):\n",
    "    reset()\n",
    "    while not wowsims.step():\n",
    "        if wowsims.needsInput():\n",
    "            wowsims.trySpell(Spells.Shred)\n",
    "    totalDamage = wowsims.getDamageDone()\n",
    "    damages = np.append(damages, totalDamage)\n",
    "\n",
    "print(f'Average DPS: {damages.mean() / duration}')"
   ]
  }
 ],
 "metadata": {
  "kernelspec": {
   "display_name": "tts39",
   "language": "python",
   "name": "python3"
  },
  "language_info": {
   "codemirror_mode": {
    "name": "ipython",
    "version": 3
   },
   "file_extension": ".py",
   "mimetype": "text/x-python",
   "name": "python",
   "nbconvert_exporter": "python",
   "pygments_lexer": "ipython3",
   "version": "3.9.16"
  },
  "orig_nbformat": 4
 },
 "nbformat": 4,
 "nbformat_minor": 2
}
