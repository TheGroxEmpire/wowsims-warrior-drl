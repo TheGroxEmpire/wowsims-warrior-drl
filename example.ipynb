{
 "cells": [
  {
   "cell_type": "code",
   "execution_count": 9,
   "metadata": {},
   "outputs": [],
   "source": [
    "import json\n",
    "import numpy as np\n",
    "import wowsims"
   ]
  },
  {
   "attachments": {},
   "cell_type": "markdown",
   "metadata": {},
   "source": [
    "This example loads simulation settings for a fearl druid.\n",
    "These are stored in a json file that is included in the repository."
   ]
  },
  {
   "cell_type": "code",
   "execution_count": 10,
   "metadata": {},
   "outputs": [],
   "source": [
    "f = open('data/feral.json')\n",
    "settings = json.load(f)"
   ]
  },
  {
   "attachments": {},
   "cell_type": "markdown",
   "metadata": {},
   "source": [
    "The easiest way to reset a simulation, for now, is to create a new one.\n",
    "To do that, the settings json is encoded as a utf-8 string and passed as input to `new`."
   ]
  },
  {
   "cell_type": "code",
   "execution_count": 11,
   "metadata": {},
   "outputs": [],
   "source": [
    "def reset():\n",
    "    wowsims.new(json.dumps(settings).encode('utf-8'))"
   ]
  },
  {
   "attachments": {},
   "cell_type": "markdown",
   "metadata": {},
   "source": [
    "The sim library currently ignores the iteration parameter in the settings to better support interactive mode (see a few cells down).\n",
    "The following code is an example of how to run multiple iterations in this environment."
   ]
  },
  {
   "cell_type": "code",
   "execution_count": 12,
   "metadata": {},
   "outputs": [],
   "source": [
    "iterations = settings['simOptions']['iterations']\n",
    "duration = settings['encounter']['duration']"
   ]
  },
  {
   "cell_type": "code",
   "execution_count": 13,
   "metadata": {},
   "outputs": [
    {
     "name": "stdout",
     "output_type": "stream",
     "text": [
      "Average DPS: 10548.091761180927\n"
     ]
    }
   ],
   "source": [
    "settings['simOptions']['interactive'] = False\n",
    "damages = np.array([])\n",
    "\n",
    "for i in range(iterations):\n",
    "    reset()\n",
    "    while not wowsims.step():\n",
    "        pass\n",
    "    totalDamage = wowsims.getDamageDone()\n",
    "    damages = np.append(damages, totalDamage)\n",
    "\n",
    "print(f'Average DPS: {damages.mean() / duration}')"
   ]
  },
  {
   "attachments": {},
   "cell_type": "markdown",
   "metadata": {},
   "source": [
    "Interactive mode is a way to provide input to the sim while it is running.\n",
    "This can be used, for example, as a way to test rotation ideas.\n",
    "Because interactive mode is enabled, the code below does nothing other than auto attack."
   ]
  },
  {
   "cell_type": "code",
   "execution_count": 14,
   "metadata": {},
   "outputs": [
    {
     "name": "stdout",
     "output_type": "stream",
     "text": [
      "Average DPS: 2180.8624313585433\n"
     ]
    }
   ],
   "source": [
    "settings['simOptions']['interactive'] = True\n",
    "damages = np.array([])\n",
    "\n",
    "for i in range(iterations):\n",
    "    reset()\n",
    "    while not wowsims.step():\n",
    "        pass\n",
    "    totalDamage = wowsims.getDamageDone()\n",
    "    damages = np.append(damages, totalDamage)\n",
    "\n",
    "print(f'Average DPS: {damages.mean() / duration}')"
   ]
  },
  {
   "attachments": {},
   "cell_type": "markdown",
   "metadata": {},
   "source": [
    "The next run uses the shred spell when it can.\n",
    "Spells are accesed via the casting character's spellbook.\n",
    "In this case, we have a help file `feral.py` that defines some globals for the spells we are interested in."
   ]
  },
  {
   "cell_type": "code",
   "execution_count": 15,
   "metadata": {},
   "outputs": [
    {
     "name": "stdout",
     "output_type": "stream",
     "text": [
      "Average DPS: 4465.983277973895\n"
     ]
    }
   ],
   "source": [
    "from feral import Spells\n",
    "\n",
    "Spells.register()\n",
    "\n",
    "settings['simOptions']['interactive'] = True\n",
    "damages = np.array([])\n",
    "\n",
    "for i in range(iterations):\n",
    "    reset()\n",
    "    while not wowsims.step():\n",
    "        if wowsims.needsInput():\n",
    "            wowsims.trySpell(Spells.Shred)\n",
    "    totalDamage = wowsims.getDamageDone()\n",
    "    damages = np.append(damages, totalDamage)\n",
    "\n",
    "print(f'Average DPS: {damages.mean() / duration}')"
   ]
  },
  {
   "attachments": {},
   "cell_type": "markdown",
   "metadata": {},
   "source": [
    "For more complex input logic having some context would be helpful.\n",
    "The `feral.py` file also contains some aura labels and registers them with the sim. "
   ]
  },
  {
   "cell_type": "code",
   "execution_count": 16,
   "metadata": {},
   "outputs": [
    {
     "name": "stdout",
     "output_type": "stream",
     "text": [
      "Average DPS: 6196.483754958636\n"
     ]
    }
   ],
   "source": [
    "from feral import Auras, TargetAuras\n",
    "\n",
    "Auras.register()\n",
    "TargetAuras.register()\n",
    "\n",
    "settings['simOptions']['interactive'] = True\n",
    "damages = np.array([])\n",
    "\n",
    "for i in range(iterations):\n",
    "    reset()\n",
    "    while not wowsims.step():\n",
    "        if wowsims.needsInput():\n",
    "            Auras.update()\n",
    "            TargetAuras.update()\n",
    "            eng = wowsims.getEnergy()\n",
    "            cp = wowsims.getComboPoints()\n",
    "            if cp > 0 and Auras.get_dur('Savage Roar Aura') <= 0.5:\n",
    "                wowsims.trySpell(Spells.Roar)\n",
    "            elif cp < 5:\n",
    "                wowsims.trySpell(Spells.Shred)\n",
    "            else:\n",
    "                wowsims.trySpell(Spells.Bite)\n",
    "\n",
    "    totalDamage = wowsims.getDamageDone()\n",
    "    damages = np.append(damages, totalDamage)\n",
    "\n",
    "print(f'Average DPS: {damages.mean() / duration}')"
   ]
  },
  {
   "attachments": {},
   "cell_type": "markdown",
   "metadata": {},
   "source": [
    "The examples so far have only looked at damage output.\n",
    "More detailed spell metrics are also available."
   ]
  },
  {
   "cell_type": "code",
   "execution_count": 19,
   "metadata": {},
   "outputs": [
    {
     "name": "stdout",
     "output_type": "stream",
     "text": [
      "0: {'Casts': 269, 'Misses': 6, 'Hits': 35, 'Crits': 169, 'Crushes': 0, 'Dodges': 0, 'Glances': 59, 'Parries': 0, 'Blocks': 0, 'TotalDamage': 535870.7472940217, 'TotalThreat': 380468.23057875555, 'TotalHealing': 0, 'TotalShielding': 0, 'TotalCastTime': 0}\n",
      "48572: {'Casts': 48, 'Misses': 0, 'Hits': 24, 'Crits': 24, 'Crushes': 0, 'Dodges': 0, 'Glances': 0, 'Parries': 0, 'Blocks': 0, 'TotalDamage': 346533.49303743814, 'TotalThreat': 246038.78005658096, 'TotalHealing': 0, 'TotalShielding': 0, 'TotalCastTime': 48000000000}\n",
      "48577: {'Casts': 9, 'Misses': 0, 'Hits': 2, 'Crits': 7, 'Crushes': 0, 'Dodges': 0, 'Glances': 0, 'Parries': 0, 'Blocks': 0, 'TotalDamage': 171809.8370161166, 'TotalThreat': 121984.98428144275, 'TotalHealing': 0, 'TotalShielding': 0, 'TotalCastTime': 9000000000}\n",
      "52610: {'Casts': 9, 'Misses': 0, 'Hits': 0, 'Crits': 0, 'Crushes': 0, 'Dodges': 0, 'Glances': 0, 'Parries': 0, 'Blocks': 0, 'TotalDamage': 0, 'TotalThreat': 0, 'TotalHealing': 0, 'TotalShielding': 0, 'TotalCastTime': 9000000000}\n"
     ]
    }
   ],
   "source": [
    "settings['simOptions']['interactive'] = False\n",
    "\n",
    "while not wowsims.step():\n",
    "    pass\n",
    "json_string = wowsims.getSpellMetrics()\n",
    "cast_metrics = json.loads(json_string)\n",
    "for spell_id, metrics in cast_metrics.items():\n",
    "    # Only one target, so we can just take the first one\n",
    "    print(f'{spell_id}: {metrics[0]}')"
   ]
  }
 ],
 "metadata": {
  "kernelspec": {
   "display_name": "tts39",
   "language": "python",
   "name": "python3"
  },
  "language_info": {
   "codemirror_mode": {
    "name": "ipython",
    "version": 3
   },
   "file_extension": ".py",
   "mimetype": "text/x-python",
   "name": "python",
   "nbconvert_exporter": "python",
   "pygments_lexer": "ipython3",
   "version": "3.9.16"
  },
  "orig_nbformat": 4
 },
 "nbformat": 4,
 "nbformat_minor": 2
}
