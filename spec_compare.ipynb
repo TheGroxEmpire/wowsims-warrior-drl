{
 "cells": [
  {
   "cell_type": "code",
   "execution_count": 1,
   "metadata": {},
   "outputs": [],
   "source": [
    "import json\n",
    "import wowsims\n",
    "import util"
   ]
  },
  {
   "cell_type": "code",
   "execution_count": 2,
   "metadata": {},
   "outputs": [],
   "source": [
    "settings = [\n",
    "    ('Rogue (Mutilate)', json.load(open('data/p4_assassination.json'))),\n",
    "    ('Rogue (Combat)', json.load(open('data/p4_combat.json'))),\n",
    "    ('Druid (Cat)', json.load(open('data/p4_feral.json'))),\n",
    "    ('Death Knight (Unholy)', json.load(open('data/p4_dw_unholy.json'))),\n",
    "    ('Warrior (Fury)', json.load(open('data/p4_fury.json'))),\n",
    "    ('Hunter (Marks)', json.load(open('data/p4_mm.json'))),\n",
    "    ('Hunter (Surv)', json.load(open('data/p4_sv.json'))),\n",
    "    ('Paladin (Ret)', json.load(open('data/p4_ret.json'))),\n",
    "]"
   ]
  },
  {
   "cell_type": "code",
   "execution_count": 3,
   "metadata": {},
   "outputs": [
    {
     "data": {
      "text/html": [
       "<table><tr><td><td>Druid (Cat)</td><td>16835</td><td></tr><tr><td><td>Warrior (Fury)</td><td>15867</td><td></tr><tr><td><td>Hunter (Marks)</td><td>15800</td><td></tr><tr><td><td>Hunter (Surv)</td><td>15159</td><td></tr><tr><td><td>Paladin (Ret)</td><td>14881</td><td></tr><tr><td><td>Rogue (Combat)</td><td>14304</td><td></tr><tr><td><td>Rogue (Mutilate)</td><td>14206</td><td></tr><tr><td><td>Death Knight (Unholy)</td><td>13941</td><td></tr></table>"
      ],
      "text/plain": [
       "[('Druid (Cat)', 16835.21813829415),\n",
       " ('Warrior (Fury)', 15866.767220690985),\n",
       " ('Hunter (Marks)', 15800.348420211234),\n",
       " ('Hunter (Surv)', 15158.975730608883),\n",
       " ('Paladin (Ret)', 14881.165251675162),\n",
       " ('Rogue (Combat)', 14304.335849245685),\n",
       " ('Rogue (Mutilate)', 14206.111381675075),\n",
       " ('Death Knight (Unholy)', 13940.69544935913)]"
      ]
     },
     "execution_count": 3,
     "metadata": {},
     "output_type": "execute_result"
    }
   ],
   "source": [
    "results = [(name, wowsims.runSim(setting)['raidMetrics']['dps']['avg']) for name, setting in settings]\n",
    "results.sort(key=lambda x: x[1], reverse=True)\n",
    "results"
   ]
  }
 ],
 "metadata": {
  "kernelspec": {
   "display_name": "tts39",
   "language": "python",
   "name": "python3"
  },
  "language_info": {
   "codemirror_mode": {
    "name": "ipython",
    "version": 3
   },
   "file_extension": ".py",
   "mimetype": "text/x-python",
   "name": "python",
   "nbconvert_exporter": "python",
   "pygments_lexer": "ipython3",
   "version": "3.9.16"
  },
  "orig_nbformat": 4
 },
 "nbformat": 4,
 "nbformat_minor": 2
}
