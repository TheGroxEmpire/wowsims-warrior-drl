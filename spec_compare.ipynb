{
 "cells": [
  {
   "cell_type": "code",
   "execution_count": 7,
   "metadata": {},
   "outputs": [],
   "source": [
    "import json\n",
    "import wowsims\n",
    "import util\n",
    "from tqdm import tqdm"
   ]
  },
  {
   "cell_type": "code",
   "execution_count": 4,
   "metadata": {},
   "outputs": [],
   "source": [
    "settings = [\n",
    "    ('Rogue (Mutilate)', json.load(open('data/p4_assassin.json'))),\n",
    "    ('Rogue (Combat)', json.load(open('data/p4_combat.json'))),\n",
    "    ('Druid (Cat)', json.load(open('data/p4_feral.json'))),\n",
    "    ('Death Knight (Unholy)', json.load(open('data/p4_dw_unholy.json'))),\n",
    "    ('Warrior (Fury)', json.load(open('data/p4_fury.json'))),\n",
    "    ('Hunter (Marks)', json.load(open('data/p4_mm.json'))),\n",
    "    ('Hunter (Surv)', json.load(open('data/p4_surv.json'))),\n",
    "    ('Paladin (Ret)', json.load(open('data/p4_ret.json'))),\n",
    "]"
   ]
  },
  {
   "cell_type": "code",
   "execution_count": 8,
   "metadata": {},
   "outputs": [
    {
     "name": "stderr",
     "output_type": "stream",
     "text": [
      "100%|██████████| 8/8 [00:15<00:00,  1.96s/it]\n"
     ]
    },
    {
     "data": {
      "text/html": [
       "<table><tr><td><td>Druid (Cat)</td><td>16835</td><td></tr><tr><td><td>Warrior (Fury)</td><td>15843</td><td></tr><tr><td><td>Hunter (Marks)</td><td>15800</td><td></tr><tr><td><td>Hunter (Surv)</td><td>15159</td><td></tr><tr><td><td>Paladin (Ret)</td><td>14881</td><td></tr><tr><td><td>Rogue (Combat)</td><td>14416</td><td></tr><tr><td><td>Rogue (Mutilate)</td><td>14206</td><td></tr><tr><td><td>Death Knight (Unholy)</td><td>13953</td><td></tr></table>"
      ],
      "text/plain": [
       "[('Druid (Cat)', 16835.21813829415),\n",
       " ('Warrior (Fury)', 15842.544241568596),\n",
       " ('Hunter (Marks)', 15800.348420211234),\n",
       " ('Hunter (Surv)', 15158.975730608883),\n",
       " ('Paladin (Ret)', 14881.165251675162),\n",
       " ('Rogue (Combat)', 14416.068447945985),\n",
       " ('Rogue (Mutilate)', 14206.111381675075),\n",
       " ('Death Knight (Unholy)', 13953.452359815776)]"
      ]
     },
     "execution_count": 8,
     "metadata": {},
     "output_type": "execute_result"
    }
   ],
   "source": [
    "results = [(name, wowsims.runSim(setting)['raidMetrics']['dps']['avg']) for name, setting in tqdm(settings)]\n",
    "results.sort(key=lambda x: x[1], reverse=True)\n",
    "results"
   ]
  }
 ],
 "metadata": {
  "kernelspec": {
   "display_name": "tts39",
   "language": "python",
   "name": "python3"
  },
  "language_info": {
   "codemirror_mode": {
    "name": "ipython",
    "version": 3
   },
   "file_extension": ".py",
   "mimetype": "text/x-python",
   "name": "python",
   "nbconvert_exporter": "python",
   "pygments_lexer": "ipython3",
   "version": "3.9.12"
  },
  "orig_nbformat": 4
 },
 "nbformat": 4,
 "nbformat_minor": 2
}
