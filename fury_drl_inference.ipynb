{
 "cells": [
  {
   "cell_type": "code",
   "execution_count": 1,
   "metadata": {},
   "outputs": [
    {
     "name": "stderr",
     "output_type": "stream",
     "text": [
      "c:\\ProgramData\\Anaconda3\\envs\\civ6_rl_rllib\\lib\\site-packages\\tqdm\\auto.py:21: TqdmWarning: IProgress not found. Please update jupyter and ipywidgets. See https://ipywidgets.readthedocs.io/en/stable/user_install.html\n",
      "  from .autonotebook import tqdm as notebook_tqdm\n"
     ]
    }
   ],
   "source": [
    "import json\n",
    "import numpy as np\n",
    "from tqdm import tqdm\n",
    "from ray.rllib.algorithms.ppo import PPOConfig\n",
    "from ray.tune.registry import register_env\n",
    "from fury_sim_env import FurySimEnv\n",
    "from gymnasium import make\n",
    "from gymnasium.envs.registration import register\n",
    "from gymnasium.wrappers import FrameStack\n",
    "from fury import *\n",
    "\n",
    "spell_id_lists = {\n",
    "        '0' : \"Melee\",\n",
    "        '23881' : \"Bloodthirst\",\n",
    "        '1680' : \"Whirlwind\",\n",
    "        '47475' : \"Slam\",\n",
    "        '47450' : \"Heroic Strike\",\n",
    "        '47471' : \"Execute\",\n",
    "        '12867': \"Deep Wounds\",\n",
    "        '12292' : \"Death Wish\",\n",
    "        '1719' : \"Recklessness\",\n",
    "        '64382' : \"Shattering Throw\",\n",
    "        '54758' : \"Engi Gloves\",\n",
    "        '2457' : \"Battle Stance\",\n",
    "        '2458' : \"Berserker Stance\",\n",
    "        '2687' : 'Bloodrage',\n",
    "        '2825' : 'Bloodlust',\n",
    "        '47465': 'Rend',\n",
    "        '7384': 'Overpower',\n",
    "        '44949': 'Whirlwind OH',\n",
    "}"
   ]
  },
  {
   "attachments": {},
   "cell_type": "markdown",
   "metadata": {},
   "source": [
    "# Load Fury Raid Sim Request JSON"
   ]
  },
  {
   "cell_type": "code",
   "execution_count": 2,
   "metadata": {},
   "outputs": [],
   "source": [
    "f = open('data/fury-human-bis-p3.json')\n",
    "settings = json.load(f)"
   ]
  },
  {
   "attachments": {},
   "cell_type": "markdown",
   "metadata": {},
   "source": [
    "# Set environment and settings"
   ]
  },
  {
   "cell_type": "code",
   "execution_count": 3,
   "metadata": {},
   "outputs": [],
   "source": [
    "def reset():\n",
    "    wowsims.new(json.dumps(settings).encode('utf-8'))\n",
    "\n",
    "\n",
    "# Iterations are currently capped at 3000\n",
    "iterations = settings['simOptions']['iterations']\n",
    "\n",
    "duration = settings['encounter']['duration']\n",
    "reset()"
   ]
  },
  {
   "attachments": {},
   "cell_type": "markdown",
   "metadata": {},
   "source": [
    "# Default sim agent\n",
    "Default sim agent is the hardcoded agent from the sim"
   ]
  },
  {
   "cell_type": "code",
   "execution_count": 4,
   "metadata": {},
   "outputs": [
    {
     "name": "stderr",
     "output_type": "stream",
     "text": [
      "100%|██████████| 3000/3000 [00:08<00:00, 333.70it/s]\n"
     ]
    }
   ],
   "source": [
    "settings['simOptions']['interactive'] = False\n",
    "damages = np.array([])\n",
    "\n",
    "for i in tqdm(range(iterations)):\n",
    "    reset()\n",
    "    while not wowsims.step():\n",
    "        pass\n",
    "    totalDamage = wowsims.getDamageDone()\n",
    "    damages = np.append(damages, totalDamage)"
   ]
  },
  {
   "cell_type": "code",
   "execution_count": 5,
   "metadata": {},
   "outputs": [
    {
     "name": "stdout",
     "output_type": "stream",
     "text": [
      "Melee: [1, 1, 1, 2, 9, 77]\n",
      "Death Wish: [2]\n",
      "Deep Wounds: [133]\n",
      "Whirlwind: [16]\n",
      "Recklessness: [1]\n",
      "Bloodthirst: [33]\n",
      "Battle Stance: [9]\n",
      "Berserker Stance: [9]\n",
      "Bloodrage: [4]\n",
      "Bloodlust: [1]\n",
      "Whirlwind OH: [16]\n",
      "Heroic Strike: [68]\n",
      "Rend: [4]\n",
      "Execute: [8]\n",
      "Slam: [19]\n",
      "Engi Gloves: [3]\n",
      "Shattering Throw: [1]\n",
      "Overpower: [5]\n",
      "Average DPS: 11891.96688184432\n"
     ]
    }
   ],
   "source": [
    "settings['simOptions']['interactive'] = False\n",
    "\n",
    "reset()\n",
    "while not wowsims.step():\n",
    "    pass\n",
    "    \n",
    "    \n",
    "cast_metrics = wowsims.getSpellMetrics()\n",
    "\n",
    "for spell_id, metrics in cast_metrics.items():\n",
    "    try:\n",
    "        spell_name = spell_id_lists[spell_id]\n",
    "    except KeyError as key:\n",
    "        spell_name = key\n",
    "    print(f\"{spell_name}: {[metric['Casts'] for metric in metrics]}\")\n",
    "\n",
    "print(f'Average DPS: {damages.mean() / duration}')"
   ]
  },
  {
   "attachments": {},
   "cell_type": "markdown",
   "metadata": {},
   "source": [
    "# PPO Agent"
   ]
  },
  {
   "attachments": {},
   "cell_type": "markdown",
   "metadata": {},
   "source": [
    "## Load Trained PPO Model"
   ]
  },
  {
   "cell_type": "code",
   "execution_count": 6,
   "metadata": {},
   "outputs": [
    {
     "name": "stderr",
     "output_type": "stream",
     "text": [
      "<>:14: DeprecationWarning: invalid escape sequence \\P\n",
      "2023-05-23 08:21:27,905\tINFO worker.py:1616 -- Started a local Ray instance. View the dashboard at \u001b[1m\u001b[32m127.0.0.1:8265 \u001b[39m\u001b[22m\n",
      "2023-05-23 08:21:33,874\tWARNING util.py:67 -- Install gputil for GPU system monitoring.\n",
      "\u001b[2m\u001b[36m(RolloutWorker pid=20292)\u001b[0m 2023-05-23 08:21:33,828\tWARNING env.py:155 -- Your env doesn't have a .spec.max_episode_steps attribute. Your horizon will default to infinity, and your environment will not be reset.\n"
     ]
    },
    {
     "ename": "ValueError",
     "evalue": "Given checkpoint (models\negative-failed-bloodsurge-reward\\PPO\\PPO_FurySimEnv_e5fd8_00000_0_2023-05-23_00-55-55\\checkpoint_000078) not found! Must be a checkpoint directory (or a file for older checkpoint versions).",
     "output_type": "error",
     "traceback": [
      "\u001b[1;31m---------------------------------------------------------------------------\u001b[0m",
      "\u001b[1;31mValueError\u001b[0m                                Traceback (most recent call last)",
      "\u001b[1;32md:\\Grox's Vault\\Laboratory\\Repos\\wowsims-warrior-drl\\fury_drl_inference.ipynb Cell 11\u001b[0m in \u001b[0;36m1\n\u001b[0;32m     <a href='vscode-notebook-cell:/d%3A/Grox%27s%20Vault/Laboratory/Repos/wowsims-warrior-drl/fury_drl_inference.ipynb#X13sZmlsZQ%3D%3D?line=9'>10</a>\u001b[0m \u001b[39m# env = FrameStack(env, num_stack=5)\u001b[39;00m\n\u001b[0;32m     <a href='vscode-notebook-cell:/d%3A/Grox%27s%20Vault/Laboratory/Repos/wowsims-warrior-drl/fury_drl_inference.ipynb#X13sZmlsZQ%3D%3D?line=11'>12</a>\u001b[0m algorithm \u001b[39m=\u001b[39m config\u001b[39m.\u001b[39mbuild(env\u001b[39m=\u001b[39m\u001b[39m\"\u001b[39m\u001b[39mFurySimEnv\u001b[39m\u001b[39m\"\u001b[39m)\n\u001b[1;32m---> <a href='vscode-notebook-cell:/d%3A/Grox%27s%20Vault/Laboratory/Repos/wowsims-warrior-drl/fury_drl_inference.ipynb#X13sZmlsZQ%3D%3D?line=13'>14</a>\u001b[0m algorithm\u001b[39m.\u001b[39;49mfrom_checkpoint(\u001b[39m\"\u001b[39;49m\u001b[39mmodels\u001b[39;49m\u001b[39m\\n\u001b[39;49;00m\u001b[39megative-failed-bloodsurge-reward\u001b[39;49m\u001b[39m\\\u001b[39;49m\u001b[39mPPO\u001b[39;49m\u001b[39m\\\u001b[39;49m\u001b[39mPPO_FurySimEnv_e5fd8_00000_0_2023-05-23_00-55-55\u001b[39;49m\u001b[39m\\\u001b[39;49m\u001b[39mcheckpoint_000078\u001b[39;49m\u001b[39m\"\u001b[39;49m)\n",
      "File \u001b[1;32mc:\\ProgramData\\Anaconda3\\envs\\civ6_rl_rllib\\lib\\site-packages\\ray\\rllib\\algorithms\\algorithm.py:253\u001b[0m, in \u001b[0;36mAlgorithm.from_checkpoint\u001b[1;34m(checkpoint, policy_ids, policy_mapping_fn, policies_to_train)\u001b[0m\n\u001b[0;32m    219\u001b[0m \u001b[39m@staticmethod\u001b[39m\n\u001b[0;32m    220\u001b[0m \u001b[39mdef\u001b[39;00m \u001b[39mfrom_checkpoint\u001b[39m(\n\u001b[0;32m    221\u001b[0m     checkpoint: Union[\u001b[39mstr\u001b[39m, Checkpoint],\n\u001b[1;32m   (...)\u001b[0m\n\u001b[0;32m    229\u001b[0m     ] \u001b[39m=\u001b[39m \u001b[39mNone\u001b[39;00m,\n\u001b[0;32m    230\u001b[0m ) \u001b[39m-\u001b[39m\u001b[39m>\u001b[39m \u001b[39m\"\u001b[39m\u001b[39mAlgorithm\u001b[39m\u001b[39m\"\u001b[39m:\n\u001b[0;32m    231\u001b[0m     \u001b[39m\"\"\"Creates a new algorithm instance from a given checkpoint.\u001b[39;00m\n\u001b[0;32m    232\u001b[0m \n\u001b[0;32m    233\u001b[0m \u001b[39m    Note: This method must remain backward compatible from 2.0.0 on.\u001b[39;00m\n\u001b[1;32m   (...)\u001b[0m\n\u001b[0;32m    251\u001b[0m \u001b[39m        The instantiated Algorithm.\u001b[39;00m\n\u001b[0;32m    252\u001b[0m \u001b[39m    \"\"\"\u001b[39;00m\n\u001b[1;32m--> 253\u001b[0m     checkpoint_info \u001b[39m=\u001b[39m get_checkpoint_info(checkpoint)\n\u001b[0;32m    255\u001b[0m     \u001b[39m# Not possible for (v0.1) (algo class and config information missing\u001b[39;00m\n\u001b[0;32m    256\u001b[0m     \u001b[39m# or very hard to retrieve).\u001b[39;00m\n\u001b[0;32m    257\u001b[0m     \u001b[39mif\u001b[39;00m checkpoint_info[\u001b[39m\"\u001b[39m\u001b[39mcheckpoint_version\u001b[39m\u001b[39m\"\u001b[39m] \u001b[39m==\u001b[39m version\u001b[39m.\u001b[39mVersion(\u001b[39m\"\u001b[39m\u001b[39m0.1\u001b[39m\u001b[39m\"\u001b[39m):\n",
      "File \u001b[1;32mc:\\ProgramData\\Anaconda3\\envs\\civ6_rl_rllib\\lib\\site-packages\\ray\\rllib\\utils\\checkpoints.py:170\u001b[0m, in \u001b[0;36mget_checkpoint_info\u001b[1;34m(checkpoint)\u001b[0m\n\u001b[0;32m    161\u001b[0m     info\u001b[39m.\u001b[39mupdate(\n\u001b[0;32m    162\u001b[0m         {\n\u001b[0;32m    163\u001b[0m             \u001b[39m\"\u001b[39m\u001b[39mcheckpoint_version\u001b[39m\u001b[39m\"\u001b[39m: version\u001b[39m.\u001b[39mVersion(\u001b[39m\"\u001b[39m\u001b[39m0.1\u001b[39m\u001b[39m\"\u001b[39m),\n\u001b[1;32m   (...)\u001b[0m\n\u001b[0;32m    166\u001b[0m         }\n\u001b[0;32m    167\u001b[0m     )\n\u001b[0;32m    169\u001b[0m \u001b[39melse\u001b[39;00m:\n\u001b[1;32m--> 170\u001b[0m     \u001b[39mraise\u001b[39;00m \u001b[39mValueError\u001b[39;00m(\n\u001b[0;32m    171\u001b[0m         \u001b[39mf\u001b[39m\u001b[39m\"\u001b[39m\u001b[39mGiven checkpoint (\u001b[39m\u001b[39m{\u001b[39;00mcheckpoint\u001b[39m}\u001b[39;00m\u001b[39m) not found! Must be a \u001b[39m\u001b[39m\"\u001b[39m\n\u001b[0;32m    172\u001b[0m         \u001b[39m\"\u001b[39m\u001b[39mcheckpoint directory (or a file for older checkpoint versions).\u001b[39m\u001b[39m\"\u001b[39m\n\u001b[0;32m    173\u001b[0m     )\n\u001b[0;32m    175\u001b[0m \u001b[39mreturn\u001b[39;00m info\n",
      "\u001b[1;31mValueError\u001b[0m: Given checkpoint (models\negative-failed-bloodsurge-reward\\PPO\\PPO_FurySimEnv_e5fd8_00000_0_2023-05-23_00-55-55\\checkpoint_000078) not found! Must be a checkpoint directory (or a file for older checkpoint versions)."
     ]
    }
   ],
   "source": [
    "config = PPOConfig()\\\n",
    "            .rollouts(num_rollout_workers=1)\n",
    "\n",
    "\n",
    "register(id=\"FurySimEnv\", entry_point=\"fury_sim_env:FurySimEnv\")\n",
    "env = make(\"FurySimEnv\")\n",
    "# env_creator = lambda config: FrameStack(env, num_stack=5)\n",
    "env_creator = lambda config: FurySimEnv(...)\n",
    "register_env(\"FurySimEnv\", env_creator=env_creator)\n",
    "# env = FrameStack(env, num_stack=5)\n",
    "\n",
    "algorithm = config.build(env=\"FurySimEnv\")\n",
    "\n",
    "algorithm.from_checkpoint(\"models\\\\negative-failed-bloodsurge-reward\\PPO\\PPO_FurySimEnv_e5fd8_00000_0_2023-05-23_00-55-55\\checkpoint_000078\")"
   ]
  },
  {
   "attachments": {},
   "cell_type": "markdown",
   "metadata": {},
   "source": [
    "## Run PPO Model"
   ]
  },
  {
   "cell_type": "code",
   "execution_count": null,
   "metadata": {},
   "outputs": [
    {
     "name": "stderr",
     "output_type": "stream",
     "text": [
      "100%|██████████| 3000/3000 [24:58<00:00,  2.00it/s]\n"
     ]
    }
   ],
   "source": [
    "num_iteration = 3000\n",
    "for i in tqdm(range(1, num_iteration+1)):\n",
    "    observation, info = env.reset()\n",
    "    terminated = False\n",
    "    dps_results = np.array([])\n",
    "    metrics_batch = []\n",
    "    debug_logs = []\n",
    "    debug_logs_batch = []\n",
    "    state_out = []\n",
    "    while not terminated:\n",
    "        action = algorithm.compute_single_action(observation)\n",
    "        observation, reward, terminated, truncated, info = env.step(action)\n",
    "        debug_logs.append(info['debug log'])\n",
    "    debug_logs_batch.append(debug_logs)\n",
    "    dps_results = np.append(dps_results, info['dps'])\n",
    "    metrics_batch.append(info['spell metrics'])"
   ]
  },
  {
   "cell_type": "code",
   "execution_count": null,
   "metadata": {},
   "outputs": [
    {
     "name": "stdout",
     "output_type": "stream",
     "text": [
      "Average DPS: 8817.386203732452\n",
      "Melee: [1, 23, 39]\n",
      "Death Wish: [1]\n",
      "Deep Wounds: [70]\n",
      "Whirlwind: [8]\n",
      "Recklessness: [1]\n",
      "Bloodthirst: [12]\n",
      "Bloodrage: [2]\n",
      "Bloodlust: [1]\n",
      "Whirlwind OH: [8]\n",
      "Heroic Strike: [16]\n",
      "Execute: [3]\n",
      "Slam: [16]\n",
      "Engi Gloves: [2]\n"
     ]
    }
   ],
   "source": [
    "median = np.argsort(dps_results)[len(dps_results)//2]\n",
    "print(f'Average DPS: {dps_results[median]}')\n",
    "\n",
    "cast_metrics = metrics_batch[median]\n",
    "for spell_id, metrics in cast_metrics.items():\n",
    "    # Only one target, so we can just take the first one\n",
    "    try:\n",
    "        spell_name = spell_id_lists[spell_id]\n",
    "    except KeyError as key:\n",
    "        spell_name = key\n",
    "    print(f\"{spell_name}: {[metric['Casts'] for metric in metrics]}\")"
   ]
  },
  {
   "attachments": {},
   "cell_type": "markdown",
   "metadata": {},
   "source": [
    "### Debug Log"
   ]
  },
  {
   "cell_type": "code",
   "execution_count": 18,
   "metadata": {},
   "outputs": [],
   "source": [
    "actions_id = {\n",
    "    0: \"Bloodthirst\", \n",
    "    1: \"Whirlwind\",\n",
    "    2: \"Slam\",\n",
    "    3: \"HeroicStrike\",\n",
    "    4: \"Execute\",\n",
    "    5: \"DeathWish\",\n",
    "    6: \"Recklessness\",\n",
    "    7: \"ShatteringThrow\",\n",
    "    8: \"Bloodrage\",\n",
    "    9: \"EngiGlove\",\n",
    "    10: \"Bloodlust\",\n",
    "    11: \"Idle\"\n",
    "}"
   ]
  },
  {
   "cell_type": "code",
   "execution_count": 19,
   "metadata": {},
   "outputs": [
    {
     "data": {
      "text/html": [
       "<div>\n",
       "<style scoped>\n",
       "    .dataframe tbody tr th:only-of-type {\n",
       "        vertical-align: middle;\n",
       "    }\n",
       "\n",
       "    .dataframe tbody tr th {\n",
       "        vertical-align: top;\n",
       "    }\n",
       "\n",
       "    .dataframe thead th {\n",
       "        text-align: right;\n",
       "    }\n",
       "</style>\n",
       "<table border=\"1\" class=\"dataframe\">\n",
       "  <thead>\n",
       "    <tr style=\"text-align: right;\">\n",
       "      <th></th>\n",
       "      <th>Timestamp</th>\n",
       "      <th>Action</th>\n",
       "      <th>Successful Cast</th>\n",
       "      <th>Damage Done</th>\n",
       "      <th>Total Damage Done</th>\n",
       "      <th>Rage</th>\n",
       "      <th>DPS</th>\n",
       "    </tr>\n",
       "  </thead>\n",
       "  <tbody>\n",
       "    <tr>\n",
       "      <th>0</th>\n",
       "      <td>0.000000</td>\n",
       "      <td>DeathWish</td>\n",
       "      <td>True</td>\n",
       "      <td>3034.868036</td>\n",
       "      <td>3034.868036</td>\n",
       "      <td>0.214065</td>\n",
       "      <td>inf</td>\n",
       "    </tr>\n",
       "    <tr>\n",
       "      <th>1</th>\n",
       "      <td>0.000000</td>\n",
       "      <td>DeathWish</td>\n",
       "      <td>False</td>\n",
       "      <td>0.000000</td>\n",
       "      <td>3034.868036</td>\n",
       "      <td>0.214065</td>\n",
       "      <td>inf</td>\n",
       "    </tr>\n",
       "    <tr>\n",
       "      <th>2</th>\n",
       "      <td>0.000000</td>\n",
       "      <td>Slam</td>\n",
       "      <td>False</td>\n",
       "      <td>0.000000</td>\n",
       "      <td>3034.868036</td>\n",
       "      <td>0.214065</td>\n",
       "      <td>inf</td>\n",
       "    </tr>\n",
       "    <tr>\n",
       "      <th>3</th>\n",
       "      <td>0.010000</td>\n",
       "      <td>Whirlwind</td>\n",
       "      <td>False</td>\n",
       "      <td>0.000000</td>\n",
       "      <td>3034.868036</td>\n",
       "      <td>0.214065</td>\n",
       "      <td>3.034868e+05</td>\n",
       "    </tr>\n",
       "    <tr>\n",
       "      <th>4</th>\n",
       "      <td>0.342143</td>\n",
       "      <td>HeroicStrike</td>\n",
       "      <td>True</td>\n",
       "      <td>7770.345572</td>\n",
       "      <td>10805.213608</td>\n",
       "      <td>0.982879</td>\n",
       "      <td>3.158101e+04</td>\n",
       "    </tr>\n",
       "    <tr>\n",
       "      <th>...</th>\n",
       "      <td>...</td>\n",
       "      <td>...</td>\n",
       "      <td>...</td>\n",
       "      <td>...</td>\n",
       "      <td>...</td>\n",
       "      <td>...</td>\n",
       "      <td>...</td>\n",
       "    </tr>\n",
       "    <tr>\n",
       "      <th>271</th>\n",
       "      <td>90.146282</td>\n",
       "      <td>Bloodthirst</td>\n",
       "      <td>False</td>\n",
       "      <td>0.000000</td>\n",
       "      <td>798545.121136</td>\n",
       "      <td>0.800000</td>\n",
       "      <td>8.858326e+03</td>\n",
       "    </tr>\n",
       "    <tr>\n",
       "      <th>272</th>\n",
       "      <td>90.146282</td>\n",
       "      <td>Bloodthirst</td>\n",
       "      <td>False</td>\n",
       "      <td>0.000000</td>\n",
       "      <td>798545.121136</td>\n",
       "      <td>0.800000</td>\n",
       "      <td>8.858326e+03</td>\n",
       "    </tr>\n",
       "    <tr>\n",
       "      <th>273</th>\n",
       "      <td>90.527540</td>\n",
       "      <td>Whirlwind</td>\n",
       "      <td>False</td>\n",
       "      <td>3009.422791</td>\n",
       "      <td>801554.543928</td>\n",
       "      <td>0.680000</td>\n",
       "      <td>8.854262e+03</td>\n",
       "    </tr>\n",
       "    <tr>\n",
       "      <th>274</th>\n",
       "      <td>91.146282</td>\n",
       "      <td>Execute</td>\n",
       "      <td>False</td>\n",
       "      <td>2117.421850</td>\n",
       "      <td>803671.965778</td>\n",
       "      <td>0.680000</td>\n",
       "      <td>8.817386e+03</td>\n",
       "    </tr>\n",
       "    <tr>\n",
       "      <th>275</th>\n",
       "      <td>91.146282</td>\n",
       "      <td>Bloodrage</td>\n",
       "      <td>False</td>\n",
       "      <td>0.000000</td>\n",
       "      <td>803671.965778</td>\n",
       "      <td>0.680000</td>\n",
       "      <td>8.817386e+03</td>\n",
       "    </tr>\n",
       "  </tbody>\n",
       "</table>\n",
       "<p>276 rows × 7 columns</p>\n",
       "</div>"
      ],
      "text/plain": [
       "     Timestamp        Action  Successful Cast  Damage Done  Total Damage Done  \\\n",
       "0     0.000000     DeathWish             True  3034.868036        3034.868036   \n",
       "1     0.000000     DeathWish            False     0.000000        3034.868036   \n",
       "2     0.000000          Slam            False     0.000000        3034.868036   \n",
       "3     0.010000     Whirlwind            False     0.000000        3034.868036   \n",
       "4     0.342143  HeroicStrike             True  7770.345572       10805.213608   \n",
       "..         ...           ...              ...          ...                ...   \n",
       "271  90.146282   Bloodthirst            False     0.000000      798545.121136   \n",
       "272  90.146282   Bloodthirst            False     0.000000      798545.121136   \n",
       "273  90.527540     Whirlwind            False  3009.422791      801554.543928   \n",
       "274  91.146282       Execute            False  2117.421850      803671.965778   \n",
       "275  91.146282     Bloodrage            False     0.000000      803671.965778   \n",
       "\n",
       "         Rage           DPS  \n",
       "0    0.214065           inf  \n",
       "1    0.214065           inf  \n",
       "2    0.214065           inf  \n",
       "3    0.214065  3.034868e+05  \n",
       "4    0.982879  3.158101e+04  \n",
       "..        ...           ...  \n",
       "271  0.800000  8.858326e+03  \n",
       "272  0.800000  8.858326e+03  \n",
       "273  0.680000  8.854262e+03  \n",
       "274  0.680000  8.817386e+03  \n",
       "275  0.680000  8.817386e+03  \n",
       "\n",
       "[276 rows x 7 columns]"
      ]
     },
     "execution_count": 19,
     "metadata": {},
     "output_type": "execute_result"
    }
   ],
   "source": [
    "import pandas as pd\n",
    "\n",
    "df = pd.DataFrame(debug_logs_batch[median], columns=['Timestamp', 'Action', 'Successful Cast', 'Damage Done', 'Total Damage Done', 'Rage'])\n",
    "df['Action'] = df['Action'].map(actions_id)\n",
    "df['DPS'] = df['Total Damage Done'].div(df['Timestamp'])\n",
    "df"
   ]
  },
  {
   "cell_type": "code",
   "execution_count": 11,
   "metadata": {},
   "outputs": [],
   "source": [
    "df.to_csv(\"debug_logs/debug_log_1.csv\")"
   ]
  },
  {
   "attachments": {},
   "cell_type": "markdown",
   "metadata": {},
   "source": [
    "# Spell Debug"
   ]
  },
  {
   "cell_type": "code",
   "execution_count": null,
   "metadata": {},
   "outputs": [],
   "source": [
    "reset()\n",
    "Spells.register()\n",
    "Auras.register()\n",
    "TargetAuras.register()\n",
    "\n",
    "settings['simOptions']['interactive'] = True\n",
    "damages = np.array([])\n",
    "spell_metrics = []\n",
    "\n",
    "for i in range(1):\n",
    "    reset()\n",
    "    while not wowsims.step():\n",
    "        print(env.reset())\n",
    "        if wowsims.needsInput():\n",
    "            wowsims.trySpell(Spells.Bloodthirst)\n",
    "    totalDamage = wowsims.getDamageDone()\n",
    "    damages = np.append(damages, totalDamage)\n",
    "    spell_metrics.append(wowsims.getSpellMetrics())\n",
    "\n",
    "median = np.argsort(damages)[len(damages)//2]\n",
    "print(f'Average DPS: {damages[median] / duration}')"
   ]
  },
  {
   "cell_type": "code",
   "execution_count": 7,
   "metadata": {},
   "outputs": [
    {
     "name": "stdout",
     "output_type": "stream",
     "text": [
      "Melee: [1, 54]\n",
      "Deep Wounds: [67]\n",
      "Heroic Strike: [54]\n"
     ]
    }
   ],
   "source": [
    "settings['simOptions']['interactive'] = True\n",
    "\n",
    "reset()\n",
    "while not wowsims.step():\n",
    "    pass\n",
    "cast_metrics = spell_metrics[median]\n",
    "for spell_id, metrics in cast_metrics.items():\n",
    "    try:\n",
    "        spell_name = spell_id_lists[spell_id]\n",
    "    except KeyError as key:\n",
    "        spell_name = key\n",
    "    print(f\"{spell_name}: {[metric['Casts'] for metric in metrics]}\")"
   ]
  }
 ],
 "metadata": {
  "kernelspec": {
   "display_name": "tts39",
   "language": "python",
   "name": "python3"
  },
  "language_info": {
   "codemirror_mode": {
    "name": "ipython",
    "version": 3
   },
   "file_extension": ".py",
   "mimetype": "text/x-python",
   "name": "python",
   "nbconvert_exporter": "python",
   "pygments_lexer": "ipython3",
   "version": "3.9.12"
  },
  "orig_nbformat": 4
 },
 "nbformat": 4,
 "nbformat_minor": 2
}
