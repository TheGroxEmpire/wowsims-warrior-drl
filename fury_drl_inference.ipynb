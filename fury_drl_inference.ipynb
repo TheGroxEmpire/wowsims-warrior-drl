{
 "cells": [
  {
   "cell_type": "code",
   "execution_count": 1,
   "metadata": {},
   "outputs": [],
   "source": [
    "import json\n",
    "\n",
    "spell_id_lists = {\n",
    "        '0' : \"Melee\",\n",
    "        '23881' : \"Bloodthirst\",\n",
    "        '1680' : \"Whirlwind\",\n",
    "        '47475' : \"Slam\",\n",
    "        '47450' : \"Heroic Strike\",\n",
    "        '47471' : \"Execute\",\n",
    "        '12867': \"Deep Wounds\",\n",
    "        '12292' : \"Death Wish\",\n",
    "        '1719' : \"Recklessness\",\n",
    "        '64382' : \"Shattering Throw\",\n",
    "        '54758' : \"Engi Gloves\",\n",
    "        '2457' : \"Battle Stance\",\n",
    "        '2458' : \"Berserker Stance\",\n",
    "        '2687' : 'Bloodrage',\n",
    "        '2825' : 'Bloodlust',\n",
    "        '47465': 'Rend',\n",
    "        '7384': 'Overpower',\n",
    "        '44949': 'Whirlwind OH',\n",
    "}"
   ]
  },
  {
   "attachments": {},
   "cell_type": "markdown",
   "metadata": {},
   "source": [
    "# Load Fury Raid Sim Request JSON"
   ]
  },
  {
   "cell_type": "code",
   "execution_count": 2,
   "metadata": {},
   "outputs": [],
   "source": [
    "f = open('data/fury-human-bis-p3.json')\n",
    "settings = json.load(f)"
   ]
  },
  {
   "attachments": {},
   "cell_type": "markdown",
   "metadata": {},
   "source": [
    "# Set environment and settings"
   ]
  },
  {
   "cell_type": "code",
   "execution_count": 3,
   "metadata": {},
   "outputs": [],
   "source": [
    "from fury import *\n",
    "\n",
    "def reset():\n",
    "    wowsims.new(json.dumps(settings).encode('utf-8'))\n",
    "\n",
    "\n",
    "# Iterations are currently capped at 3000\n",
    "iterations = settings['simOptions']['iterations']\n",
    "\n",
    "duration = settings['encounter']['duration']\n",
    "reset()"
   ]
  },
  {
   "attachments": {},
   "cell_type": "markdown",
   "metadata": {},
   "source": [
    "# Default sim agent\n",
    "Default sim agent is the hardcoded agent from the sim"
   ]
  },
  {
   "cell_type": "code",
   "execution_count": 4,
   "metadata": {},
   "outputs": [
    {
     "name": "stdout",
     "output_type": "stream",
     "text": [
      "Average DPS: 11891.145775806754\n"
     ]
    }
   ],
   "source": [
    "settings['simOptions']['interactive'] = False\n",
    "damages = np.array([])\n",
    "\n",
    "for i in range(iterations):\n",
    "    reset()\n",
    "    while not wowsims.step():\n",
    "        pass\n",
    "    totalDamage = wowsims.getDamageDone()\n",
    "    damages = np.append(damages, totalDamage)\n",
    "\n",
    "print(f'Average DPS: {damages.mean() / duration}')"
   ]
  },
  {
   "cell_type": "code",
   "execution_count": 5,
   "metadata": {},
   "outputs": [
    {
     "name": "stdout",
     "output_type": "stream",
     "text": [
      "Melee: [1, 1, 1, 2, 9, 77]\n",
      "Death Wish: [2]\n",
      "Deep Wounds: [133]\n",
      "Whirlwind: [16]\n",
      "Recklessness: [1]\n",
      "Bloodthirst: [33]\n",
      "Battle Stance: [9]\n",
      "Berserker Stance: [9]\n",
      "Bloodrage: [4]\n",
      "Bloodlust: [1]\n",
      "Whirlwind OH: [16]\n",
      "Heroic Strike: [68]\n",
      "Rend: [4]\n",
      "Execute: [8]\n",
      "Slam: [19]\n",
      "Engi Gloves: [3]\n",
      "Shattering Throw: [1]\n",
      "Overpower: [5]\n"
     ]
    }
   ],
   "source": [
    "settings['simOptions']['interactive'] = False\n",
    "\n",
    "reset()\n",
    "while not wowsims.step():\n",
    "    pass\n",
    "    \n",
    "    \n",
    "cast_metrics = wowsims.getSpellMetrics()\n",
    "\n",
    "for spell_id, metrics in cast_metrics.items():\n",
    "    try:\n",
    "        spell_name = spell_id_lists[spell_id]\n",
    "    except KeyError as key:\n",
    "        spell_name = key\n",
    "    print(f\"{spell_name}: {[metric['Casts'] for metric in metrics]}\")"
   ]
  },
  {
   "attachments": {},
   "cell_type": "markdown",
   "metadata": {},
   "source": [
    "# PPO Agent"
   ]
  },
  {
   "attachments": {},
   "cell_type": "markdown",
   "metadata": {},
   "source": [
    "## Load Trained PPO Model"
   ]
  },
  {
   "cell_type": "code",
   "execution_count": 37,
   "metadata": {},
   "outputs": [
    {
     "name": "stderr",
     "output_type": "stream",
     "text": [
      "2023-05-02 22:02:55,345\tWARNING util.py:67 -- Install gputil for GPU system monitoring.\n",
      "2023-05-02 22:02:55,368\tINFO trainable.py:913 -- Restored on 127.0.0.1 from checkpoint: models\\dps-reward_punish-error\\PPO\\PPO_FurySimEnv_d5a3b_00000_0_2023-05-02_15-25-02\\checkpoint_002266\n",
      "2023-05-02 22:02:55,368\tINFO trainable.py:922 -- Current state after restoring: {'_iteration': 2266, '_timesteps_total': None, '_time_total': 17449.62928199768, '_episodes_total': 50009}\n"
     ]
    }
   ],
   "source": [
    "from ray.rllib.algorithms.ppo import PPOConfig\n",
    "from ray.tune.registry import register_env\n",
    "from fury_sim_env import FurySimEnv\n",
    "from gymnasium import make\n",
    "from gymnasium.envs.registration import register\n",
    "\n",
    "def env_creator(env_config):\n",
    "    return FurySimEnv(...)\n",
    "\n",
    "register_env(\"FurySimEnv\", env_creator)\n",
    "\n",
    "config = PPOConfig()\\\n",
    "            .rollouts(num_rollout_workers=1)\n",
    "\n",
    "algorithm = config.build(env=\"FurySimEnv\")\n",
    "algorithm.restore(\"models\\dps-reward_punish-error\\PPO\\PPO_FurySimEnv_d5a3b_00000_0_2023-05-02_15-25-02\\checkpoint_002266\")\n",
    "\n",
    "register(id=\"FurySimEnv\", entry_point=\"fury_sim_env:FurySimEnv\")\n",
    "env = make(\"FurySimEnv\")"
   ]
  },
  {
   "cell_type": "code",
   "execution_count": 9,
   "metadata": {},
   "outputs": [
    {
     "name": "stdout",
     "output_type": "stream",
     "text": [
      "(array([ 1.        ,  0.        ,  0.        ,  0.        ,  0.        ,\n",
      "        0.        ,  0.        ,  0.        ,         nan,         nan,\n",
      "               nan,  0.        ,  0.        ,  0.        ,  0.        ,\n",
      "        0.        ,  0.        ,  0.34486885, -0.03487042]), {})\n"
     ]
    },
    {
     "name": "stderr",
     "output_type": "stream",
     "text": [
      "c:\\ProgramData\\Anaconda3\\envs\\civ6_rl_rllib\\lib\\site-packages\\gymnasium\\utils\\passive_env_checker.py:165: UserWarning: \u001b[33mWARN: The obs returned by the `reset()` method is not within the observation space.\u001b[0m\n",
      "  logger.warn(f\"{pre} is not within the observation space.\")\n"
     ]
    }
   ],
   "source": [
    "from ray.rllib.algorithms.ppo import PPOConfig\n",
    "from ray.tune.registry import register_env\n",
    "from fury_sim_env import FurySimEnv\n",
    "from gymnasium import make\n",
    "from gymnasium.envs.registration import register\n",
    "\n",
    "register(id=\"FurySimEnv\", entry_point=\"fury_sim_env:FurySimEnv\")\n",
    "env = make(\"FurySimEnv\")\n",
    "print(env.reset())"
   ]
  },
  {
   "attachments": {},
   "cell_type": "markdown",
   "metadata": {},
   "source": [
    "## Run PPO Model"
   ]
  },
  {
   "cell_type": "code",
   "execution_count": 38,
   "metadata": {},
   "outputs": [
    {
     "name": "stderr",
     "output_type": "stream",
     "text": [
      "\u001b[2m\u001b[36m(RolloutWorker pid=24824)\u001b[0m 2023-05-02 22:02:55,308\tWARNING env.py:155 -- Your env doesn't have a .spec.max_episode_steps attribute. Your horizon will default to infinity, and your environment will not be reset.\n"
     ]
    }
   ],
   "source": [
    "for i in range(100):\n",
    "    observation, info = env.reset()\n",
    "    terminated = False\n",
    "    reward = 0\n",
    "    batch = []\n",
    "    dps_results = np.array([])\n",
    "    metrics_batch = []\n",
    "    debug_logs = []\n",
    "    debug_logs_batch = []\n",
    "    while not terminated:\n",
    "        action = algorithm.compute_single_action(observation)\n",
    "        observation, reward, terminated, truncated, info = env.step(action)\n",
    "        batch.append(np.concatenate((observation, [action], [reward])))\n",
    "        debug_logs.append(info['debug log'])\n",
    "    debug_logs_batch.append(debug_logs)\n",
    "    dps_results = np.append(dps_results, info['dps'])\n",
    "    metrics_batch.append(info['spell metrics'])"
   ]
  },
  {
   "cell_type": "code",
   "execution_count": null,
   "metadata": {},
   "outputs": [],
   "source": [
    "median = np.argsort(dps_results)[len(dps_results)//2]\n",
    "print(f'Average DPS: {dps_results[median]}')\n",
    "\n",
    "cast_metrics = metrics_batch[median]\n",
    "for spell_id, metrics in cast_metrics.items():\n",
    "    # Only one target, so we can just take the first one\n",
    "    try:\n",
    "        spell_name = spell_id_lists[spell_id]\n",
    "    except KeyError as key:\n",
    "        spell_name = key\n",
    "    print(f\"{spell_name}: {[metric['Casts'] for metric in metrics]}\")"
   ]
  },
  {
   "attachments": {},
   "cell_type": "markdown",
   "metadata": {},
   "source": [
    "### Debug Log"
   ]
  },
  {
   "cell_type": "code",
   "execution_count": 25,
   "metadata": {},
   "outputs": [],
   "source": [
    "actions_id = {\n",
    "    0: \"Bloodthirst\", \n",
    "    1: \"Whirlwind\",\n",
    "    2: \"Slam\",\n",
    "    3: \"HeroicStrike\",\n",
    "    4: \"Execute\",\n",
    "    5: \"DeathWish\",\n",
    "    6: \"Recklessness\",\n",
    "    7: \"ShatteringThrow\",\n",
    "    8: \"Bloodrage\",\n",
    "    9: \"EngiGlove\",\n",
    "    10: \"Bloodlust\",\n",
    "    11: \"Idle\"\n",
    "}"
   ]
  },
  {
   "cell_type": "code",
   "execution_count": 26,
   "metadata": {},
   "outputs": [
    {
     "data": {
      "text/html": [
       "<div>\n",
       "<style scoped>\n",
       "    .dataframe tbody tr th:only-of-type {\n",
       "        vertical-align: middle;\n",
       "    }\n",
       "\n",
       "    .dataframe tbody tr th {\n",
       "        vertical-align: top;\n",
       "    }\n",
       "\n",
       "    .dataframe thead th {\n",
       "        text-align: right;\n",
       "    }\n",
       "</style>\n",
       "<table border=\"1\" class=\"dataframe\">\n",
       "  <thead>\n",
       "    <tr style=\"text-align: right;\">\n",
       "      <th></th>\n",
       "      <th>Timestamp</th>\n",
       "      <th>Action</th>\n",
       "      <th>Successful Cast</th>\n",
       "      <th>Damage Done</th>\n",
       "      <th>Total Damage Done</th>\n",
       "      <th>Rage</th>\n",
       "      <th>DPS</th>\n",
       "    </tr>\n",
       "  </thead>\n",
       "  <tbody>\n",
       "    <tr>\n",
       "      <th>0</th>\n",
       "      <td>0.000000</td>\n",
       "      <td>EngiGlove</td>\n",
       "      <td>True</td>\n",
       "      <td>1919.809658</td>\n",
       "      <td>1919.809658</td>\n",
       "      <td>22.181946</td>\n",
       "      <td>inf</td>\n",
       "    </tr>\n",
       "    <tr>\n",
       "      <th>1</th>\n",
       "      <td>0.000000</td>\n",
       "      <td>Bloodlust</td>\n",
       "      <td>True</td>\n",
       "      <td>0.000000</td>\n",
       "      <td>1919.809658</td>\n",
       "      <td>22.181946</td>\n",
       "      <td>inf</td>\n",
       "    </tr>\n",
       "    <tr>\n",
       "      <th>2</th>\n",
       "      <td>0.648574</td>\n",
       "      <td>DeathWish</td>\n",
       "      <td>True</td>\n",
       "      <td>0.000000</td>\n",
       "      <td>1919.809658</td>\n",
       "      <td>12.181946</td>\n",
       "      <td>2.960046e+03</td>\n",
       "    </tr>\n",
       "    <tr>\n",
       "      <th>3</th>\n",
       "      <td>0.648574</td>\n",
       "      <td>Recklessness</td>\n",
       "      <td>True</td>\n",
       "      <td>0.000000</td>\n",
       "      <td>1919.809658</td>\n",
       "      <td>12.181946</td>\n",
       "      <td>2.960046e+03</td>\n",
       "    </tr>\n",
       "    <tr>\n",
       "      <th>4</th>\n",
       "      <td>0.648574</td>\n",
       "      <td>ShatteringThrow</td>\n",
       "      <td>True</td>\n",
       "      <td>0.000000</td>\n",
       "      <td>1919.809658</td>\n",
       "      <td>12.181946</td>\n",
       "      <td>2.960046e+03</td>\n",
       "    </tr>\n",
       "    <tr>\n",
       "      <th>...</th>\n",
       "      <td>...</td>\n",
       "      <td>...</td>\n",
       "      <td>...</td>\n",
       "      <td>...</td>\n",
       "      <td>...</td>\n",
       "      <td>...</td>\n",
       "      <td>...</td>\n",
       "    </tr>\n",
       "    <tr>\n",
       "      <th>241</th>\n",
       "      <td>59.436223</td>\n",
       "      <td>Bloodrage</td>\n",
       "      <td>False</td>\n",
       "      <td>2514.524495</td>\n",
       "      <td>619162.355334</td>\n",
       "      <td>80.000000</td>\n",
       "      <td>1.041726e+04</td>\n",
       "    </tr>\n",
       "    <tr>\n",
       "      <th>242</th>\n",
       "      <td>59.926223</td>\n",
       "      <td>ShatteringThrow</td>\n",
       "      <td>False</td>\n",
       "      <td>0.000000</td>\n",
       "      <td>619162.355334</td>\n",
       "      <td>80.000000</td>\n",
       "      <td>1.033208e+04</td>\n",
       "    </tr>\n",
       "    <tr>\n",
       "      <th>243</th>\n",
       "      <td>60.000000</td>\n",
       "      <td>Recklessness</td>\n",
       "      <td>False</td>\n",
       "      <td>0.000000</td>\n",
       "      <td>619162.355334</td>\n",
       "      <td>100.000000</td>\n",
       "      <td>1.031937e+04</td>\n",
       "    </tr>\n",
       "    <tr>\n",
       "      <th>244</th>\n",
       "      <td>60.037906</td>\n",
       "      <td>Execute</td>\n",
       "      <td>True</td>\n",
       "      <td>14681.951599</td>\n",
       "      <td>633844.306933</td>\n",
       "      <td>70.000000</td>\n",
       "      <td>1.055740e+04</td>\n",
       "    </tr>\n",
       "    <tr>\n",
       "      <th>245</th>\n",
       "      <td>61.047906</td>\n",
       "      <td>Idle</td>\n",
       "      <td>False</td>\n",
       "      <td>2505.473245</td>\n",
       "      <td>636349.780178</td>\n",
       "      <td>70.000000</td>\n",
       "      <td>1.042378e+04</td>\n",
       "    </tr>\n",
       "  </tbody>\n",
       "</table>\n",
       "<p>246 rows × 7 columns</p>\n",
       "</div>"
      ],
      "text/plain": [
       "     Timestamp           Action  Successful Cast   Damage Done  \\\n",
       "0     0.000000        EngiGlove             True   1919.809658   \n",
       "1     0.000000        Bloodlust             True      0.000000   \n",
       "2     0.648574        DeathWish             True      0.000000   \n",
       "3     0.648574     Recklessness             True      0.000000   \n",
       "4     0.648574  ShatteringThrow             True      0.000000   \n",
       "..         ...              ...              ...           ...   \n",
       "241  59.436223        Bloodrage            False   2514.524495   \n",
       "242  59.926223  ShatteringThrow            False      0.000000   \n",
       "243  60.000000     Recklessness            False      0.000000   \n",
       "244  60.037906          Execute             True  14681.951599   \n",
       "245  61.047906             Idle            False   2505.473245   \n",
       "\n",
       "     Total Damage Done        Rage           DPS  \n",
       "0          1919.809658   22.181946           inf  \n",
       "1          1919.809658   22.181946           inf  \n",
       "2          1919.809658   12.181946  2.960046e+03  \n",
       "3          1919.809658   12.181946  2.960046e+03  \n",
       "4          1919.809658   12.181946  2.960046e+03  \n",
       "..                 ...         ...           ...  \n",
       "241      619162.355334   80.000000  1.041726e+04  \n",
       "242      619162.355334   80.000000  1.033208e+04  \n",
       "243      619162.355334  100.000000  1.031937e+04  \n",
       "244      633844.306933   70.000000  1.055740e+04  \n",
       "245      636349.780178   70.000000  1.042378e+04  \n",
       "\n",
       "[246 rows x 7 columns]"
      ]
     },
     "execution_count": 26,
     "metadata": {},
     "output_type": "execute_result"
    }
   ],
   "source": [
    "import pandas as pd\n",
    "\n",
    "df = pd.DataFrame(debug_logs_batch[median], columns=['Timestamp', 'Action', 'Successful Cast', 'Damage Done', 'Total Damage Done', 'Rage'])\n",
    "df['Action'] = df['Action'].map(actions_id)\n",
    "df['DPS'] = df['Total Damage Done'].div(df['Timestamp'])\n",
    "df"
   ]
  },
  {
   "cell_type": "code",
   "execution_count": 31,
   "metadata": {},
   "outputs": [],
   "source": [
    "df.to_csv(\"debug_logs/debug_log_1.csv\")"
   ]
  },
  {
   "attachments": {},
   "cell_type": "markdown",
   "metadata": {},
   "source": [
    "# Spell Debug"
   ]
  },
  {
   "cell_type": "code",
   "execution_count": null,
   "metadata": {},
   "outputs": [],
   "source": [
    "reset()\n",
    "Spells.register()\n",
    "Auras.register()\n",
    "TargetAuras.register()\n",
    "\n",
    "settings['simOptions']['interactive'] = True\n",
    "damages = np.array([])\n",
    "spell_metrics = []\n",
    "\n",
    "for i in range(1):\n",
    "    reset()\n",
    "    while not wowsims.step():\n",
    "        print(AutoAttacks.get_swing_time())\n",
    "        if wowsims.needsInput():\n",
    "            pass\n",
    "    totalDamage = wowsims.getDamageDone()\n",
    "    damages = np.append(damages, totalDamage)\n",
    "    spell_metrics.append(wowsims.getSpellMetrics())\n",
    "\n",
    "median = np.argsort(damages)[len(damages)//2]\n",
    "print(f'Average DPS: {damages[median] / duration}')"
   ]
  },
  {
   "cell_type": "code",
   "execution_count": 7,
   "metadata": {},
   "outputs": [
    {
     "name": "stdout",
     "output_type": "stream",
     "text": [
      "Melee: [1, 54]\n",
      "Deep Wounds: [67]\n",
      "Heroic Strike: [54]\n"
     ]
    }
   ],
   "source": [
    "settings['simOptions']['interactive'] = True\n",
    "\n",
    "reset()\n",
    "while not wowsims.step():\n",
    "    pass\n",
    "cast_metrics = spell_metrics[median]\n",
    "for spell_id, metrics in cast_metrics.items():\n",
    "    try:\n",
    "        spell_name = spell_id_lists[spell_id]\n",
    "    except KeyError as key:\n",
    "        spell_name = key\n",
    "    print(f\"{spell_name}: {[metric['Casts'] for metric in metrics]}\")"
   ]
  }
 ],
 "metadata": {
  "kernelspec": {
   "display_name": "tts39",
   "language": "python",
   "name": "python3"
  },
  "language_info": {
   "codemirror_mode": {
    "name": "ipython",
    "version": 3
   },
   "file_extension": ".py",
   "mimetype": "text/x-python",
   "name": "python",
   "nbconvert_exporter": "python",
   "pygments_lexer": "ipython3",
   "version": "3.9.12"
  },
  "orig_nbformat": 4
 },
 "nbformat": 4,
 "nbformat_minor": 2
}
