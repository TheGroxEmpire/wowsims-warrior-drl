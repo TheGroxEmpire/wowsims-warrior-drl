{
 "cells": [
  {
   "cell_type": "code",
   "execution_count": 30,
   "metadata": {},
   "outputs": [],
   "source": [
    "import json\n",
    "import numpy as np\n",
    "import wowsims"
   ]
  },
  {
   "attachments": {},
   "cell_type": "markdown",
   "metadata": {},
   "source": [
    "# Load Fury Raid Sim Request JSON"
   ]
  },
  {
   "cell_type": "code",
   "execution_count": 2,
   "metadata": {},
   "outputs": [],
   "source": [
    "f = open('data/fury-human-bis-p3.json')\n",
    "settings = json.load(f)"
   ]
  },
  {
   "attachments": {},
   "cell_type": "markdown",
   "metadata": {},
   "source": [
    "# Set environment and settings"
   ]
  },
  {
   "cell_type": "code",
   "execution_count": 3,
   "metadata": {},
   "outputs": [],
   "source": [
    "def reset():\n",
    "    wowsims.new(json.dumps(settings).encode('utf-8'))"
   ]
  },
  {
   "cell_type": "code",
   "execution_count": 4,
   "metadata": {},
   "outputs": [],
   "source": [
    "# Iterations are currently capped at 3000\n",
    "iterations = settings['simOptions']['iterations']\n",
    "\n",
    "duration = settings['encounter']['duration']"
   ]
  },
  {
   "cell_type": "code",
   "execution_count": 34,
   "metadata": {},
   "outputs": [],
   "source": [
    "spell_id_lists = {\n",
    "        '0' : \"Melee\"\n",
    "        '23881' : \"Bloodthirst\",\n",
    "        '1680' : \"Whirlwind\",\n",
    "        '47475' : \"Slam\",\n",
    "        '47450' : \"Heroic Strike\",\n",
    "        '47471' : \"Execute\",\n",
    "        '12867': \"Deep Wounds\"\n",
    "        '12292' : \"Death Wish\",\n",
    "        '1719' : \"Recklessness\",\n",
    "        '64382' : \"Shattering Throw\",\n",
    "        '54758' : \"Engi Gloves\",\n",
    "}"
   ]
  },
  {
   "attachments": {},
   "cell_type": "markdown",
   "metadata": {},
   "source": [
    "# Default sim agent"
   ]
  },
  {
   "cell_type": "code",
   "execution_count": 5,
   "metadata": {},
   "outputs": [
    {
     "name": "stdout",
     "output_type": "stream",
     "text": [
      "Average DPS: 11782.084625708363\n"
     ]
    }
   ],
   "source": [
    "settings['simOptions']['interactive'] = False\n",
    "damages = np.array([])\n",
    "\n",
    "for i in range(iterations):\n",
    "    reset()\n",
    "    while not wowsims.step():\n",
    "        pass\n",
    "    totalDamage = wowsims.getDamageDone()\n",
    "    damages = np.append(damages, totalDamage)\n",
    "\n",
    "print(f'Average DPS: {damages.mean() / duration}')"
   ]
  },
  {
   "cell_type": "code",
   "execution_count": 6,
   "metadata": {},
   "outputs": [
    {
     "name": "stdout",
     "output_type": "stream",
     "text": [
      "0: {'Casts': 1, 'Misses': 0, 'Hits': 0, 'Crits': 0, 'Crushes': 0, 'Dodges': 0, 'Glances': 0, 'Parries': 0, 'Blocks': 0, 'TotalDamage': 0, 'TotalThreat': 0, 'TotalHealing': 0, 'TotalShielding': 0, 'TotalCastTime': 0}\n",
      "12292: {'Casts': 1, 'Misses': 0, 'Hits': 0, 'Crits': 0, 'Crushes': 0, 'Dodges': 0, 'Glances': 0, 'Parries': 0, 'Blocks': 0, 'TotalDamage': 0, 'TotalThreat': 0, 'TotalHealing': 0, 'TotalShielding': 0, 'TotalCastTime': 0}\n",
      "12867: {'Casts': 115, 'Misses': 0, 'Hits': 115, 'Crits': 0, 'Crushes': 0, 'Dodges': 0, 'Glances': 0, 'Parries': 0, 'Blocks': 0, 'TotalDamage': 224429.53180992126, 'TotalThreat': 161703.5672023456, 'TotalHealing': 0, 'TotalShielding': 0, 'TotalCastTime': 0}\n",
      "1680: {'Casts': 13, 'Misses': 0, 'Hits': 7, 'Crits': 6, 'Crushes': 0, 'Dodges': 0, 'Glances': 0, 'Parries': 0, 'Blocks': 0, 'TotalDamage': 85506.77740753008, 'TotalThreat': 74818.43023158883, 'TotalHealing': 0, 'TotalShielding': 0, 'TotalCastTime': 19500000000}\n",
      "1719: {'Casts': 1, 'Misses': 0, 'Hits': 0, 'Crits': 0, 'Crushes': 0, 'Dodges': 0, 'Glances': 0, 'Parries': 0, 'Blocks': 0, 'TotalDamage': 0, 'TotalThreat': 0, 'TotalHealing': 0, 'TotalShielding': 0, 'TotalCastTime': 0}\n",
      "23881: {'Casts': 27, 'Misses': 0, 'Hits': 14, 'Crits': 13, 'Crushes': 0, 'Dodges': 0, 'Glances': 0, 'Parries': 0, 'Blocks': 0, 'TotalDamage': 225423.16408682687, 'TotalThreat': 157796.21486077885, 'TotalHealing': 0, 'TotalShielding': 0, 'TotalCastTime': 40500000000}\n",
      "2457: {'Casts': 10, 'Misses': 0, 'Hits': 0, 'Crits': 0, 'Crushes': 0, 'Dodges': 0, 'Glances': 0, 'Parries': 0, 'Blocks': 0, 'TotalDamage': 0, 'TotalThreat': 0, 'TotalHealing': 0, 'TotalShielding': 0, 'TotalCastTime': 0}\n",
      "2458: {'Casts': 10, 'Misses': 0, 'Hits': 0, 'Crits': 0, 'Crushes': 0, 'Dodges': 0, 'Glances': 0, 'Parries': 0, 'Blocks': 0, 'TotalDamage': 0, 'TotalThreat': 0, 'TotalHealing': 0, 'TotalShielding': 0, 'TotalCastTime': 0}\n",
      "2687: {'Casts': 3, 'Misses': 0, 'Hits': 0, 'Crits': 0, 'Crushes': 0, 'Dodges': 0, 'Glances': 0, 'Parries': 0, 'Blocks': 0, 'TotalDamage': 0, 'TotalThreat': 0, 'TotalHealing': 0, 'TotalShielding': 0, 'TotalCastTime': 0}\n",
      "2825: {'Casts': 1, 'Misses': 0, 'Hits': 0, 'Crits': 0, 'Crushes': 0, 'Dodges': 0, 'Glances': 0, 'Parries': 0, 'Blocks': 0, 'TotalDamage': 0, 'TotalThreat': 0, 'TotalHealing': 0, 'TotalShielding': 0, 'TotalCastTime': 0}\n",
      "47450: {'Casts': 57, 'Misses': 0, 'Hits': 22, 'Crits': 35, 'Crushes': 0, 'Dodges': 0, 'Glances': 0, 'Parries': 0, 'Blocks': 0, 'TotalDamage': 380894.32879912865, 'TotalThreat': 282448.4225689468, 'TotalHealing': 0, 'TotalShielding': 0, 'TotalCastTime': 0}\n",
      "47465: {'Casts': 4, 'Misses': 0, 'Hits': 4, 'Crits': 0, 'Crushes': 0, 'Dodges': 0, 'Glances': 0, 'Parries': 0, 'Blocks': 0, 'TotalDamage': 40852.53245579829, 'TotalThreat': 29304.931867505424, 'TotalHealing': 0, 'TotalShielding': 0, 'TotalCastTime': 6000000000}\n",
      "47471: {'Casts': 4, 'Misses': 0, 'Hits': 1, 'Crits': 3, 'Crushes': 0, 'Dodges': 0, 'Glances': 0, 'Parries': 0, 'Blocks': 0, 'TotalDamage': 27787.561733597475, 'TotalThreat': 24314.116516897797, 'TotalHealing': 0, 'TotalShielding': 0, 'TotalCastTime': 6000000000}\n",
      "47475: {'Casts': 15, 'Misses': 0, 'Hits': 3, 'Crits': 12, 'Crushes': 0, 'Dodges': 0, 'Glances': 0, 'Parries': 0, 'Blocks': 0, 'TotalDamage': 111228.3019970842, 'TotalThreat': 79329.81139795897, 'TotalHealing': 0, 'TotalShielding': 0, 'TotalCastTime': 22500000000}\n",
      "54758: {'Casts': 2, 'Misses': 0, 'Hits': 0, 'Crits': 0, 'Crushes': 0, 'Dodges': 0, 'Glances': 0, 'Parries': 0, 'Blocks': 0, 'TotalDamage': 0, 'TotalThreat': 0, 'TotalHealing': 0, 'TotalShielding': 0, 'TotalCastTime': 0}\n",
      "64382: {'Casts': 1, 'Misses': 0, 'Hits': 0, 'Crits': 0, 'Crushes': 0, 'Dodges': 0, 'Glances': 0, 'Parries': 0, 'Blocks': 0, 'TotalDamage': 0, 'TotalThreat': 0, 'TotalHealing': 0, 'TotalShielding': 0, 'TotalCastTime': 0}\n",
      "7384: {'Casts': 6, 'Misses': 0, 'Hits': 2, 'Crits': 4, 'Crushes': 0, 'Dodges': 0, 'Glances': 0, 'Parries': 0, 'Blocks': 0, 'TotalDamage': 32184.778348787426, 'TotalThreat': 19310.867009272457, 'TotalHealing': 0, 'TotalShielding': 0, 'TotalCastTime': 9000000000}\n"
     ]
    }
   ],
   "source": [
    "settings['simOptions']['interactive'] = False\n",
    "\n",
    "while not wowsims.step():\n",
    "    pass\n",
    "json_string = wowsims.getSpellMetrics()\n",
    "cast_metrics = json.loads(json_string)\n",
    "for spell_id, metrics in cast_metrics.items():\n",
    "    # Only one target, so we can just take the first one\n",
    "    print(f'{spell_id}: {metrics[0]}')"
   ]
  },
  {
   "attachments": {},
   "cell_type": "markdown",
   "metadata": {},
   "source": [
    "# PPO Agent"
   ]
  },
  {
   "attachments": {},
   "cell_type": "markdown",
   "metadata": {},
   "source": [
    "## Load Trained PPO Model"
   ]
  },
  {
   "cell_type": "code",
   "execution_count": 25,
   "metadata": {},
   "outputs": [
    {
     "name": "stderr",
     "output_type": "stream",
     "text": [
      "<>:14: DeprecationWarning: invalid escape sequence \\F\n",
      "\u001b[2m\u001b[36m(pid=12464)\u001b[0m   if (distutils.version.LooseVersion(tf.__version__) <\n",
      "\u001b[2m\u001b[36m(pid=12464)\u001b[0m   if (distutils.version.LooseVersion(tf.__version__) <\n",
      "\u001b[2m\u001b[36m(pid=26228)\u001b[0m c:\\ProgramData\\Anaconda3\\envs\\civ6_rl_rllib\\lib\\site-packages\\tensorflow_probability\\python\\__init__.py:57: DeprecationWarning: distutils Version classes are deprecated. Use packaging.version instead.\n",
      "\u001b[2m\u001b[36m(pid=26228)\u001b[0m   if (distutils.version.LooseVersion(tf.__version__) <\n",
      "2023-04-30 18:23:21,825\tINFO trainable.py:172 -- Trainable.setup took 12.367 seconds. If your trainable is slow to initialize, consider setting reuse_actors=True to reduce actor creation overheads.\n",
      "2023-04-30 18:23:21,827\tWARNING util.py:67 -- Install gputil for GPU system monitoring.\n",
      "\u001b[2m\u001b[36m(RolloutWorker pid=27604)\u001b[0m 2023-04-30 18:23:21,771\tWARNING env.py:155 -- Your env doesn't have a .spec.max_episode_steps attribute. Your horizon will default to infinity, and your environment will not be reset.\n",
      "2023-04-30 18:23:21,884\tINFO trainable.py:913 -- Restored on 127.0.0.1 from checkpoint: models\\Fury\\PPO\\PPO_FurySimEnv_2db34_00000_0_2023-04-30_16-55-46\\checkpoint_000050\n",
      "2023-04-30 18:23:21,885\tINFO trainable.py:922 -- Current state after restoring: {'_iteration': 50, '_timesteps_total': None, '_time_total': 349.24459290504456, '_episodes_total': 1009}\n"
     ]
    }
   ],
   "source": [
    "from ray.rllib.algorithms.ppo import PPOConfig\n",
    "from ray.tune.registry import register_env\n",
    "from fury_sim_env import FurySimEnv\n",
    "from gymnasium import make\n",
    "\n",
    "def env_creator(env_config):\n",
    "    return FurySimEnv(...)\n",
    "\n",
    "register_env(\"FurySimEnv\", env_creator)\n",
    "\n",
    "config = PPOConfig()\\\n",
    "            .rollouts(num_rollout_workers=1)\n",
    "algorithm = config.build(env=\"FurySimEnv\")\n",
    "algorithm.restore(\"models\\Fury\\PPO\\PPO_FurySimEnv_2db34_00000_0_2023-04-30_16-55-46\\checkpoint_000050\")"
   ]
  },
  {
   "attachments": {},
   "cell_type": "markdown",
   "metadata": {},
   "source": [
    "## Run PPO Model"
   ]
  },
  {
   "cell_type": "code",
   "execution_count": 27,
   "metadata": {},
   "outputs": [
    {
     "name": "stderr",
     "output_type": "stream",
     "text": [
      "c:\\ProgramData\\Anaconda3\\envs\\civ6_rl_rllib\\lib\\site-packages\\gymnasium\\envs\\registration.py:498: UserWarning: \u001b[33mWARN: Overriding environment FurySimEnv already in registry.\u001b[0m\n",
      "  logger.warn(f\"Overriding environment {new_spec.id} already in registry.\")\n"
     ]
    }
   ],
   "source": [
    "from gymnasium.envs.registration import register\n",
    "register(id=\"FurySimEnv\", entry_point=\"fury_sim_env:FurySimEnv\")\n",
    "env = make(\"FurySimEnv\")\n",
    "for i in range(100):\n",
    "    observation, info = env.reset()\n",
    "    terminated = False\n",
    "    reward = 0\n",
    "    batch = []\n",
    "    dps_results = np.array([])\n",
    "    metrics_batch = []\n",
    "    while not terminated:\n",
    "        action = algorithm.compute_single_action(observation)\n",
    "        observation, reward, terminated, truncated, info = env.step(action)\n",
    "        batch.append(np.concatenate((observation, [action], [reward])))\n",
    "    dps_results = np.append(dps_results, info['dps'])\n",
    "    metrics_batch.append(info['spell metrics'])"
   ]
  },
  {
   "attachments": {},
   "cell_type": "markdown",
   "metadata": {},
   "source": [
    "The examples so far have only looked at damage output.\n",
    "More detailed spell metrics are also available."
   ]
  },
  {
   "cell_type": "code",
   "execution_count": 35,
   "metadata": {},
   "outputs": [
    {
     "name": "stdout",
     "output_type": "stream",
     "text": [
      "Average DPS: 12402.322180633872\n",
      "'0': {'Casts': 1, 'Misses': 0, 'Hits': 0, 'Crits': 0, 'Crushes': 0, 'Dodges': 0, 'Glances': 0, 'Parries': 0, 'Blocks': 0, 'TotalDamage': 0, 'TotalThreat': 0, 'TotalHealing': 0, 'TotalShielding': 0, 'TotalCastTime': 0}\n",
      "Death Wish: {'Casts': 1, 'Misses': 0, 'Hits': 0, 'Crits': 0, 'Crushes': 0, 'Dodges': 0, 'Glances': 0, 'Parries': 0, 'Blocks': 0, 'TotalDamage': 0, 'TotalThreat': 0, 'TotalHealing': 0, 'TotalShielding': 0, 'TotalCastTime': 0}\n",
      "'12867': {'Casts': 124, 'Misses': 0, 'Hits': 124, 'Crits': 0, 'Crushes': 0, 'Dodges': 0, 'Glances': 0, 'Parries': 0, 'Blocks': 0, 'TotalDamage': 268282.1412079626, 'TotalThreat': 187797.49884557363, 'TotalHealing': 0, 'TotalShielding': 0, 'TotalCastTime': 0}\n",
      "Whirlwind: {'Casts': 4, 'Misses': 0, 'Hits': 0, 'Crits': 0, 'Crushes': 0, 'Dodges': 0, 'Glances': 0, 'Parries': 0, 'Blocks': 0, 'TotalDamage': 0, 'TotalThreat': 0, 'TotalHealing': 0, 'TotalShielding': 0, 'TotalCastTime': 0}\n",
      "Recklessness: {'Casts': 1, 'Misses': 0, 'Hits': 0, 'Crits': 0, 'Crushes': 0, 'Dodges': 0, 'Glances': 0, 'Parries': 0, 'Blocks': 0, 'TotalDamage': 0, 'TotalThreat': 0, 'TotalHealing': 0, 'TotalShielding': 0, 'TotalCastTime': 0}\n",
      "Bloodthirst: {'Casts': 1, 'Misses': 0, 'Hits': 1, 'Crits': 0, 'Crushes': 0, 'Dodges': 0, 'Glances': 0, 'Parries': 0, 'Blocks': 0, 'TotalDamage': 4622.197681489137, 'TotalThreat': 3235.538377042396, 'TotalHealing': 0, 'TotalShielding': 0, 'TotalCastTime': 1500000000}\n",
      "Heroic Strike: {'Casts': 67, 'Misses': 0, 'Hits': 27, 'Crits': 40, 'Crushes': 0, 'Dodges': 0, 'Glances': 0, 'Parries': 0, 'Blocks': 0, 'TotalDamage': 455857.56746490777, 'TotalThreat': 331247.39722543524, 'TotalHealing': 0, 'TotalShielding': 0, 'TotalCastTime': 0}\n",
      "Execute: {'Casts': 5, 'Misses': 0, 'Hits': 1, 'Crits': 4, 'Crushes': 0, 'Dodges': 0, 'Glances': 0, 'Parries': 0, 'Blocks': 0, 'TotalDamage': 32497.036725057314, 'TotalThreat': 28434.907134425153, 'TotalHealing': 0, 'TotalShielding': 0, 'TotalCastTime': 7500000000}\n",
      "Slam: {'Casts': 48, 'Misses': 0, 'Hits': 11, 'Crits': 37, 'Crushes': 0, 'Dodges': 0, 'Glances': 0, 'Parries': 0, 'Blocks': 0, 'TotalDamage': 349952.9418009117, 'TotalThreat': 249671.0592606382, 'TotalHealing': 0, 'TotalShielding': 0, 'TotalCastTime': 72000000000}\n",
      "Engi Gloves: {'Casts': 1, 'Misses': 0, 'Hits': 0, 'Crits': 0, 'Crushes': 0, 'Dodges': 0, 'Glances': 0, 'Parries': 0, 'Blocks': 0, 'TotalDamage': 0, 'TotalThreat': 0, 'TotalHealing': 0, 'TotalShielding': 0, 'TotalCastTime': 0}\n",
      "Shattering Throw: {'Casts': 1, 'Misses': 0, 'Hits': 0, 'Crits': 0, 'Crushes': 0, 'Dodges': 0, 'Glances': 0, 'Parries': 0, 'Blocks': 0, 'TotalDamage': 0, 'TotalThreat': 0, 'TotalHealing': 0, 'TotalShielding': 0, 'TotalCastTime': 0}\n"
     ]
    }
   ],
   "source": [
    "median = np.argsort(dps_results)[len(dps_results)//2]\n",
    "print(f'Average DPS: {dps_results[median]}')\n",
    "\n",
    "cast_metrics = json.loads(metrics_batch[median])\n",
    "for spell_id, metrics in cast_metrics.items():\n",
    "    # Only one target, so we can just take the first one\n",
    "    try:\n",
    "        spell_name = spell_id_lists[spell_id]\n",
    "    except KeyError as key:\n",
    "        spell_name = key\n",
    "    print(f'{spell_name}: {metrics[0]}')"
   ]
  }
 ],
 "metadata": {
  "kernelspec": {
   "display_name": "tts39",
   "language": "python",
   "name": "python3"
  },
  "language_info": {
   "codemirror_mode": {
    "name": "ipython",
    "version": 3
   },
   "file_extension": ".py",
   "mimetype": "text/x-python",
   "name": "python",
   "nbconvert_exporter": "python",
   "pygments_lexer": "ipython3",
   "version": "3.9.12"
  },
  "orig_nbformat": 4
 },
 "nbformat": 4,
 "nbformat_minor": 2
}
