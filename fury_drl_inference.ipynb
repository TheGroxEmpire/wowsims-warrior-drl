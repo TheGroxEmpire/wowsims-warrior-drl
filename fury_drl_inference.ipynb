{
 "cells": [
  {
   "cell_type": "code",
   "execution_count": 1,
   "metadata": {},
   "outputs": [
    {
     "name": "stderr",
     "output_type": "stream",
     "text": [
      "c:\\ProgramData\\Anaconda3\\envs\\civ6_rl_rllib\\lib\\site-packages\\tqdm\\auto.py:21: TqdmWarning: IProgress not found. Please update jupyter and ipywidgets. See https://ipywidgets.readthedocs.io/en/stable/user_install.html\n",
      "  from .autonotebook import tqdm as notebook_tqdm\n"
     ]
    }
   ],
   "source": [
    "import json\n",
    "from ray.rllib.algorithms.ppo import PPOConfig\n",
    "from ray.tune.registry import register_env\n",
    "from fury_sim_env import FurySimEnv\n",
    "from gymnasium import make\n",
    "from gymnasium.envs.registration import register\n",
    "from gymnasium.wrappers import FrameStack\n",
    "from fury import *\n",
    "\n",
    "spell_id_lists = {\n",
    "        '0' : \"Melee\",\n",
    "        '23881' : \"Bloodthirst\",\n",
    "        '1680' : \"Whirlwind\",\n",
    "        '47475' : \"Slam\",\n",
    "        '47450' : \"Heroic Strike\",\n",
    "        '47471' : \"Execute\",\n",
    "        '12867': \"Deep Wounds\",\n",
    "        '12292' : \"Death Wish\",\n",
    "        '1719' : \"Recklessness\",\n",
    "        '64382' : \"Shattering Throw\",\n",
    "        '54758' : \"Engi Gloves\",\n",
    "        '2457' : \"Battle Stance\",\n",
    "        '2458' : \"Berserker Stance\",\n",
    "        '2687' : 'Bloodrage',\n",
    "        '2825' : 'Bloodlust',\n",
    "        '47465': 'Rend',\n",
    "        '7384': 'Overpower',\n",
    "        '44949': 'Whirlwind OH',\n",
    "}"
   ]
  },
  {
   "attachments": {},
   "cell_type": "markdown",
   "metadata": {},
   "source": [
    "# Load Fury Raid Sim Request JSON"
   ]
  },
  {
   "cell_type": "code",
   "execution_count": 2,
   "metadata": {},
   "outputs": [],
   "source": [
    "f = open('data/fury-human-bis-p3.json')\n",
    "settings = json.load(f)"
   ]
  },
  {
   "attachments": {},
   "cell_type": "markdown",
   "metadata": {},
   "source": [
    "# Set environment and settings"
   ]
  },
  {
   "cell_type": "code",
   "execution_count": 3,
   "metadata": {},
   "outputs": [],
   "source": [
    "def reset():\n",
    "    wowsims.new(json.dumps(settings).encode('utf-8'))\n",
    "\n",
    "\n",
    "# Iterations are currently capped at 3000\n",
    "iterations = settings['simOptions']['iterations']\n",
    "\n",
    "duration = settings['encounter']['duration']\n",
    "reset()"
   ]
  },
  {
   "attachments": {},
   "cell_type": "markdown",
   "metadata": {},
   "source": [
    "# Default sim agent\n",
    "Default sim agent is the hardcoded agent from the sim"
   ]
  },
  {
   "cell_type": "code",
   "execution_count": 4,
   "metadata": {},
   "outputs": [
    {
     "name": "stdout",
     "output_type": "stream",
     "text": [
      "Average DPS: 11891.96688184432\n"
     ]
    }
   ],
   "source": [
    "settings['simOptions']['interactive'] = False\n",
    "damages = np.array([])\n",
    "\n",
    "for i in range(iterations):\n",
    "    reset()\n",
    "    while not wowsims.step():\n",
    "        pass\n",
    "    totalDamage = wowsims.getDamageDone()\n",
    "    damages = np.append(damages, totalDamage)\n",
    "\n",
    "print(f'Average DPS: {damages.mean() / duration}')"
   ]
  },
  {
   "cell_type": "code",
   "execution_count": 5,
   "metadata": {},
   "outputs": [
    {
     "name": "stdout",
     "output_type": "stream",
     "text": [
      "Melee: [1, 1, 1, 2, 9, 77]\n",
      "Death Wish: [2]\n",
      "Deep Wounds: [133]\n",
      "Whirlwind: [16]\n",
      "Recklessness: [1]\n",
      "Bloodthirst: [33]\n",
      "Battle Stance: [9]\n",
      "Berserker Stance: [9]\n",
      "Bloodrage: [4]\n",
      "Bloodlust: [1]\n",
      "Whirlwind OH: [16]\n",
      "Heroic Strike: [68]\n",
      "Rend: [4]\n",
      "Execute: [8]\n",
      "Slam: [19]\n",
      "Engi Gloves: [3]\n",
      "Shattering Throw: [1]\n",
      "Overpower: [5]\n"
     ]
    }
   ],
   "source": [
    "settings['simOptions']['interactive'] = False\n",
    "\n",
    "reset()\n",
    "while not wowsims.step():\n",
    "    pass\n",
    "    \n",
    "    \n",
    "cast_metrics = wowsims.getSpellMetrics()\n",
    "\n",
    "for spell_id, metrics in cast_metrics.items():\n",
    "    try:\n",
    "        spell_name = spell_id_lists[spell_id]\n",
    "    except KeyError as key:\n",
    "        spell_name = key\n",
    "    print(f\"{spell_name}: {[metric['Casts'] for metric in metrics]}\")"
   ]
  },
  {
   "attachments": {},
   "cell_type": "markdown",
   "metadata": {},
   "source": [
    "# PPO Agent"
   ]
  },
  {
   "attachments": {},
   "cell_type": "markdown",
   "metadata": {},
   "source": [
    "## Load Trained PPO Model"
   ]
  },
  {
   "cell_type": "code",
   "execution_count": 3,
   "metadata": {},
   "outputs": [
    {
     "name": "stderr",
     "output_type": "stream",
     "text": [
      "<>:14: DeprecationWarning: invalid escape sequence \\P\n",
      "c:\\ProgramData\\Anaconda3\\envs\\civ6_rl_rllib\\lib\\site-packages\\gymnasium\\envs\\registration.py:498: UserWarning: \u001b[33mWARN: Overriding environment FurySimEnv already in registry.\u001b[0m\n",
      "  logger.warn(f\"Overriding environment {new_spec.id} already in registry.\")\n",
      "2023-05-18 15:13:49,830\tWARNING util.py:67 -- Install gputil for GPU system monitoring.\n",
      "2023-05-18 15:13:49,837\tWARNING checkpoints.py:109 -- No `rllib_checkpoint.json` file found in checkpoint directory models//test\\PPO\\PPO_FurySimEnv_9a49c_00000_0_2023-05-18_15-04-24\\checkpoint_000012! Trying to extract checkpoint info from other files found in that dir.\n",
      "\u001b[2m\u001b[36m(RolloutWorker pid=35304)\u001b[0m 2023-05-18 15:13:49,793\tWARNING env.py:155 -- Your env doesn't have a .spec.max_episode_steps attribute. Your horizon will default to infinity, and your environment will not be reset.\n",
      "2023-05-18 15:13:49,849\tWARNING algorithm_config.py:635 -- Cannot create PPOConfig from given `config_dict`! Property __stdout_file__ not supported.\n",
      "\u001b[2m\u001b[36m(RolloutWorker pid=20184)\u001b[0m 2023-05-18 15:13:56,725\tINFO policy.py:1285 -- Policy (worker=7) running on CPU.\n",
      "\u001b[2m\u001b[36m(RolloutWorker pid=20184)\u001b[0m 2023-05-18 15:13:56,725\tINFO torch_policy_v2.py:110 -- Found 0 visible cuda devices.\n",
      "\u001b[2m\u001b[36m(RolloutWorker pid=7600)\u001b[0m 2023-05-18 15:13:56,667\tWARNING env.py:155 -- Your env doesn't have a .spec.max_episode_steps attribute. Your horizon will default to infinity, and your environment will not be reset.\n",
      "2023-05-18 15:14:09,542\tINFO worker_set.py:312 -- Inferred observation/action spaces from remote worker (local worker has no env): {'default_policy': (Box(-1.0, 1.0, (24,), float64), Discrete(10)), '__env__': (Box(-1.0, 1.0, (24,), float64), Discrete(10))}\n",
      "2023-05-18 15:14:09,554\tINFO policy.py:1285 -- Policy (worker=local) running on CPU.\n",
      "2023-05-18 15:14:09,555\tINFO torch_policy_v2.py:110 -- Found 0 visible cuda devices.\n",
      "2023-05-18 15:14:09,560\tINFO rollout_worker.py:2000 -- Built policy map: <PolicyMap lru-caching-capacity=100 policy-IDs=['default_policy']>\n",
      "2023-05-18 15:14:09,561\tINFO rollout_worker.py:2001 -- Built preprocessor map: {'default_policy': <ray.rllib.models.preprocessors.NoPreprocessor object at 0x0000023CDFA9A880>}\n",
      "2023-05-18 15:14:09,562\tINFO rollout_worker.py:761 -- Built filter map: defaultdict(<class 'ray.rllib.utils.filter.NoFilter'>, {'default_policy': <ray.rllib.utils.filter.NoFilter object at 0x0000023CAA10C370>})\n",
      "2023-05-18 15:14:09,580\tINFO trainable.py:172 -- Trainable.setup took 19.721 seconds. If your trainable is slow to initialize, consider setting reuse_actors=True to reduce actor creation overheads.\n",
      "2023-05-18 15:14:09,582\tWARNING util.py:67 -- Install gputil for GPU system monitoring.\n"
     ]
    },
    {
     "data": {
      "text/plain": [
       "PPO"
      ]
     },
     "execution_count": 3,
     "metadata": {},
     "output_type": "execute_result"
    }
   ],
   "source": [
    "config = PPOConfig()\\\n",
    "            .rollouts(num_rollout_workers=1)\n",
    "\n",
    "\n",
    "register(id=\"FurySimEnv\", entry_point=\"fury_sim_env:FurySimEnv\")\n",
    "env = make(\"FurySimEnv\")\n",
    "# env_creator = lambda config: FrameStack(env, num_stack=5)\n",
    "env_creator = lambda config: FurySimEnv(...)\n",
    "register_env(\"FurySimEnv\", env_creator=env_creator)\n",
    "# env = FrameStack(env, num_stack=5)\n",
    "\n",
    "algorithm = config.build(env=\"FurySimEnv\")\n",
    "\n",
    "algorithm.from_checkpoint(\"models//test\\PPO\\PPO_FurySimEnv_9a49c_00000_0_2023-05-18_15-04-24\\checkpoint_000012\")"
   ]
  },
  {
   "attachments": {},
   "cell_type": "markdown",
   "metadata": {},
   "source": [
    "## Run PPO Model"
   ]
  },
  {
   "cell_type": "code",
   "execution_count": 12,
   "metadata": {},
   "outputs": [],
   "source": [
    "import numpy as np\n",
    "\n",
    "for i in range(1):\n",
    "    observation, info = env.reset()\n",
    "    terminated = False\n",
    "    reward = 0\n",
    "    batch = []\n",
    "    dps_results = np.array([])\n",
    "    metrics_batch = []\n",
    "    debug_logs = []\n",
    "    debug_logs_batch = []\n",
    "    state_out = []\n",
    "    while not terminated:\n",
    "        action = algorithm.compute_single_action(observation)\n",
    "        observation, reward, terminated, truncated, info = env.step(action)\n",
    "        debug_logs.append(info['debug log'])\n",
    "    debug_logs_batch.append(debug_logs)\n",
    "    dps_results = np.append(dps_results, info['dps'])\n",
    "    metrics_batch.append(info['spell metrics'])"
   ]
  },
  {
   "cell_type": "code",
   "execution_count": 16,
   "metadata": {},
   "outputs": [
    {
     "name": "stdout",
     "output_type": "stream",
     "text": [
      "Average DPS: 8088.5569231609525\n",
      "Melee: [1, 32, 58]\n",
      "Death Wish: [2]\n",
      "Deep Wounds: [111]\n",
      "Whirlwind: [11]\n",
      "Recklessness: [1]\n",
      "Bloodthirst: [15]\n",
      "Bloodrage: [4]\n",
      "Whirlwind OH: [11]\n",
      "Heroic Strike: [26]\n",
      "Execute: [4]\n",
      "Slam: [33]\n",
      "Engi Gloves: [3]\n"
     ]
    }
   ],
   "source": [
    "median = np.argsort(dps_results)[len(dps_results)//2]\n",
    "print(f'Average DPS: {dps_results[median]}')\n",
    "\n",
    "cast_metrics = metrics_batch[median]\n",
    "for spell_id, metrics in cast_metrics.items():\n",
    "    # Only one target, so we can just take the first one\n",
    "    try:\n",
    "        spell_name = spell_id_lists[spell_id]\n",
    "    except KeyError as key:\n",
    "        spell_name = key\n",
    "    print(f\"{spell_name}: {[metric['Casts'] for metric in metrics]}\")"
   ]
  },
  {
   "attachments": {},
   "cell_type": "markdown",
   "metadata": {},
   "source": [
    "### Debug Log"
   ]
  },
  {
   "cell_type": "code",
   "execution_count": 14,
   "metadata": {},
   "outputs": [],
   "source": [
    "actions_id = {\n",
    "    0: \"Bloodthirst\", \n",
    "    1: \"Whirlwind\",\n",
    "    2: \"Slam\",\n",
    "    3: \"HeroicStrike\",\n",
    "    4: \"Execute\",\n",
    "    5: \"DeathWish\",\n",
    "    6: \"Recklessness\",\n",
    "    7: \"ShatteringThrow\",\n",
    "    8: \"Bloodrage\",\n",
    "    9: \"EngiGlove\",\n",
    "    10: \"Bloodlust\",\n",
    "    11: \"Idle\"\n",
    "}"
   ]
  },
  {
   "cell_type": "code",
   "execution_count": 15,
   "metadata": {},
   "outputs": [
    {
     "data": {
      "text/html": [
       "<div>\n",
       "<style scoped>\n",
       "    .dataframe tbody tr th:only-of-type {\n",
       "        vertical-align: middle;\n",
       "    }\n",
       "\n",
       "    .dataframe tbody tr th {\n",
       "        vertical-align: top;\n",
       "    }\n",
       "\n",
       "    .dataframe thead th {\n",
       "        text-align: right;\n",
       "    }\n",
       "</style>\n",
       "<table border=\"1\" class=\"dataframe\">\n",
       "  <thead>\n",
       "    <tr style=\"text-align: right;\">\n",
       "      <th></th>\n",
       "      <th>Timestamp</th>\n",
       "      <th>Action</th>\n",
       "      <th>Successful Cast</th>\n",
       "      <th>Damage Done</th>\n",
       "      <th>Total Damage Done</th>\n",
       "      <th>Rage</th>\n",
       "      <th>DPS</th>\n",
       "    </tr>\n",
       "  </thead>\n",
       "  <tbody>\n",
       "    <tr>\n",
       "      <th>0</th>\n",
       "      <td>0.000000</td>\n",
       "      <td>Bloodthirst</td>\n",
       "      <td>True</td>\n",
       "      <td>7583.504104</td>\n",
       "      <td>7.583504e+03</td>\n",
       "      <td>0.138444</td>\n",
       "      <td>inf</td>\n",
       "    </tr>\n",
       "    <tr>\n",
       "      <th>1</th>\n",
       "      <td>0.744206</td>\n",
       "      <td>EngiGlove</td>\n",
       "      <td>True</td>\n",
       "      <td>5825.238291</td>\n",
       "      <td>1.340874e+04</td>\n",
       "      <td>0.746347</td>\n",
       "      <td>1.801751e+04</td>\n",
       "    </tr>\n",
       "    <tr>\n",
       "      <th>2</th>\n",
       "      <td>0.744206</td>\n",
       "      <td>EngiGlove</td>\n",
       "      <td>True</td>\n",
       "      <td>0.000000</td>\n",
       "      <td>1.340874e+04</td>\n",
       "      <td>0.746347</td>\n",
       "      <td>1.801751e+04</td>\n",
       "    </tr>\n",
       "    <tr>\n",
       "      <th>3</th>\n",
       "      <td>1.500000</td>\n",
       "      <td>Execute</td>\n",
       "      <td>False</td>\n",
       "      <td>0.000000</td>\n",
       "      <td>1.340874e+04</td>\n",
       "      <td>0.746347</td>\n",
       "      <td>8.939162e+03</td>\n",
       "    </tr>\n",
       "    <tr>\n",
       "      <th>4</th>\n",
       "      <td>1.744206</td>\n",
       "      <td>Execute</td>\n",
       "      <td>False</td>\n",
       "      <td>659.257222</td>\n",
       "      <td>1.406800e+04</td>\n",
       "      <td>0.746347</td>\n",
       "      <td>8.065559e+03</td>\n",
       "    </tr>\n",
       "    <tr>\n",
       "      <th>...</th>\n",
       "      <td>...</td>\n",
       "      <td>...</td>\n",
       "      <td>...</td>\n",
       "      <td>...</td>\n",
       "      <td>...</td>\n",
       "      <td>...</td>\n",
       "      <td>...</td>\n",
       "    </tr>\n",
       "    <tr>\n",
       "      <th>477</th>\n",
       "      <td>163.930210</td>\n",
       "      <td>EngiGlove</td>\n",
       "      <td>True</td>\n",
       "      <td>6915.390019</td>\n",
       "      <td>1.298184e+06</td>\n",
       "      <td>0.640626</td>\n",
       "      <td>7.919129e+03</td>\n",
       "    </tr>\n",
       "    <tr>\n",
       "      <th>478</th>\n",
       "      <td>164.062964</td>\n",
       "      <td>Recklessness</td>\n",
       "      <td>False</td>\n",
       "      <td>0.000000</td>\n",
       "      <td>1.298184e+06</td>\n",
       "      <td>0.640626</td>\n",
       "      <td>7.912721e+03</td>\n",
       "    </tr>\n",
       "    <tr>\n",
       "      <th>479</th>\n",
       "      <td>164.562964</td>\n",
       "      <td>HeroicStrike</td>\n",
       "      <td>True</td>\n",
       "      <td>2365.547630</td>\n",
       "      <td>1.300550e+06</td>\n",
       "      <td>0.640626</td>\n",
       "      <td>7.903054e+03</td>\n",
       "    </tr>\n",
       "    <tr>\n",
       "      <th>480</th>\n",
       "      <td>164.979716</td>\n",
       "      <td>Bloodthirst</td>\n",
       "      <td>True</td>\n",
       "      <td>11452.354968</td>\n",
       "      <td>1.312002e+06</td>\n",
       "      <td>0.420626</td>\n",
       "      <td>7.952507e+03</td>\n",
       "    </tr>\n",
       "    <tr>\n",
       "      <th>481</th>\n",
       "      <td>165.989716</td>\n",
       "      <td>Execute</td>\n",
       "      <td>False</td>\n",
       "      <td>763.856060</td>\n",
       "      <td>1.312766e+06</td>\n",
       "      <td>0.420626</td>\n",
       "      <td>7.908720e+03</td>\n",
       "    </tr>\n",
       "  </tbody>\n",
       "</table>\n",
       "<p>482 rows × 7 columns</p>\n",
       "</div>"
      ],
      "text/plain": [
       "      Timestamp        Action  Successful Cast   Damage Done  \\\n",
       "0      0.000000   Bloodthirst             True   7583.504104   \n",
       "1      0.744206     EngiGlove             True   5825.238291   \n",
       "2      0.744206     EngiGlove             True      0.000000   \n",
       "3      1.500000       Execute            False      0.000000   \n",
       "4      1.744206       Execute            False    659.257222   \n",
       "..          ...           ...              ...           ...   \n",
       "477  163.930210     EngiGlove             True   6915.390019   \n",
       "478  164.062964  Recklessness            False      0.000000   \n",
       "479  164.562964  HeroicStrike             True   2365.547630   \n",
       "480  164.979716   Bloodthirst             True  11452.354968   \n",
       "481  165.989716       Execute            False    763.856060   \n",
       "\n",
       "     Total Damage Done      Rage           DPS  \n",
       "0         7.583504e+03  0.138444           inf  \n",
       "1         1.340874e+04  0.746347  1.801751e+04  \n",
       "2         1.340874e+04  0.746347  1.801751e+04  \n",
       "3         1.340874e+04  0.746347  8.939162e+03  \n",
       "4         1.406800e+04  0.746347  8.065559e+03  \n",
       "..                 ...       ...           ...  \n",
       "477       1.298184e+06  0.640626  7.919129e+03  \n",
       "478       1.298184e+06  0.640626  7.912721e+03  \n",
       "479       1.300550e+06  0.640626  7.903054e+03  \n",
       "480       1.312002e+06  0.420626  7.952507e+03  \n",
       "481       1.312766e+06  0.420626  7.908720e+03  \n",
       "\n",
       "[482 rows x 7 columns]"
      ]
     },
     "execution_count": 15,
     "metadata": {},
     "output_type": "execute_result"
    }
   ],
   "source": [
    "import pandas as pd\n",
    "\n",
    "df = pd.DataFrame(debug_logs_batch[median], columns=['Timestamp', 'Action', 'Successful Cast', 'Damage Done', 'Total Damage Done', 'Rage'])\n",
    "df['Action'] = df['Action'].map(actions_id)\n",
    "df['DPS'] = df['Total Damage Done'].div(df['Timestamp'])\n",
    "df"
   ]
  },
  {
   "cell_type": "code",
   "execution_count": 16,
   "metadata": {},
   "outputs": [],
   "source": [
    "df.to_csv(\"debug_logs/debug_log_1.csv\")"
   ]
  },
  {
   "attachments": {},
   "cell_type": "markdown",
   "metadata": {},
   "source": [
    "# Spell Debug"
   ]
  },
  {
   "cell_type": "code",
   "execution_count": null,
   "metadata": {},
   "outputs": [],
   "source": [
    "reset()\n",
    "Spells.register()\n",
    "Auras.register()\n",
    "TargetAuras.register()\n",
    "\n",
    "settings['simOptions']['interactive'] = True\n",
    "damages = np.array([])\n",
    "spell_metrics = []\n",
    "\n",
    "for i in range(1):\n",
    "    reset()\n",
    "    while not wowsims.step():\n",
    "        print(env.reset())\n",
    "        if wowsims.needsInput():\n",
    "            wowsims.trySpell(Spells.Bloodthirst)\n",
    "    totalDamage = wowsims.getDamageDone()\n",
    "    damages = np.append(damages, totalDamage)\n",
    "    spell_metrics.append(wowsims.getSpellMetrics())\n",
    "\n",
    "median = np.argsort(damages)[len(damages)//2]\n",
    "print(f'Average DPS: {damages[median] / duration}')"
   ]
  },
  {
   "cell_type": "code",
   "execution_count": 7,
   "metadata": {},
   "outputs": [
    {
     "name": "stdout",
     "output_type": "stream",
     "text": [
      "Melee: [1, 54]\n",
      "Deep Wounds: [67]\n",
      "Heroic Strike: [54]\n"
     ]
    }
   ],
   "source": [
    "settings['simOptions']['interactive'] = True\n",
    "\n",
    "reset()\n",
    "while not wowsims.step():\n",
    "    pass\n",
    "cast_metrics = spell_metrics[median]\n",
    "for spell_id, metrics in cast_metrics.items():\n",
    "    try:\n",
    "        spell_name = spell_id_lists[spell_id]\n",
    "    except KeyError as key:\n",
    "        spell_name = key\n",
    "    print(f\"{spell_name}: {[metric['Casts'] for metric in metrics]}\")"
   ]
  }
 ],
 "metadata": {
  "kernelspec": {
   "display_name": "tts39",
   "language": "python",
   "name": "python3"
  },
  "language_info": {
   "codemirror_mode": {
    "name": "ipython",
    "version": 3
   },
   "file_extension": ".py",
   "mimetype": "text/x-python",
   "name": "python",
   "nbconvert_exporter": "python",
   "pygments_lexer": "ipython3",
   "version": "3.9.12"
  },
  "orig_nbformat": 4
 },
 "nbformat": 4,
 "nbformat_minor": 2
}
