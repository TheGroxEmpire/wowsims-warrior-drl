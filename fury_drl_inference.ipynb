{
 "cells": [
  {
   "cell_type": "code",
   "execution_count": 1,
   "metadata": {},
   "outputs": [],
   "source": [
    "import json\n",
    "import numpy as np\n",
    "import wowsims\n",
    "\n",
    "spell_id_lists = {\n",
    "        '0' : \"Melee\",\n",
    "        '23881' : \"Bloodthirst\",\n",
    "        '1680' : \"Whirlwind\",\n",
    "        '47475' : \"Slam\",\n",
    "        '47450' : \"Heroic Strike\",\n",
    "        '47471' : \"Execute\",\n",
    "        '12867': \"Deep Wounds\",\n",
    "        '12292' : \"Death Wish\",\n",
    "        '1719' : \"Recklessness\",\n",
    "        '64382' : \"Shattering Throw\",\n",
    "        '54758' : \"Engi Gloves\",\n",
    "        '2457' : \"Battle Stance\",\n",
    "        '2458' : \"Berserker Stance\",\n",
    "        '2687' : 'Bloodrage',\n",
    "        '2825' : 'Bloodlust',\n",
    "        '47465': 'Rend',\n",
    "        '7384': 'Overpower',\n",
    "        '44949': 'Whirlwind OH',\n",
    "}"
   ]
  },
  {
   "attachments": {},
   "cell_type": "markdown",
   "metadata": {},
   "source": [
    "# Load Fury Raid Sim Request JSON"
   ]
  },
  {
   "cell_type": "code",
   "execution_count": 13,
   "metadata": {},
   "outputs": [],
   "source": [
    "f = open('data/fury-human-bis-p3.json')\n",
    "settings = json.load(f)"
   ]
  },
  {
   "attachments": {},
   "cell_type": "markdown",
   "metadata": {},
   "source": [
    "# Set environment and settings"
   ]
  },
  {
   "cell_type": "code",
   "execution_count": 14,
   "metadata": {},
   "outputs": [],
   "source": [
    "from fury import *\n",
    "\n",
    "def reset():\n",
    "    wowsims.new(json.dumps(settings).encode('utf-8'))\n",
    "\n",
    "\n",
    "# Iterations are currently capped at 3000\n",
    "iterations = settings['simOptions']['iterations']\n",
    "\n",
    "duration = settings['encounter']['duration']\n",
    "reset()"
   ]
  },
  {
   "attachments": {},
   "cell_type": "markdown",
   "metadata": {},
   "source": [
    "# Default sim agent\n",
    "Default sim agent is the hardcoded agent from the sim"
   ]
  },
  {
   "cell_type": "code",
   "execution_count": 4,
   "metadata": {},
   "outputs": [
    {
     "name": "stdout",
     "output_type": "stream",
     "text": [
      "Average DPS: 11782.327334307121\n"
     ]
    }
   ],
   "source": [
    "settings['simOptions']['interactive'] = False\n",
    "damages = np.array([])\n",
    "\n",
    "for i in range(iterations):\n",
    "    reset()\n",
    "    while not wowsims.step():\n",
    "        pass\n",
    "    totalDamage = wowsims.getDamageDone()\n",
    "    damages = np.append(damages, totalDamage)\n",
    "\n",
    "print(f'Average DPS: {damages.mean() / duration}')"
   ]
  },
  {
   "cell_type": "code",
   "execution_count": 7,
   "metadata": {},
   "outputs": [
    {
     "name": "stdout",
     "output_type": "stream",
     "text": [
      "Melee: [1, 1, 1, 2, 6, 65]\n",
      "Death Wish: [2]\n",
      "Deep Wounds: [113]\n",
      "Whirlwind: [12]\n",
      "Recklessness: [1]\n",
      "Bloodthirst: [28]\n",
      "Battle Stance: [6]\n",
      "Berserker Stance: [6]\n",
      "Bloodrage: [3]\n",
      "Bloodlust: [1]\n",
      "Whirlwind OH: [12]\n",
      "Heroic Strike: [59]\n",
      "Rend: [4]\n",
      "Execute: [4]\n",
      "Slam: [18]\n",
      "Engi Gloves: [3]\n",
      "Shattering Throw: [1]\n",
      "Overpower: [2]\n"
     ]
    }
   ],
   "source": [
    "settings['simOptions']['interactive'] = False\n",
    "\n",
    "reset()\n",
    "while not wowsims.step():\n",
    "    pass\n",
    "cast_metrics = wowsims.getSpellMetrics()\n",
    "for spell_id, metrics in cast_metrics.items():\n",
    "    try:\n",
    "        spell_name = spell_id_lists[spell_id]\n",
    "    except KeyError as key:\n",
    "        spell_name = key\n",
    "    print(f\"{spell_name}: {[metric['Casts'] for metric in metrics]}\")"
   ]
  },
  {
   "attachments": {},
   "cell_type": "markdown",
   "metadata": {},
   "source": [
    "# PPO Agent"
   ]
  },
  {
   "attachments": {},
   "cell_type": "markdown",
   "metadata": {},
   "source": [
    "## Load Trained PPO Model"
   ]
  },
  {
   "cell_type": "code",
   "execution_count": 2,
   "metadata": {},
   "outputs": [
    {
     "name": "stderr",
     "output_type": "stream",
     "text": [
      "c:\\ProgramData\\Anaconda3\\envs\\civ6_rl_rllib\\lib\\site-packages\\tqdm\\auto.py:21: TqdmWarning: IProgress not found. Please update jupyter and ipywidgets. See https://ipywidgets.readthedocs.io/en/stable/user_install.html\n",
      "  from .autonotebook import tqdm as notebook_tqdm\n",
      "2023-05-01 20:15:39,208\tINFO worker.py:1616 -- Started a local Ray instance. View the dashboard at \u001b[1m\u001b[32m127.0.0.1:8265 \u001b[39m\u001b[22m\n",
      "\u001b[2m\u001b[36m(RolloutWorker pid=28692)\u001b[0m 2023-05-01 20:15:45,140\tWARNING env.py:155 -- Your env doesn't have a .spec.max_episode_steps attribute. Your horizon will default to infinity, and your environment will not be reset.\n",
      "2023-05-01 20:15:45,273\tWARNING util.py:67 -- Install gputil for GPU system monitoring.\n",
      "2023-05-01 20:15:45,277\tWARNING checkpoints.py:109 -- No `rllib_checkpoint.json` file found in checkpoint directory models\\Fury\\PPO\\PPO_FurySimEnv_991e2_00010_10_entropy_coeff=0,kl_coeff=0.5000,lambda=0.9500,num_sgd_iter=20,sgd_minibatch_size=500_2023-05-01_19-09-47\\checkpoint_000015\\.! Trying to extract checkpoint info from other files found in that dir.\n",
      "2023-05-01 20:15:45,283\tWARNING algorithm_config.py:635 -- Cannot create PPOConfig from given `config_dict`! Property __stdout_file__ not supported.\n",
      "2023-05-01 20:15:45,304\tINFO trainable.py:913 -- Restored on 127.0.0.1 from checkpoint: models\\Fury\\PPO\\PPO_FurySimEnv_991e2_00010_10_entropy_coeff=0,kl_coeff=0.5000,lambda=0.9500,num_sgd_iter=20,sgd_minibatch_size=500_2023-05-01_19-09-47\\checkpoint_000015\n",
      "2023-05-01 20:15:45,305\tINFO trainable.py:922 -- Current state after restoring: {'_iteration': 15, '_timesteps_total': None, '_time_total': 131.751558303833, '_episodes_total': 1078}\n"
     ]
    }
   ],
   "source": [
    "from ray.rllib.algorithms.ppo import PPOConfig\n",
    "from ray.tune.registry import register_env\n",
    "from fury_sim_env import FurySimEnv\n",
    "from gymnasium import make\n",
    "from gymnasium.envs.registration import register\n",
    "\n",
    "def env_creator(env_config):\n",
    "    return FurySimEnv(...)\n",
    "\n",
    "register_env(\"FurySimEnv\", env_creator)\n",
    "\n",
    "config = PPOConfig()\\\n",
    "            .rollouts(num_rollout_workers=1)\n",
    "\n",
    "algorithm = config.build(env=\"FurySimEnv\")\n",
    "algorithm.restore(\"models\\Fury\\PPO\\PPO_FurySimEnv_b7fbb_00005_5_entropy_coeff=0.0100,kl_coeff=0.3000,lambda=1,num_sgd_iter=10,sgd_minibatch_size=500_2023-05-01_20-49-18\\checkpoint_000022\")\n",
    "\n",
    "register(id=\"FurySimEnv\", entry_point=\"fury_sim_env:FurySimEnv\")\n",
    "env = make(\"FurySimEnv\")"
   ]
  },
  {
   "attachments": {},
   "cell_type": "markdown",
   "metadata": {},
   "source": [
    "## Run PPO Model"
   ]
  },
  {
   "cell_type": "code",
   "execution_count": 3,
   "metadata": {},
   "outputs": [],
   "source": [
    "for i in range(100):\n",
    "    observation, info = env.reset()\n",
    "    terminated = False\n",
    "    reward = 0\n",
    "    batch = []\n",
    "    dps_results = np.array([])\n",
    "    metrics_batch = []\n",
    "    debug_logs = []\n",
    "    debug_logs_batch = []\n",
    "    while not terminated:\n",
    "        action = algorithm.compute_single_action(observation)\n",
    "        observation, reward, terminated, truncated, info = env.step(action)\n",
    "        batch.append(np.concatenate((observation, [action], [reward])))\n",
    "        debug_logs.append(info['debug log'])\n",
    "    debug_logs_batch.append(debug_logs)\n",
    "    dps_results = np.append(dps_results, info['dps'])\n",
    "    metrics_batch.append(info['spell metrics'])"
   ]
  },
  {
   "cell_type": "code",
   "execution_count": 4,
   "metadata": {},
   "outputs": [
    {
     "name": "stdout",
     "output_type": "stream",
     "text": [
      "Average DPS: 6138.323719235898\n",
      "Melee: [1, 21, 24]\n",
      "Deep Wounds: [68]\n",
      "Whirlwind: [5]\n",
      "Bloodthirst: [5]\n",
      "Bloodrage: [1]\n",
      "Bloodlust: [1]\n",
      "Whirlwind OH: [5]\n",
      "Heroic Strike: [4]\n",
      "Execute: [9]\n",
      "Slam: [52]\n",
      "Engi Gloves: [1]\n",
      "Shattering Throw: [1]\n"
     ]
    }
   ],
   "source": [
    "median = np.argsort(dps_results)[len(dps_results)//2]\n",
    "print(f'Average DPS: {dps_results[median]}')\n",
    "\n",
    "cast_metrics = metrics_batch[median]\n",
    "for spell_id, metrics in cast_metrics.items():\n",
    "    # Only one target, so we can just take the first one\n",
    "    try:\n",
    "        spell_name = spell_id_lists[spell_id]\n",
    "    except KeyError as key:\n",
    "        spell_name = key\n",
    "    print(f\"{spell_name}: {[metric['Casts'] for metric in metrics]}\")"
   ]
  },
  {
   "attachments": {},
   "cell_type": "markdown",
   "metadata": {},
   "source": [
    "### Debug Log"
   ]
  },
  {
   "cell_type": "code",
   "execution_count": 5,
   "metadata": {},
   "outputs": [],
   "source": [
    "actions_id = {\n",
    "    0: \"Bloodthirst\", \n",
    "    1: \"Whirlwind\",\n",
    "    2: \"Slam\",\n",
    "    3: \"HeroicStrike\",\n",
    "    4: \"Execute\",\n",
    "    5: \"DeathWish\",\n",
    "    6: \"Recklessness\",\n",
    "    7: \"ShatteringThrow\",\n",
    "    8: \"Bloodrage\",\n",
    "    9: \"EngiGlove\",\n",
    "    10: \"Bloodlust\",\n",
    "}"
   ]
  },
  {
   "cell_type": "code",
   "execution_count": 6,
   "metadata": {},
   "outputs": [
    {
     "data": {
      "text/html": [
       "<div>\n",
       "<style scoped>\n",
       "    .dataframe tbody tr th:only-of-type {\n",
       "        vertical-align: middle;\n",
       "    }\n",
       "\n",
       "    .dataframe tbody tr th {\n",
       "        vertical-align: top;\n",
       "    }\n",
       "\n",
       "    .dataframe thead th {\n",
       "        text-align: right;\n",
       "    }\n",
       "</style>\n",
       "<table border=\"1\" class=\"dataframe\">\n",
       "  <thead>\n",
       "    <tr style=\"text-align: right;\">\n",
       "      <th></th>\n",
       "      <th>Timestamp</th>\n",
       "      <th>Action</th>\n",
       "      <th>Successful Cast</th>\n",
       "      <th>Damage Done</th>\n",
       "      <th>Total Damage Done</th>\n",
       "      <th>Rage</th>\n",
       "      <th>DPS</th>\n",
       "    </tr>\n",
       "  </thead>\n",
       "  <tbody>\n",
       "    <tr>\n",
       "      <th>0</th>\n",
       "      <td>0.010000</td>\n",
       "      <td>Slam</td>\n",
       "      <td>True</td>\n",
       "      <td>5343.576830</td>\n",
       "      <td>5343.576830</td>\n",
       "      <td>56.805632</td>\n",
       "      <td>534357.683047</td>\n",
       "    </tr>\n",
       "    <tr>\n",
       "      <th>1</th>\n",
       "      <td>1.520000</td>\n",
       "      <td>HeroicStrike</td>\n",
       "      <td>True</td>\n",
       "      <td>10609.969590</td>\n",
       "      <td>15953.546421</td>\n",
       "      <td>72.978699</td>\n",
       "      <td>10495.754224</td>\n",
       "    </tr>\n",
       "    <tr>\n",
       "      <th>2</th>\n",
       "      <td>1.520000</td>\n",
       "      <td>Slam</td>\n",
       "      <td>True</td>\n",
       "      <td>0.000000</td>\n",
       "      <td>15953.546421</td>\n",
       "      <td>72.978699</td>\n",
       "      <td>10495.754224</td>\n",
       "    </tr>\n",
       "    <tr>\n",
       "      <th>3</th>\n",
       "      <td>3.030000</td>\n",
       "      <td>Slam</td>\n",
       "      <td>True</td>\n",
       "      <td>9254.488217</td>\n",
       "      <td>25208.034638</td>\n",
       "      <td>57.978699</td>\n",
       "      <td>8319.483379</td>\n",
       "    </tr>\n",
       "    <tr>\n",
       "      <th>4</th>\n",
       "      <td>4.918250</td>\n",
       "      <td>Bloodlust</td>\n",
       "      <td>True</td>\n",
       "      <td>8177.141382</td>\n",
       "      <td>33385.176020</td>\n",
       "      <td>30.978699</td>\n",
       "      <td>6788.019806</td>\n",
       "    </tr>\n",
       "    <tr>\n",
       "      <th>...</th>\n",
       "      <td>...</td>\n",
       "      <td>...</td>\n",
       "      <td>...</td>\n",
       "      <td>...</td>\n",
       "      <td>...</td>\n",
       "      <td>...</td>\n",
       "      <td>...</td>\n",
       "    </tr>\n",
       "    <tr>\n",
       "      <th>102</th>\n",
       "      <td>118.607401</td>\n",
       "      <td>Execute</td>\n",
       "      <td>True</td>\n",
       "      <td>12064.557741</td>\n",
       "      <td>733882.282311</td>\n",
       "      <td>63.993515</td>\n",
       "      <td>6187.491483</td>\n",
       "    </tr>\n",
       "    <tr>\n",
       "      <th>103</th>\n",
       "      <td>120.801024</td>\n",
       "      <td>Slam</td>\n",
       "      <td>True</td>\n",
       "      <td>8989.875967</td>\n",
       "      <td>742872.158279</td>\n",
       "      <td>100.000000</td>\n",
       "      <td>6149.551848</td>\n",
       "    </tr>\n",
       "    <tr>\n",
       "      <th>104</th>\n",
       "      <td>122.311024</td>\n",
       "      <td>Execute</td>\n",
       "      <td>True</td>\n",
       "      <td>12000.409684</td>\n",
       "      <td>754872.567962</td>\n",
       "      <td>55.000000</td>\n",
       "      <td>6171.745975</td>\n",
       "    </tr>\n",
       "    <tr>\n",
       "      <th>105</th>\n",
       "      <td>124.311024</td>\n",
       "      <td>Execute</td>\n",
       "      <td>True</td>\n",
       "      <td>8188.737090</td>\n",
       "      <td>763061.305052</td>\n",
       "      <td>47.431564</td>\n",
       "      <td>6138.323719</td>\n",
       "    </tr>\n",
       "    <tr>\n",
       "      <th>106</th>\n",
       "      <td>124.311024</td>\n",
       "      <td>Execute</td>\n",
       "      <td>False</td>\n",
       "      <td>0.000000</td>\n",
       "      <td>763061.305052</td>\n",
       "      <td>47.431564</td>\n",
       "      <td>6138.323719</td>\n",
       "    </tr>\n",
       "  </tbody>\n",
       "</table>\n",
       "<p>107 rows × 7 columns</p>\n",
       "</div>"
      ],
      "text/plain": [
       "      Timestamp        Action  Successful Cast   Damage Done  \\\n",
       "0      0.010000          Slam             True   5343.576830   \n",
       "1      1.520000  HeroicStrike             True  10609.969590   \n",
       "2      1.520000          Slam             True      0.000000   \n",
       "3      3.030000          Slam             True   9254.488217   \n",
       "4      4.918250     Bloodlust             True   8177.141382   \n",
       "..          ...           ...              ...           ...   \n",
       "102  118.607401       Execute             True  12064.557741   \n",
       "103  120.801024          Slam             True   8989.875967   \n",
       "104  122.311024       Execute             True  12000.409684   \n",
       "105  124.311024       Execute             True   8188.737090   \n",
       "106  124.311024       Execute            False      0.000000   \n",
       "\n",
       "     Total Damage Done        Rage            DPS  \n",
       "0          5343.576830   56.805632  534357.683047  \n",
       "1         15953.546421   72.978699   10495.754224  \n",
       "2         15953.546421   72.978699   10495.754224  \n",
       "3         25208.034638   57.978699    8319.483379  \n",
       "4         33385.176020   30.978699    6788.019806  \n",
       "..                 ...         ...            ...  \n",
       "102      733882.282311   63.993515    6187.491483  \n",
       "103      742872.158279  100.000000    6149.551848  \n",
       "104      754872.567962   55.000000    6171.745975  \n",
       "105      763061.305052   47.431564    6138.323719  \n",
       "106      763061.305052   47.431564    6138.323719  \n",
       "\n",
       "[107 rows x 7 columns]"
      ]
     },
     "execution_count": 6,
     "metadata": {},
     "output_type": "execute_result"
    }
   ],
   "source": [
    "import pandas as pd\n",
    "\n",
    "df = pd.DataFrame(debug_logs_batch[median], columns=['Timestamp', 'Action', 'Successful Cast', 'Damage Done', 'Total Damage Done', 'Rage'])\n",
    "df['Action'] = df['Action'].map(actions_id)\n",
    "df['DPS'] = df['Total Damage Done'].div(df['Timestamp'])\n",
    "df"
   ]
  },
  {
   "cell_type": "code",
   "execution_count": 18,
   "metadata": {},
   "outputs": [],
   "source": [
    "df.to_csv(\"debug_logs/debug_log_1.csv\")"
   ]
  },
  {
   "attachments": {},
   "cell_type": "markdown",
   "metadata": {},
   "source": [
    "# Spell Debug"
   ]
  },
  {
   "cell_type": "code",
   "execution_count": 4,
   "metadata": {},
   "outputs": [
    {
     "name": "stdout",
     "output_type": "stream",
     "text": [
      "Average DPS: 5136.616341010212\n"
     ]
    }
   ],
   "source": [
    "reset()\n",
    "Spells.register()\n",
    "Auras.register()\n",
    "TargetAuras.register()\n",
    "\n",
    "settings['simOptions']['interactive'] = True\n",
    "damages = np.array([])\n",
    "spell_metrics = []\n",
    "\n",
    "for i in range(3000):\n",
    "    reset()\n",
    "    while not wowsims.step():\n",
    "        if wowsims.needsInput():\n",
    "            wowsims.trySpell(Spells.HeroicStrike)\n",
    "    totalDamage = wowsims.getDamageDone()\n",
    "    damages = np.append(damages, totalDamage)\n",
    "    spell_metrics.append(wowsims.getSpellMetrics())\n",
    "\n",
    "median = np.argsort(damages)[len(damages)//2]\n",
    "print(f'Average DPS: {damages[median] / duration}')"
   ]
  },
  {
   "cell_type": "code",
   "execution_count": 5,
   "metadata": {},
   "outputs": [
    {
     "name": "stdout",
     "output_type": "stream",
     "text": [
      "Melee: [1, 1, 56]\n",
      "Deep Wounds: [63]\n",
      "Heroic Strike: [56]\n"
     ]
    }
   ],
   "source": [
    "settings['simOptions']['interactive'] = True\n",
    "\n",
    "reset()\n",
    "while not wowsims.step():\n",
    "    pass\n",
    "cast_metrics = spell_metrics[median]\n",
    "for spell_id, metrics in cast_metrics.items():\n",
    "    try:\n",
    "        spell_name = spell_id_lists[spell_id]\n",
    "    except KeyError as key:\n",
    "        spell_name = key\n",
    "    print(f\"{spell_name}: {[metric['Casts'] for metric in metrics]}\")"
   ]
  }
 ],
 "metadata": {
  "kernelspec": {
   "display_name": "tts39",
   "language": "python",
   "name": "python3"
  },
  "language_info": {
   "codemirror_mode": {
    "name": "ipython",
    "version": 3
   },
   "file_extension": ".py",
   "mimetype": "text/x-python",
   "name": "python",
   "nbconvert_exporter": "python",
   "pygments_lexer": "ipython3",
   "version": "3.9.12"
  },
  "orig_nbformat": 4
 },
 "nbformat": 4,
 "nbformat_minor": 2
}
