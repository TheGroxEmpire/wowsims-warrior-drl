{
 "cells": [
  {
   "cell_type": "code",
   "execution_count": 1,
   "metadata": {},
   "outputs": [],
   "source": [
    "import json\n",
    "import numpy as np\n",
    "import wowsims\n",
    "\n",
    "spell_id_lists = {\n",
    "        '0' : \"Melee\",\n",
    "        '23881' : \"Bloodthirst\",\n",
    "        '1680' : \"Whirlwind\",\n",
    "        '47475' : \"Slam\",\n",
    "        '47450' : \"Heroic Strike\",\n",
    "        '47471' : \"Execute\",\n",
    "        '12867': \"Deep Wounds\",\n",
    "        '12292' : \"Death Wish\",\n",
    "        '1719' : \"Recklessness\",\n",
    "        '64382' : \"Shattering Throw\",\n",
    "        '54758' : \"Engi Gloves\",\n",
    "        '2457' : \"Battle Stance\",\n",
    "        '2458' : \"Berserker Stance\",\n",
    "        '2687' : 'Bloodrage',\n",
    "        '2825' : 'Bloodlust',\n",
    "        '47465': 'Rend',\n",
    "        '7384': 'Overpower',\n",
    "        '44949': 'Whirlwind OH',\n",
    "}"
   ]
  },
  {
   "attachments": {},
   "cell_type": "markdown",
   "metadata": {},
   "source": [
    "# Load Fury Raid Sim Request JSON"
   ]
  },
  {
   "cell_type": "code",
   "execution_count": 2,
   "metadata": {},
   "outputs": [],
   "source": [
    "f = open('data/fury-human-bis-p3.json')\n",
    "settings = json.load(f)"
   ]
  },
  {
   "attachments": {},
   "cell_type": "markdown",
   "metadata": {},
   "source": [
    "# Set environment and settings"
   ]
  },
  {
   "cell_type": "code",
   "execution_count": 3,
   "metadata": {},
   "outputs": [],
   "source": [
    "from fury import *\n",
    "\n",
    "def reset():\n",
    "    wowsims.new(json.dumps(settings).encode('utf-8'))\n",
    "\n",
    "\n",
    "# Iterations are currently capped at 3000\n",
    "iterations = settings['simOptions']['iterations']\n",
    "\n",
    "duration = settings['encounter']['duration']\n",
    "reset()"
   ]
  },
  {
   "attachments": {},
   "cell_type": "markdown",
   "metadata": {},
   "source": [
    "# Default sim agent\n",
    "Default sim agent is the hardcoded agent from the sim"
   ]
  },
  {
   "cell_type": "code",
   "execution_count": 4,
   "metadata": {},
   "outputs": [
    {
     "name": "stdout",
     "output_type": "stream",
     "text": [
      "c_char_p(None)\n",
      "Average DPS: 11782.327334307121\n"
     ]
    }
   ],
   "source": [
    "settings['simOptions']['interactive'] = False\n",
    "damages = np.array([])\n",
    "\n",
    "for i in range(iterations):\n",
    "    reset()\n",
    "    while not wowsims.step():\n",
    "        pass\n",
    "    totalDamage = wowsims.getDamageDone()\n",
    "    damages = np.append(damages, totalDamage)\n",
    "\n",
    "print(f'Average DPS: {damages.mean() / duration}')"
   ]
  },
  {
   "cell_type": "code",
   "execution_count": 11,
   "metadata": {},
   "outputs": [
    {
     "name": "stdout",
     "output_type": "stream",
     "text": [
      "Melee: [1, 1, 1, 1, 4, 62]\n",
      "Death Wish: [1]\n",
      "Deep Wounds: [114]\n",
      "Whirlwind: [12]\n",
      "Recklessness: [1]\n",
      "Bloodthirst: [26]\n",
      "Battle Stance: [8]\n",
      "Berserker Stance: [8]\n",
      "Bloodrage: [3]\n",
      "Bloodlust: [1]\n",
      "Whirlwind OH: [12]\n",
      "Heroic Strike: [58]\n",
      "Rend: [4]\n",
      "Execute: [5]\n",
      "Slam: [17]\n",
      "Engi Gloves: [2]\n",
      "Shattering Throw: [1]\n",
      "Overpower: [4]\n"
     ]
    }
   ],
   "source": [
    "settings['simOptions']['interactive'] = False\n",
    "\n",
    "reset()\n",
    "while not wowsims.step():\n",
    "    pass\n",
    "    \n",
    "    \n",
    "cast_metrics = wowsims.getSpellMetrics()\n",
    "\n",
    "for spell_id, metrics in cast_metrics.items():\n",
    "    try:\n",
    "        spell_name = spell_id_lists[spell_id]\n",
    "    except KeyError as key:\n",
    "        spell_name = key\n",
    "    print(f\"{spell_name}: {[metric['Casts'] for metric in metrics]}\")"
   ]
  },
  {
   "attachments": {},
   "cell_type": "markdown",
   "metadata": {},
   "source": [
    "# PPO Agent"
   ]
  },
  {
   "attachments": {},
   "cell_type": "markdown",
   "metadata": {},
   "source": [
    "## Load Trained PPO Model"
   ]
  },
  {
   "cell_type": "code",
   "execution_count": 8,
   "metadata": {},
   "outputs": [
    {
     "name": "stderr",
     "output_type": "stream",
     "text": [
      "<>:16: DeprecationWarning: invalid escape sequence \\d\n",
      "\u001b[2m\u001b[36m(RolloutWorker pid=32944)\u001b[0m 2023-05-02 20:48:39,727\tWARNING env.py:155 -- Your env doesn't have a .spec.max_episode_steps attribute. Your horizon will default to infinity, and your environment will not be reset.\n",
      "2023-05-02 20:48:39,763\tWARNING util.py:67 -- Install gputil for GPU system monitoring.\n",
      "2023-05-02 20:48:39,812\tINFO trainable.py:913 -- Restored on 127.0.0.1 from checkpoint: models\\dps-reward_punish-error\\PPO\\PPO_FurySimEnv_d5a3b_00000_0_2023-05-02_15-25-02\\checkpoint_002266\n",
      "2023-05-02 20:48:39,812\tINFO trainable.py:922 -- Current state after restoring: {'_iteration': 2266, '_timesteps_total': None, '_time_total': 17449.62928199768, '_episodes_total': 50009}\n",
      "c:\\ProgramData\\Anaconda3\\envs\\civ6_rl_rllib\\lib\\site-packages\\gymnasium\\envs\\registration.py:498: UserWarning: \u001b[33mWARN: Overriding environment FurySimEnv already in registry.\u001b[0m\n",
      "  logger.warn(f\"Overriding environment {new_spec.id} already in registry.\")\n"
     ]
    }
   ],
   "source": [
    "from ray.rllib.algorithms.ppo import PPOConfig\n",
    "from ray.tune.registry import register_env\n",
    "from fury_sim_env import FurySimEnv\n",
    "from gymnasium import make\n",
    "from gymnasium.envs.registration import register\n",
    "\n",
    "def env_creator(env_config):\n",
    "    return FurySimEnv(...)\n",
    "\n",
    "register_env(\"FurySimEnv\", env_creator)\n",
    "\n",
    "config = PPOConfig()\\\n",
    "            .rollouts(num_rollout_workers=1)\n",
    "\n",
    "algorithm = config.build(env=\"FurySimEnv\")\n",
    "algorithm.restore(\"models\\dps-reward_punish-error\\PPO\\PPO_FurySimEnv_d5a3b_00000_0_2023-05-02_15-25-02\\checkpoint_002266\")\n",
    "\n",
    "register(id=\"FurySimEnv\", entry_point=\"fury_sim_env:FurySimEnv\")\n",
    "env = make(\"FurySimEnv\")"
   ]
  },
  {
   "attachments": {},
   "cell_type": "markdown",
   "metadata": {},
   "source": [
    "## Run PPO Model"
   ]
  },
  {
   "cell_type": "code",
   "execution_count": 9,
   "metadata": {},
   "outputs": [],
   "source": [
    "for i in range(1000):\n",
    "    observation, info = env.reset()\n",
    "    terminated = False\n",
    "    reward = 0\n",
    "    batch = []\n",
    "    dps_results = np.array([])\n",
    "    metrics_batch = []\n",
    "    debug_logs = []\n",
    "    debug_logs_batch = []\n",
    "    while not terminated:\n",
    "        action = algorithm.compute_single_action(observation)\n",
    "        observation, reward, terminated, truncated, info = env.step(action)\n",
    "        batch.append(np.concatenate((observation, [action], [reward])))\n",
    "        debug_logs.append(info['debug log'])\n",
    "    debug_logs_batch.append(debug_logs)\n",
    "    dps_results = np.append(dps_results, info['dps'])\n",
    "    metrics_batch.append(info['spell metrics'])"
   ]
  },
  {
   "cell_type": "code",
   "execution_count": 10,
   "metadata": {},
   "outputs": [
    {
     "name": "stdout",
     "output_type": "stream",
     "text": [
      "Average DPS: 9576.87978273188\n",
      "Melee: [1, 17, 62]\n",
      "Death Wish: [1]\n",
      "Deep Wounds: [99]\n",
      "Whirlwind: [7]\n",
      "Recklessness: [1]\n",
      "Bloodthirst: [28]\n",
      "Bloodrage: [3]\n",
      "Bloodlust: [1]\n",
      "Whirlwind OH: [7]\n",
      "Heroic Strike: [44]\n",
      "Slam: [3]\n",
      "Engi Gloves: [2]\n",
      "Shattering Throw: [1]\n"
     ]
    }
   ],
   "source": [
    "median = np.argsort(dps_results)[len(dps_results)//2]\n",
    "print(f'Average DPS: {dps_results[median]}')\n",
    "\n",
    "cast_metrics = metrics_batch[median]\n",
    "for spell_id, metrics in cast_metrics.items():\n",
    "    # Only one target, so we can just take the first one\n",
    "    try:\n",
    "        spell_name = spell_id_lists[spell_id]\n",
    "    except KeyError as key:\n",
    "        spell_name = key\n",
    "    print(f\"{spell_name}: {[metric['Casts'] for metric in metrics]}\")"
   ]
  },
  {
   "attachments": {},
   "cell_type": "markdown",
   "metadata": {},
   "source": [
    "### Debug Log"
   ]
  },
  {
   "cell_type": "code",
   "execution_count": 11,
   "metadata": {},
   "outputs": [],
   "source": [
    "actions_id = {\n",
    "    0: \"Bloodthirst\", \n",
    "    1: \"Whirlwind\",\n",
    "    2: \"Slam\",\n",
    "    3: \"HeroicStrike\",\n",
    "    4: \"Execute\",\n",
    "    5: \"DeathWish\",\n",
    "    6: \"Recklessness\",\n",
    "    7: \"ShatteringThrow\",\n",
    "    8: \"Bloodrage\",\n",
    "    9: \"EngiGlove\",\n",
    "    10: \"Bloodlust\",\n",
    "}"
   ]
  },
  {
   "cell_type": "code",
   "execution_count": 12,
   "metadata": {},
   "outputs": [
    {
     "data": {
      "text/html": [
       "<div>\n",
       "<style scoped>\n",
       "    .dataframe tbody tr th:only-of-type {\n",
       "        vertical-align: middle;\n",
       "    }\n",
       "\n",
       "    .dataframe tbody tr th {\n",
       "        vertical-align: top;\n",
       "    }\n",
       "\n",
       "    .dataframe thead th {\n",
       "        text-align: right;\n",
       "    }\n",
       "</style>\n",
       "<table border=\"1\" class=\"dataframe\">\n",
       "  <thead>\n",
       "    <tr style=\"text-align: right;\">\n",
       "      <th></th>\n",
       "      <th>Timestamp</th>\n",
       "      <th>Action</th>\n",
       "      <th>Successful Cast</th>\n",
       "      <th>Damage Done</th>\n",
       "      <th>Total Damage Done</th>\n",
       "      <th>Rage</th>\n",
       "      <th>DPS</th>\n",
       "    </tr>\n",
       "  </thead>\n",
       "  <tbody>\n",
       "    <tr>\n",
       "      <th>0</th>\n",
       "      <td>0.000000</td>\n",
       "      <td>EngiGlove</td>\n",
       "      <td>True</td>\n",
       "      <td>2982.469655</td>\n",
       "      <td>2.982470e+03</td>\n",
       "      <td>30.972979</td>\n",
       "      <td>inf</td>\n",
       "    </tr>\n",
       "    <tr>\n",
       "      <th>1</th>\n",
       "      <td>0.000000</td>\n",
       "      <td>Bloodlust</td>\n",
       "      <td>True</td>\n",
       "      <td>0.000000</td>\n",
       "      <td>2.982470e+03</td>\n",
       "      <td>30.972979</td>\n",
       "      <td>inf</td>\n",
       "    </tr>\n",
       "    <tr>\n",
       "      <th>2</th>\n",
       "      <td>0.000000</td>\n",
       "      <td>DeathWish</td>\n",
       "      <td>True</td>\n",
       "      <td>0.000000</td>\n",
       "      <td>2.982470e+03</td>\n",
       "      <td>20.972979</td>\n",
       "      <td>inf</td>\n",
       "    </tr>\n",
       "    <tr>\n",
       "      <th>3</th>\n",
       "      <td>0.010000</td>\n",
       "      <td>Recklessness</td>\n",
       "      <td>True</td>\n",
       "      <td>0.000000</td>\n",
       "      <td>2.982470e+03</td>\n",
       "      <td>20.972979</td>\n",
       "      <td>2.982470e+05</td>\n",
       "    </tr>\n",
       "    <tr>\n",
       "      <th>4</th>\n",
       "      <td>0.705782</td>\n",
       "      <td>ShatteringThrow</td>\n",
       "      <td>True</td>\n",
       "      <td>6400.673194</td>\n",
       "      <td>9.383143e+03</td>\n",
       "      <td>86.523617</td>\n",
       "      <td>1.329467e+04</td>\n",
       "    </tr>\n",
       "    <tr>\n",
       "      <th>...</th>\n",
       "      <td>...</td>\n",
       "      <td>...</td>\n",
       "      <td>...</td>\n",
       "      <td>...</td>\n",
       "      <td>...</td>\n",
       "      <td>...</td>\n",
       "      <td>...</td>\n",
       "    </tr>\n",
       "    <tr>\n",
       "      <th>469</th>\n",
       "      <td>115.837786</td>\n",
       "      <td>Recklessness</td>\n",
       "      <td>False</td>\n",
       "      <td>2950.091206</td>\n",
       "      <td>1.119182e+06</td>\n",
       "      <td>84.158064</td>\n",
       "      <td>9.661633e+03</td>\n",
       "    </tr>\n",
       "    <tr>\n",
       "      <th>470</th>\n",
       "      <td>116.246931</td>\n",
       "      <td>Bloodthirst</td>\n",
       "      <td>False</td>\n",
       "      <td>1838.809077</td>\n",
       "      <td>1.121021e+06</td>\n",
       "      <td>84.158064</td>\n",
       "      <td>9.643446e+03</td>\n",
       "    </tr>\n",
       "    <tr>\n",
       "      <th>471</th>\n",
       "      <td>116.892613</td>\n",
       "      <td>ShatteringThrow</td>\n",
       "      <td>False</td>\n",
       "      <td>0.000000</td>\n",
       "      <td>1.121021e+06</td>\n",
       "      <td>84.158064</td>\n",
       "      <td>9.590178e+03</td>\n",
       "    </tr>\n",
       "    <tr>\n",
       "      <th>472</th>\n",
       "      <td>117.246931</td>\n",
       "      <td>DeathWish</td>\n",
       "      <td>False</td>\n",
       "      <td>1838.809077</td>\n",
       "      <td>1.122860e+06</td>\n",
       "      <td>84.158064</td>\n",
       "      <td>9.576880e+03</td>\n",
       "    </tr>\n",
       "    <tr>\n",
       "      <th>473</th>\n",
       "      <td>117.246931</td>\n",
       "      <td>ShatteringThrow</td>\n",
       "      <td>False</td>\n",
       "      <td>0.000000</td>\n",
       "      <td>1.122860e+06</td>\n",
       "      <td>84.158064</td>\n",
       "      <td>9.576880e+03</td>\n",
       "    </tr>\n",
       "  </tbody>\n",
       "</table>\n",
       "<p>474 rows × 7 columns</p>\n",
       "</div>"
      ],
      "text/plain": [
       "      Timestamp           Action  Successful Cast  Damage Done  \\\n",
       "0      0.000000        EngiGlove             True  2982.469655   \n",
       "1      0.000000        Bloodlust             True     0.000000   \n",
       "2      0.000000        DeathWish             True     0.000000   \n",
       "3      0.010000     Recklessness             True     0.000000   \n",
       "4      0.705782  ShatteringThrow             True  6400.673194   \n",
       "..          ...              ...              ...          ...   \n",
       "469  115.837786     Recklessness            False  2950.091206   \n",
       "470  116.246931      Bloodthirst            False  1838.809077   \n",
       "471  116.892613  ShatteringThrow            False     0.000000   \n",
       "472  117.246931        DeathWish            False  1838.809077   \n",
       "473  117.246931  ShatteringThrow            False     0.000000   \n",
       "\n",
       "     Total Damage Done       Rage           DPS  \n",
       "0         2.982470e+03  30.972979           inf  \n",
       "1         2.982470e+03  30.972979           inf  \n",
       "2         2.982470e+03  20.972979           inf  \n",
       "3         2.982470e+03  20.972979  2.982470e+05  \n",
       "4         9.383143e+03  86.523617  1.329467e+04  \n",
       "..                 ...        ...           ...  \n",
       "469       1.119182e+06  84.158064  9.661633e+03  \n",
       "470       1.121021e+06  84.158064  9.643446e+03  \n",
       "471       1.121021e+06  84.158064  9.590178e+03  \n",
       "472       1.122860e+06  84.158064  9.576880e+03  \n",
       "473       1.122860e+06  84.158064  9.576880e+03  \n",
       "\n",
       "[474 rows x 7 columns]"
      ]
     },
     "execution_count": 12,
     "metadata": {},
     "output_type": "execute_result"
    }
   ],
   "source": [
    "import pandas as pd\n",
    "\n",
    "df = pd.DataFrame(debug_logs_batch[median], columns=['Timestamp', 'Action', 'Successful Cast', 'Damage Done', 'Total Damage Done', 'Rage'])\n",
    "df['Action'] = df['Action'].map(actions_id)\n",
    "df['DPS'] = df['Total Damage Done'].div(df['Timestamp'])\n",
    "df"
   ]
  },
  {
   "cell_type": "code",
   "execution_count": 13,
   "metadata": {},
   "outputs": [],
   "source": [
    "df.to_csv(\"debug_logs/debug_log_dps_reward-punish_error.csv\")"
   ]
  },
  {
   "attachments": {},
   "cell_type": "markdown",
   "metadata": {},
   "source": [
    "# Spell Debug"
   ]
  },
  {
   "cell_type": "code",
   "execution_count": 4,
   "metadata": {},
   "outputs": [
    {
     "ename": "TypeError",
     "evalue": "the JSON object must be str, bytes or bytearray, not NoneType",
     "output_type": "error",
     "traceback": [
      "\u001b[1;31m---------------------------------------------------------------------------\u001b[0m",
      "\u001b[1;31mTypeError\u001b[0m                                 Traceback (most recent call last)",
      "\u001b[1;32md:\\Grox's Vault\\Laboratory\\Repos\\wowsims-warrior-drl\\fury_drl_inference.ipynb Cell 20\u001b[0m in \u001b[0;36m1\n\u001b[0;32m     <a href='vscode-notebook-cell:/d%3A/Grox%27s%20Vault/Laboratory/Repos/wowsims-warrior-drl/fury_drl_inference.ipynb#X25sZmlsZQ%3D%3D?line=12'>13</a>\u001b[0m     \u001b[39mif\u001b[39;00m wowsims\u001b[39m.\u001b[39mneedsInput():\n\u001b[0;32m     <a href='vscode-notebook-cell:/d%3A/Grox%27s%20Vault/Laboratory/Repos/wowsims-warrior-drl/fury_drl_inference.ipynb#X25sZmlsZQ%3D%3D?line=13'>14</a>\u001b[0m         wowsims\u001b[39m.\u001b[39mtrySpell(Spells\u001b[39m.\u001b[39mHeroicStrike)\n\u001b[1;32m---> <a href='vscode-notebook-cell:/d%3A/Grox%27s%20Vault/Laboratory/Repos/wowsims-warrior-drl/fury_drl_inference.ipynb#X25sZmlsZQ%3D%3D?line=14'>15</a>\u001b[0m         wep_speed \u001b[39m=\u001b[39m wowsims\u001b[39m.\u001b[39;49mgetCurrentWeaponSwingTime()\n\u001b[0;32m     <a href='vscode-notebook-cell:/d%3A/Grox%27s%20Vault/Laboratory/Repos/wowsims-warrior-drl/fury_drl_inference.ipynb#X25sZmlsZQ%3D%3D?line=15'>16</a>\u001b[0m totalDamage \u001b[39m=\u001b[39m wowsims\u001b[39m.\u001b[39mgetDamageDone()\n\u001b[0;32m     <a href='vscode-notebook-cell:/d%3A/Grox%27s%20Vault/Laboratory/Repos/wowsims-warrior-drl/fury_drl_inference.ipynb#X25sZmlsZQ%3D%3D?line=16'>17</a>\u001b[0m damages \u001b[39m=\u001b[39m np\u001b[39m.\u001b[39mappend(damages, totalDamage)\n",
      "File \u001b[1;32md:\\Grox's Vault\\Laboratory\\Repos\\wowsims-warrior-drl\\wowsims.py:128\u001b[0m, in \u001b[0;36mgetCurrentWeaponSwingTime\u001b[1;34m()\u001b[0m\n\u001b[0;32m    126\u001b[0m char_ptr \u001b[39m=\u001b[39m _getCurrentWeaponSwingTime()\n\u001b[0;32m    127\u001b[0m string_ptr \u001b[39m=\u001b[39m ctypes\u001b[39m.\u001b[39mcast(char_ptr, ctypes\u001b[39m.\u001b[39mc_char_p)\n\u001b[1;32m--> 128\u001b[0m weapon_swings \u001b[39m=\u001b[39m json\u001b[39m.\u001b[39;49mloads(string_ptr\u001b[39m.\u001b[39;49mvalue)\n\u001b[0;32m    129\u001b[0m FreeCString(char_ptr)\n\u001b[0;32m    130\u001b[0m \u001b[39mreturn\u001b[39;00m weapon_swings\n",
      "File \u001b[1;32mc:\\ProgramData\\Anaconda3\\envs\\civ6_rl_rllib\\lib\\json\\__init__.py:339\u001b[0m, in \u001b[0;36mloads\u001b[1;34m(s, cls, object_hook, parse_float, parse_int, parse_constant, object_pairs_hook, **kw)\u001b[0m\n\u001b[0;32m    337\u001b[0m \u001b[39melse\u001b[39;00m:\n\u001b[0;32m    338\u001b[0m     \u001b[39mif\u001b[39;00m \u001b[39mnot\u001b[39;00m \u001b[39misinstance\u001b[39m(s, (\u001b[39mbytes\u001b[39m, \u001b[39mbytearray\u001b[39m)):\n\u001b[1;32m--> 339\u001b[0m         \u001b[39mraise\u001b[39;00m \u001b[39mTypeError\u001b[39;00m(\u001b[39mf\u001b[39m\u001b[39m'\u001b[39m\u001b[39mthe JSON object must be str, bytes or bytearray, \u001b[39m\u001b[39m'\u001b[39m\n\u001b[0;32m    340\u001b[0m                         \u001b[39mf\u001b[39m\u001b[39m'\u001b[39m\u001b[39mnot \u001b[39m\u001b[39m{\u001b[39;00ms\u001b[39m.\u001b[39m\u001b[39m__class__\u001b[39m\u001b[39m.\u001b[39m\u001b[39m__name__\u001b[39m\u001b[39m}\u001b[39;00m\u001b[39m'\u001b[39m)\n\u001b[0;32m    341\u001b[0m     s \u001b[39m=\u001b[39m s\u001b[39m.\u001b[39mdecode(detect_encoding(s), \u001b[39m'\u001b[39m\u001b[39msurrogatepass\u001b[39m\u001b[39m'\u001b[39m)\n\u001b[0;32m    343\u001b[0m \u001b[39mif\u001b[39;00m (\u001b[39mcls\u001b[39m \u001b[39mis\u001b[39;00m \u001b[39mNone\u001b[39;00m \u001b[39mand\u001b[39;00m object_hook \u001b[39mis\u001b[39;00m \u001b[39mNone\u001b[39;00m \u001b[39mand\u001b[39;00m\n\u001b[0;32m    344\u001b[0m         parse_int \u001b[39mis\u001b[39;00m \u001b[39mNone\u001b[39;00m \u001b[39mand\u001b[39;00m parse_float \u001b[39mis\u001b[39;00m \u001b[39mNone\u001b[39;00m \u001b[39mand\u001b[39;00m\n\u001b[0;32m    345\u001b[0m         parse_constant \u001b[39mis\u001b[39;00m \u001b[39mNone\u001b[39;00m \u001b[39mand\u001b[39;00m object_pairs_hook \u001b[39mis\u001b[39;00m \u001b[39mNone\u001b[39;00m \u001b[39mand\u001b[39;00m \u001b[39mnot\u001b[39;00m kw):\n",
      "\u001b[1;31mTypeError\u001b[0m: the JSON object must be str, bytes or bytearray, not NoneType"
     ]
    }
   ],
   "source": [
    "reset()\n",
    "Spells.register()\n",
    "Auras.register()\n",
    "TargetAuras.register()\n",
    "\n",
    "settings['simOptions']['interactive'] = True\n",
    "damages = np.array([])\n",
    "spell_metrics = []\n",
    "\n",
    "for i in range(1):\n",
    "    reset()\n",
    "    while not wowsims.step():\n",
    "        if wowsims.needsInput():\n",
    "            wowsims.trySpell(Spells.HeroicStrike)\n",
    "    totalDamage = wowsims.getDamageDone()\n",
    "    damages = np.append(damages, totalDamage)\n",
    "    spell_metrics.append(wowsims.getSpellMetrics())\n",
    "\n",
    "median = np.argsort(damages)[len(damages)//2]\n",
    "print(f'Average DPS: {damages[median] / duration}')"
   ]
  },
  {
   "cell_type": "code",
   "execution_count": 7,
   "metadata": {},
   "outputs": [
    {
     "name": "stdout",
     "output_type": "stream",
     "text": [
      "Melee: [1, 54]\n",
      "Deep Wounds: [67]\n",
      "Heroic Strike: [54]\n"
     ]
    }
   ],
   "source": [
    "settings['simOptions']['interactive'] = True\n",
    "\n",
    "reset()\n",
    "while not wowsims.step():\n",
    "    pass\n",
    "cast_metrics = spell_metrics[median]\n",
    "for spell_id, metrics in cast_metrics.items():\n",
    "    try:\n",
    "        spell_name = spell_id_lists[spell_id]\n",
    "    except KeyError as key:\n",
    "        spell_name = key\n",
    "    print(f\"{spell_name}: {[metric['Casts'] for metric in metrics]}\")"
   ]
  }
 ],
 "metadata": {
  "kernelspec": {
   "display_name": "tts39",
   "language": "python",
   "name": "python3"
  },
  "language_info": {
   "codemirror_mode": {
    "name": "ipython",
    "version": 3
   },
   "file_extension": ".py",
   "mimetype": "text/x-python",
   "name": "python",
   "nbconvert_exporter": "python",
   "pygments_lexer": "ipython3",
   "version": "3.9.12"
  },
  "orig_nbformat": 4
 },
 "nbformat": 4,
 "nbformat_minor": 2
}
