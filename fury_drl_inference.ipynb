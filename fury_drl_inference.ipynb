{
 "cells": [
  {
   "cell_type": "code",
   "execution_count": 1,
   "metadata": {},
   "outputs": [
    {
     "name": "stderr",
     "output_type": "stream",
     "text": [
      "c:\\ProgramData\\Anaconda3\\envs\\civ6_rl_rllib\\lib\\site-packages\\tqdm\\auto.py:21: TqdmWarning: IProgress not found. Please update jupyter and ipywidgets. See https://ipywidgets.readthedocs.io/en/stable/user_install.html\n",
      "  from .autonotebook import tqdm as notebook_tqdm\n"
     ]
    }
   ],
   "source": [
    "import json\n",
    "from ray.rllib.algorithms.ppo import PPOConfig\n",
    "from ray.tune.registry import register_env\n",
    "from fury_sim_env import FurySimEnv\n",
    "from gymnasium import make\n",
    "from gymnasium.envs.registration import register\n",
    "from gymnasium.wrappers import FrameStack\n",
    "from fury import *\n",
    "\n",
    "spell_id_lists = {\n",
    "        '0' : \"Melee\",\n",
    "        '23881' : \"Bloodthirst\",\n",
    "        '1680' : \"Whirlwind\",\n",
    "        '47475' : \"Slam\",\n",
    "        '47450' : \"Heroic Strike\",\n",
    "        '47471' : \"Execute\",\n",
    "        '12867': \"Deep Wounds\",\n",
    "        '12292' : \"Death Wish\",\n",
    "        '1719' : \"Recklessness\",\n",
    "        '64382' : \"Shattering Throw\",\n",
    "        '54758' : \"Engi Gloves\",\n",
    "        '2457' : \"Battle Stance\",\n",
    "        '2458' : \"Berserker Stance\",\n",
    "        '2687' : 'Bloodrage',\n",
    "        '2825' : 'Bloodlust',\n",
    "        '47465': 'Rend',\n",
    "        '7384': 'Overpower',\n",
    "        '44949': 'Whirlwind OH',\n",
    "}"
   ]
  },
  {
   "attachments": {},
   "cell_type": "markdown",
   "metadata": {},
   "source": [
    "# Load Fury Raid Sim Request JSON"
   ]
  },
  {
   "cell_type": "code",
   "execution_count": 2,
   "metadata": {},
   "outputs": [],
   "source": [
    "f = open('data/fury-human-bis-p3.json')\n",
    "settings = json.load(f)"
   ]
  },
  {
   "attachments": {},
   "cell_type": "markdown",
   "metadata": {},
   "source": [
    "# Set environment and settings"
   ]
  },
  {
   "cell_type": "code",
   "execution_count": 3,
   "metadata": {},
   "outputs": [],
   "source": [
    "\n",
    "\n",
    "def reset():\n",
    "    wowsims.new(json.dumps(settings).encode('utf-8'))\n",
    "\n",
    "\n",
    "# Iterations are currently capped at 3000\n",
    "iterations = settings['simOptions']['iterations']\n",
    "\n",
    "duration = settings['encounter']['duration']\n",
    "reset()"
   ]
  },
  {
   "attachments": {},
   "cell_type": "markdown",
   "metadata": {},
   "source": [
    "# Default sim agent\n",
    "Default sim agent is the hardcoded agent from the sim"
   ]
  },
  {
   "cell_type": "code",
   "execution_count": 4,
   "metadata": {},
   "outputs": [
    {
     "name": "stdout",
     "output_type": "stream",
     "text": [
      "Average DPS: 11891.145775806754\n"
     ]
    }
   ],
   "source": [
    "settings['simOptions']['interactive'] = False\n",
    "damages = np.array([])\n",
    "\n",
    "for i in range(iterations):\n",
    "    reset()\n",
    "    while not wowsims.step():\n",
    "        pass\n",
    "    totalDamage = wowsims.getDamageDone()\n",
    "    damages = np.append(damages, totalDamage)\n",
    "\n",
    "print(f'Average DPS: {damages.mean() / duration}')"
   ]
  },
  {
   "cell_type": "code",
   "execution_count": 5,
   "metadata": {},
   "outputs": [
    {
     "name": "stdout",
     "output_type": "stream",
     "text": [
      "Melee: [1, 1, 1, 2, 9, 77]\n",
      "Death Wish: [2]\n",
      "Deep Wounds: [133]\n",
      "Whirlwind: [16]\n",
      "Recklessness: [1]\n",
      "Bloodthirst: [33]\n",
      "Battle Stance: [9]\n",
      "Berserker Stance: [9]\n",
      "Bloodrage: [4]\n",
      "Bloodlust: [1]\n",
      "Whirlwind OH: [16]\n",
      "Heroic Strike: [68]\n",
      "Rend: [4]\n",
      "Execute: [8]\n",
      "Slam: [19]\n",
      "Engi Gloves: [3]\n",
      "Shattering Throw: [1]\n",
      "Overpower: [5]\n"
     ]
    }
   ],
   "source": [
    "settings['simOptions']['interactive'] = False\n",
    "\n",
    "reset()\n",
    "while not wowsims.step():\n",
    "    pass\n",
    "    \n",
    "    \n",
    "cast_metrics = wowsims.getSpellMetrics()\n",
    "\n",
    "for spell_id, metrics in cast_metrics.items():\n",
    "    try:\n",
    "        spell_name = spell_id_lists[spell_id]\n",
    "    except KeyError as key:\n",
    "        spell_name = key\n",
    "    print(f\"{spell_name}: {[metric['Casts'] for metric in metrics]}\")"
   ]
  },
  {
   "attachments": {},
   "cell_type": "markdown",
   "metadata": {},
   "source": [
    "# PPO Agent"
   ]
  },
  {
   "attachments": {},
   "cell_type": "markdown",
   "metadata": {},
   "source": [
    "## Load Trained PPO Model"
   ]
  },
  {
   "cell_type": "code",
   "execution_count": 2,
   "metadata": {},
   "outputs": [
    {
     "name": "stderr",
     "output_type": "stream",
     "text": [
      "<>:14: DeprecationWarning: invalid escape sequence \\P\n"
     ]
    },
    {
     "ename": "NameError",
     "evalue": "name 'register' is not defined",
     "output_type": "error",
     "traceback": [
      "\u001b[1;31m---------------------------------------------------------------------------\u001b[0m",
      "\u001b[1;31mNameError\u001b[0m                                 Traceback (most recent call last)",
      "\u001b[1;32md:\\Grox's Vault\\Laboratory\\Repos\\wowsims-warrior-drl\\fury_drl_inference.ipynb Cell 11\u001b[0m in \u001b[0;36m5\n\u001b[0;32m      <a href='vscode-notebook-cell:/d%3A/Grox%27s%20Vault/Laboratory/Repos/wowsims-warrior-drl/fury_drl_inference.ipynb#X13sZmlsZQ%3D%3D?line=0'>1</a>\u001b[0m config \u001b[39m=\u001b[39m PPOConfig()\\\n\u001b[0;32m      <a href='vscode-notebook-cell:/d%3A/Grox%27s%20Vault/Laboratory/Repos/wowsims-warrior-drl/fury_drl_inference.ipynb#X13sZmlsZQ%3D%3D?line=1'>2</a>\u001b[0m             \u001b[39m.\u001b[39mrollouts(num_rollout_workers\u001b[39m=\u001b[39m\u001b[39m1\u001b[39m)\n\u001b[1;32m----> <a href='vscode-notebook-cell:/d%3A/Grox%27s%20Vault/Laboratory/Repos/wowsims-warrior-drl/fury_drl_inference.ipynb#X13sZmlsZQ%3D%3D?line=4'>5</a>\u001b[0m register(\u001b[39mid\u001b[39m\u001b[39m=\u001b[39m\u001b[39m\"\u001b[39m\u001b[39mFurySimEnv\u001b[39m\u001b[39m\"\u001b[39m, entry_point\u001b[39m=\u001b[39m\u001b[39m\"\u001b[39m\u001b[39mfury_sim_env:FurySimEnv\u001b[39m\u001b[39m\"\u001b[39m)\n\u001b[0;32m      <a href='vscode-notebook-cell:/d%3A/Grox%27s%20Vault/Laboratory/Repos/wowsims-warrior-drl/fury_drl_inference.ipynb#X13sZmlsZQ%3D%3D?line=5'>6</a>\u001b[0m env \u001b[39m=\u001b[39m make(\u001b[39m\"\u001b[39m\u001b[39mFurySimEnv\u001b[39m\u001b[39m\"\u001b[39m)\n\u001b[0;32m      <a href='vscode-notebook-cell:/d%3A/Grox%27s%20Vault/Laboratory/Repos/wowsims-warrior-drl/fury_drl_inference.ipynb#X13sZmlsZQ%3D%3D?line=6'>7</a>\u001b[0m \u001b[39m# env_creator = lambda config: FrameStack(env, num_stack=5)\u001b[39;00m\n",
      "\u001b[1;31mNameError\u001b[0m: name 'register' is not defined"
     ]
    }
   ],
   "source": [
    "config = PPOConfig()\\\n",
    "            .rollouts(num_rollout_workers=1)\n",
    "\n",
    "\n",
    "register(id=\"FurySimEnv\", entry_point=\"fury_sim_env:FurySimEnv\")\n",
    "env = make(\"FurySimEnv\")\n",
    "# env_creator = lambda config: FrameStack(env, num_stack=5)\n",
    "env_creator = lambda config: FurySimEnv(...)\n",
    "register_env(\"FurySimEnv\", env_creator=env_creator)\n",
    "env = FrameStack(env, num_stack=5)\n",
    "\n",
    "algorithm = config.build(env=\"FurySimEnv\")\n",
    "\n",
    "algorithm.restore(\"models\\bloodsurge-reward\\PPO\\PPO_FurySimEnv_d17cb_00000_0_2023-05-05_04-51-26\\checkpoint_0003552\")"
   ]
  },
  {
   "attachments": {},
   "cell_type": "markdown",
   "metadata": {},
   "source": [
    "## Run PPO Model"
   ]
  },
  {
   "cell_type": "code",
   "execution_count": 3,
   "metadata": {},
   "outputs": [],
   "source": [
    "import numpy as np\n",
    "\n",
    "for i in range(100):\n",
    "    observation, info = env.reset()\n",
    "    terminated = False\n",
    "    reward = 0\n",
    "    batch = []\n",
    "    dps_results = np.array([])\n",
    "    metrics_batch = []\n",
    "    debug_logs = []\n",
    "    debug_logs_batch = []\n",
    "    state_out = []\n",
    "    while not terminated:\n",
    "        action = algorithm.compute_single_action(observation)\n",
    "        observation, reward, terminated, truncated, info = env.step(action)\n",
    "        debug_logs.append(info['debug log'])\n",
    "    debug_logs_batch.append(debug_logs)\n",
    "    dps_results = np.append(dps_results, info['dps'])\n",
    "    metrics_batch.append(info['spell metrics'])"
   ]
  },
  {
   "cell_type": "code",
   "execution_count": 4,
   "metadata": {},
   "outputs": [
    {
     "name": "stdout",
     "output_type": "stream",
     "text": [
      "Average DPS: 8992.399804440065\n",
      "Melee: [1, 13, 53]\n",
      "Death Wish: [1]\n",
      "Deep Wounds: [86]\n",
      "Whirlwind: [13]\n",
      "Recklessness: [1]\n",
      "Bloodthirst: [27]\n",
      "Bloodrage: [1]\n",
      "Whirlwind OH: [13]\n",
      "Heroic Strike: [40]\n",
      "Engi Gloves: [1]\n"
     ]
    }
   ],
   "source": [
    "median = np.argsort(dps_results)[len(dps_results)//2]\n",
    "print(f'Average DPS: {dps_results[median]}')\n",
    "\n",
    "cast_metrics = metrics_batch[median]\n",
    "for spell_id, metrics in cast_metrics.items():\n",
    "    # Only one target, so we can just take the first one\n",
    "    try:\n",
    "        spell_name = spell_id_lists[spell_id]\n",
    "    except KeyError as key:\n",
    "        spell_name = key\n",
    "    print(f\"{spell_name}: {[metric['Casts'] for metric in metrics]}\")"
   ]
  },
  {
   "attachments": {},
   "cell_type": "markdown",
   "metadata": {},
   "source": [
    "### Debug Log"
   ]
  },
  {
   "cell_type": "code",
   "execution_count": 5,
   "metadata": {},
   "outputs": [],
   "source": [
    "actions_id = {\n",
    "    0: \"Bloodthirst\", \n",
    "    1: \"Whirlwind\",\n",
    "    2: \"Slam\",\n",
    "    3: \"HeroicStrike\",\n",
    "    4: \"Execute\",\n",
    "    5: \"DeathWish\",\n",
    "    6: \"Recklessness\",\n",
    "    7: \"ShatteringThrow\",\n",
    "    8: \"Bloodrage\",\n",
    "    9: \"EngiGlove\",\n",
    "    10: \"Bloodlust\",\n",
    "    11: \"Idle\"\n",
    "}"
   ]
  },
  {
   "cell_type": "code",
   "execution_count": 6,
   "metadata": {},
   "outputs": [
    {
     "data": {
      "text/html": [
       "<div>\n",
       "<style scoped>\n",
       "    .dataframe tbody tr th:only-of-type {\n",
       "        vertical-align: middle;\n",
       "    }\n",
       "\n",
       "    .dataframe tbody tr th {\n",
       "        vertical-align: top;\n",
       "    }\n",
       "\n",
       "    .dataframe thead th {\n",
       "        text-align: right;\n",
       "    }\n",
       "</style>\n",
       "<table border=\"1\" class=\"dataframe\">\n",
       "  <thead>\n",
       "    <tr style=\"text-align: right;\">\n",
       "      <th></th>\n",
       "      <th>Timestamp</th>\n",
       "      <th>Action</th>\n",
       "      <th>Successful Cast</th>\n",
       "      <th>Damage Done</th>\n",
       "      <th>Total Damage Done</th>\n",
       "      <th>Rage</th>\n",
       "      <th>DPS</th>\n",
       "    </tr>\n",
       "  </thead>\n",
       "  <tbody>\n",
       "    <tr>\n",
       "      <th>0</th>\n",
       "      <td>0.000000</td>\n",
       "      <td>DeathWish</td>\n",
       "      <td>True</td>\n",
       "      <td>1823.171261</td>\n",
       "      <td>1.823171e+03</td>\n",
       "      <td>0.113825</td>\n",
       "      <td>inf</td>\n",
       "    </tr>\n",
       "    <tr>\n",
       "      <th>1</th>\n",
       "      <td>0.000000</td>\n",
       "      <td>DeathWish</td>\n",
       "      <td>False</td>\n",
       "      <td>0.000000</td>\n",
       "      <td>1.823171e+03</td>\n",
       "      <td>0.113825</td>\n",
       "      <td>inf</td>\n",
       "    </tr>\n",
       "    <tr>\n",
       "      <th>2</th>\n",
       "      <td>0.423924</td>\n",
       "      <td>DeathWish</td>\n",
       "      <td>False</td>\n",
       "      <td>0.000000</td>\n",
       "      <td>1.823171e+03</td>\n",
       "      <td>0.113825</td>\n",
       "      <td>4300.706599</td>\n",
       "    </tr>\n",
       "    <tr>\n",
       "      <th>3</th>\n",
       "      <td>1.500000</td>\n",
       "      <td>DeathWish</td>\n",
       "      <td>False</td>\n",
       "      <td>0.000000</td>\n",
       "      <td>1.823171e+03</td>\n",
       "      <td>0.113825</td>\n",
       "      <td>1215.447507</td>\n",
       "    </tr>\n",
       "    <tr>\n",
       "      <th>4</th>\n",
       "      <td>2.397812</td>\n",
       "      <td>Bloodthirst</td>\n",
       "      <td>True</td>\n",
       "      <td>11686.198470</td>\n",
       "      <td>1.350937e+04</td>\n",
       "      <td>0.545693</td>\n",
       "      <td>5634.040280</td>\n",
       "    </tr>\n",
       "    <tr>\n",
       "      <th>...</th>\n",
       "      <td>...</td>\n",
       "      <td>...</td>\n",
       "      <td>...</td>\n",
       "      <td>...</td>\n",
       "      <td>...</td>\n",
       "      <td>...</td>\n",
       "      <td>...</td>\n",
       "    </tr>\n",
       "    <tr>\n",
       "      <th>390</th>\n",
       "      <td>112.701858</td>\n",
       "      <td>HeroicStrike</td>\n",
       "      <td>False</td>\n",
       "      <td>1799.873050</td>\n",
       "      <td>1.010623e+06</td>\n",
       "      <td>0.680000</td>\n",
       "      <td>8967.223733</td>\n",
       "    </tr>\n",
       "    <tr>\n",
       "      <th>391</th>\n",
       "      <td>112.779825</td>\n",
       "      <td>Whirlwind</td>\n",
       "      <td>False</td>\n",
       "      <td>3628.420501</td>\n",
       "      <td>1.014251e+06</td>\n",
       "      <td>1.000000</td>\n",
       "      <td>8993.197146</td>\n",
       "    </tr>\n",
       "    <tr>\n",
       "      <th>392</th>\n",
       "      <td>112.789825</td>\n",
       "      <td>HeroicStrike</td>\n",
       "      <td>False</td>\n",
       "      <td>0.000000</td>\n",
       "      <td>1.014251e+06</td>\n",
       "      <td>1.000000</td>\n",
       "      <td>8992.399804</td>\n",
       "    </tr>\n",
       "    <tr>\n",
       "      <th>393</th>\n",
       "      <td>112.789825</td>\n",
       "      <td>Bloodthirst</td>\n",
       "      <td>False</td>\n",
       "      <td>0.000000</td>\n",
       "      <td>1.014251e+06</td>\n",
       "      <td>1.000000</td>\n",
       "      <td>8992.399804</td>\n",
       "    </tr>\n",
       "    <tr>\n",
       "      <th>394</th>\n",
       "      <td>112.789825</td>\n",
       "      <td>HeroicStrike</td>\n",
       "      <td>False</td>\n",
       "      <td>0.000000</td>\n",
       "      <td>1.014251e+06</td>\n",
       "      <td>1.000000</td>\n",
       "      <td>8992.399804</td>\n",
       "    </tr>\n",
       "  </tbody>\n",
       "</table>\n",
       "<p>395 rows × 7 columns</p>\n",
       "</div>"
      ],
      "text/plain": [
       "      Timestamp        Action  Successful Cast   Damage Done  \\\n",
       "0      0.000000     DeathWish             True   1823.171261   \n",
       "1      0.000000     DeathWish            False      0.000000   \n",
       "2      0.423924     DeathWish            False      0.000000   \n",
       "3      1.500000     DeathWish            False      0.000000   \n",
       "4      2.397812   Bloodthirst             True  11686.198470   \n",
       "..          ...           ...              ...           ...   \n",
       "390  112.701858  HeroicStrike            False   1799.873050   \n",
       "391  112.779825     Whirlwind            False   3628.420501   \n",
       "392  112.789825  HeroicStrike            False      0.000000   \n",
       "393  112.789825   Bloodthirst            False      0.000000   \n",
       "394  112.789825  HeroicStrike            False      0.000000   \n",
       "\n",
       "     Total Damage Done      Rage          DPS  \n",
       "0         1.823171e+03  0.113825          inf  \n",
       "1         1.823171e+03  0.113825          inf  \n",
       "2         1.823171e+03  0.113825  4300.706599  \n",
       "3         1.823171e+03  0.113825  1215.447507  \n",
       "4         1.350937e+04  0.545693  5634.040280  \n",
       "..                 ...       ...          ...  \n",
       "390       1.010623e+06  0.680000  8967.223733  \n",
       "391       1.014251e+06  1.000000  8993.197146  \n",
       "392       1.014251e+06  1.000000  8992.399804  \n",
       "393       1.014251e+06  1.000000  8992.399804  \n",
       "394       1.014251e+06  1.000000  8992.399804  \n",
       "\n",
       "[395 rows x 7 columns]"
      ]
     },
     "execution_count": 6,
     "metadata": {},
     "output_type": "execute_result"
    }
   ],
   "source": [
    "import pandas as pd\n",
    "\n",
    "df = pd.DataFrame(debug_logs_batch[median], columns=['Timestamp', 'Action', 'Successful Cast', 'Damage Done', 'Total Damage Done', 'Rage'])\n",
    "df['Action'] = df['Action'].map(actions_id)\n",
    "df['DPS'] = df['Total Damage Done'].div(df['Timestamp'])\n",
    "df"
   ]
  },
  {
   "cell_type": "code",
   "execution_count": 7,
   "metadata": {},
   "outputs": [],
   "source": [
    "df.to_csv(\"debug_logs/debug_log_1.csv\")"
   ]
  },
  {
   "attachments": {},
   "cell_type": "markdown",
   "metadata": {},
   "source": [
    "# Spell Debug"
   ]
  },
  {
   "cell_type": "code",
   "execution_count": null,
   "metadata": {},
   "outputs": [],
   "source": [
    "reset()\n",
    "Spells.register()\n",
    "Auras.register()\n",
    "TargetAuras.register()\n",
    "\n",
    "settings['simOptions']['interactive'] = True\n",
    "damages = np.array([])\n",
    "spell_metrics = []\n",
    "\n",
    "for i in range(1):\n",
    "    reset()\n",
    "    while not wowsims.step():\n",
    "        print(env.reset())\n",
    "        if wowsims.needsInput():\n",
    "            wowsims.trySpell(Spells.Bloodthirst)\n",
    "    totalDamage = wowsims.getDamageDone()\n",
    "    damages = np.append(damages, totalDamage)\n",
    "    spell_metrics.append(wowsims.getSpellMetrics())\n",
    "\n",
    "median = np.argsort(damages)[len(damages)//2]\n",
    "print(f'Average DPS: {damages[median] / duration}')"
   ]
  },
  {
   "cell_type": "code",
   "execution_count": 7,
   "metadata": {},
   "outputs": [
    {
     "name": "stdout",
     "output_type": "stream",
     "text": [
      "Melee: [1, 54]\n",
      "Deep Wounds: [67]\n",
      "Heroic Strike: [54]\n"
     ]
    }
   ],
   "source": [
    "settings['simOptions']['interactive'] = True\n",
    "\n",
    "reset()\n",
    "while not wowsims.step():\n",
    "    pass\n",
    "cast_metrics = spell_metrics[median]\n",
    "for spell_id, metrics in cast_metrics.items():\n",
    "    try:\n",
    "        spell_name = spell_id_lists[spell_id]\n",
    "    except KeyError as key:\n",
    "        spell_name = key\n",
    "    print(f\"{spell_name}: {[metric['Casts'] for metric in metrics]}\")"
   ]
  }
 ],
 "metadata": {
  "kernelspec": {
   "display_name": "tts39",
   "language": "python",
   "name": "python3"
  },
  "language_info": {
   "codemirror_mode": {
    "name": "ipython",
    "version": 3
   },
   "file_extension": ".py",
   "mimetype": "text/x-python",
   "name": "python",
   "nbconvert_exporter": "python",
   "pygments_lexer": "ipython3",
   "version": "3.9.12"
  },
  "orig_nbformat": 4
 },
 "nbformat": 4,
 "nbformat_minor": 2
}
