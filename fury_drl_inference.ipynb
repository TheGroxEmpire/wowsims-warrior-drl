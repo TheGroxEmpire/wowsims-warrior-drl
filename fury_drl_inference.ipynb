{
 "cells": [
  {
   "cell_type": "code",
   "execution_count": 1,
   "metadata": {},
   "outputs": [],
   "source": [
    "import json\n",
    "import numpy as np\n",
    "import wowsims"
   ]
  },
  {
   "attachments": {},
   "cell_type": "markdown",
   "metadata": {},
   "source": [
    "# Load Fury Raid Sim Request JSON"
   ]
  },
  {
   "cell_type": "code",
   "execution_count": 2,
   "metadata": {},
   "outputs": [],
   "source": [
    "f = open('data/fury-human-bis-p3.json')\n",
    "settings = json.load(f)"
   ]
  },
  {
   "attachments": {},
   "cell_type": "markdown",
   "metadata": {},
   "source": [
    "# Set environment and settings"
   ]
  },
  {
   "cell_type": "code",
   "execution_count": 3,
   "metadata": {},
   "outputs": [],
   "source": [
    "from fury import *\n",
    "\n",
    "def reset():\n",
    "    wowsims.new(json.dumps(settings).encode('utf-8'))\n",
    "\n",
    "\n",
    "# Iterations are currently capped at 3000\n",
    "iterations = settings['simOptions']['iterations']\n",
    "\n",
    "duration = settings['encounter']['duration']\n",
    "\n",
    "spell_id_lists = {\n",
    "        '0' : \"Melee\",\n",
    "        '23881' : \"Bloodthirst\",\n",
    "        '1680' : \"Whirlwind\",\n",
    "        '47475' : \"Slam\",\n",
    "        '47450' : \"Heroic Strike\",\n",
    "        '47471' : \"Execute\",\n",
    "        '12867': \"Deep Wounds\",\n",
    "        '12292' : \"Death Wish\",\n",
    "        '1719' : \"Recklessness\",\n",
    "        '64382' : \"Shattering Throw\",\n",
    "        '54758' : \"Engi Gloves\",\n",
    "        '2457' : \"Battle Stance\",\n",
    "        '2458' : \"Berserker Stance\",\n",
    "        '2687' : 'Bloodrage',\n",
    "        '2825' : 'Bloodlust',\n",
    "        '47465': 'Rend',\n",
    "        '7384': 'Overpower',\n",
    "        '44949': 'Whirlwind OH',\n",
    "}"
   ]
  },
  {
   "attachments": {},
   "cell_type": "markdown",
   "metadata": {},
   "source": [
    "# Default sim agent\n",
    "Default sim agent is the hardcoded agent from the sim"
   ]
  },
  {
   "cell_type": "code",
   "execution_count": 6,
   "metadata": {},
   "outputs": [
    {
     "name": "stdout",
     "output_type": "stream",
     "text": [
      "Average DPS: 11782.084625708363\n"
     ]
    }
   ],
   "source": [
    "settings['simOptions']['interactive'] = False\n",
    "damages = np.array([])\n",
    "\n",
    "for i in range(iterations):\n",
    "    reset()\n",
    "    while not wowsims.step():\n",
    "        pass\n",
    "    totalDamage = wowsims.getDamageDone()\n",
    "    damages = np.append(damages, totalDamage)\n",
    "\n",
    "print(f'Average DPS: {damages.mean() / duration}')"
   ]
  },
  {
   "cell_type": "code",
   "execution_count": 7,
   "metadata": {},
   "outputs": [
    {
     "name": "stdout",
     "output_type": "stream",
     "text": [
      "Melee: [1, 1, 1, 1, 6, 63]\n",
      "Death Wish: [1]\n",
      "Deep Wounds: [115]\n",
      "Whirlwind: [13]\n",
      "Recklessness: [1]\n",
      "Bloodthirst: [27]\n",
      "Battle Stance: [10]\n",
      "Berserker Stance: [10]\n",
      "Bloodrage: [3]\n",
      "Bloodlust: [1]\n",
      "Whirlwind OH: [13]\n",
      "Heroic Strike: [57]\n",
      "Rend: [4]\n",
      "Execute: [4]\n",
      "Slam: [15]\n",
      "Engi Gloves: [2]\n",
      "Shattering Throw: [1]\n",
      "Overpower: [6]\n"
     ]
    }
   ],
   "source": [
    "settings['simOptions']['interactive'] = False\n",
    "\n",
    "while not wowsims.step():\n",
    "    pass\n",
    "json_string = wowsims.getSpellMetrics()\n",
    "cast_metrics = json.loads(json_string)\n",
    "for spell_id, metrics in cast_metrics.items():\n",
    "    # Only one target, so we can just take the first one\n",
    "    try:\n",
    "        spell_name = spell_id_lists[spell_id]\n",
    "    except KeyError as key:\n",
    "        spell_name = key\n",
    "    print(f\"{spell_name}: {[metric['Casts'] for metric in metrics]}\")"
   ]
  },
  {
   "attachments": {},
   "cell_type": "markdown",
   "metadata": {},
   "source": [
    "# PPO Agent"
   ]
  },
  {
   "attachments": {},
   "cell_type": "markdown",
   "metadata": {},
   "source": [
    "## Load Trained PPO Model"
   ]
  },
  {
   "cell_type": "code",
   "execution_count": 4,
   "metadata": {},
   "outputs": [
    {
     "name": "stderr",
     "output_type": "stream",
     "text": [
      "2023-05-01 00:28:02,407\tINFO worker.py:1616 -- Started a local Ray instance. View the dashboard at \u001b[1m\u001b[32m127.0.0.1:8265 \u001b[39m\u001b[22m\n",
      "\u001b[2m\u001b[36m(RolloutWorker pid=11448)\u001b[0m 2023-05-01 00:28:07,536\tWARNING env.py:155 -- Your env doesn't have a .spec.max_episode_steps attribute. Your horizon will default to infinity, and your environment will not be reset.\n",
      "2023-05-01 00:28:07,579\tWARNING util.py:67 -- Install gputil for GPU system monitoring.\n",
      "2023-05-01 00:28:07,582\tWARNING checkpoints.py:109 -- No `rllib_checkpoint.json` file found in checkpoint directory models\\Fury\\PPO\\PPO_FurySimEnv_9899e_00000_0_2023-05-01_00-08-15\\checkpoint_000008\\.! Trying to extract checkpoint info from other files found in that dir.\n",
      "2023-05-01 00:28:07,669\tWARNING algorithm_config.py:635 -- Cannot create PPOConfig from given `config_dict`! Property __stdout_file__ not supported.\n",
      "2023-05-01 00:28:07,689\tINFO trainable.py:913 -- Restored on 127.0.0.1 from checkpoint: models\\Fury\\PPO\\PPO_FurySimEnv_9899e_00000_0_2023-05-01_00-08-15\\checkpoint_000008\n",
      "2023-05-01 00:28:07,690\tINFO trainable.py:922 -- Current state after restoring: {'_iteration': 8, '_timesteps_total': None, '_time_total': 59.334365367889404, '_episodes_total': 109}\n"
     ]
    }
   ],
   "source": [
    "from ray.rllib.algorithms.ppo import PPOConfig\n",
    "from ray.tune.registry import register_env\n",
    "from fury_sim_env import FurySimEnv\n",
    "from gymnasium import make\n",
    "from gymnasium.envs.registration import register\n",
    "\n",
    "def env_creator(env_config):\n",
    "    return FurySimEnv(...)\n",
    "\n",
    "register_env(\"FurySimEnv\", env_creator)\n",
    "\n",
    "config = PPOConfig()\\\n",
    "            .rollouts(num_rollout_workers=1)\n",
    "algorithm = config.build(env=\"FurySimEnv\")\n",
    "algorithm.restore(\"models\\Fury\\PPO\\PPO_FurySimEnv_9899e_00000_0_2023-05-01_00-08-15\\checkpoint_000008\")\n",
    "\n",
    "register(id=\"FurySimEnv\", entry_point=\"fury_sim_env:FurySimEnv\")\n",
    "env = make(\"FurySimEnv\")"
   ]
  },
  {
   "attachments": {},
   "cell_type": "markdown",
   "metadata": {},
   "source": [
    "## Run PPO Model"
   ]
  },
  {
   "cell_type": "code",
   "execution_count": 5,
   "metadata": {},
   "outputs": [],
   "source": [
    "for i in range(100):\n",
    "    observation, info = env.reset()\n",
    "    terminated = False\n",
    "    reward = 0\n",
    "    batch = []\n",
    "    dps_results = np.array([])\n",
    "    metrics_batch = []\n",
    "    debug_logs = []\n",
    "    debug_logs_batch = []\n",
    "    while not terminated:\n",
    "        action = algorithm.compute_single_action(observation)\n",
    "        observation, reward, terminated, truncated, info = env.step(action)\n",
    "        batch.append(np.concatenate((observation, [action], [reward])))\n",
    "        debug_logs.append(info['debug log'])\n",
    "    debug_logs_batch.append(debug_logs)\n",
    "    dps_results = np.append(dps_results, info['dps'])\n",
    "    metrics_batch.append(info['spell metrics'])"
   ]
  },
  {
   "cell_type": "code",
   "execution_count": 6,
   "metadata": {},
   "outputs": [
    {
     "name": "stdout",
     "output_type": "stream",
     "text": [
      "Average DPS: 9321.704502234199\n",
      "Melee: [1, 52, 51]\n",
      "Death Wish: [1]\n",
      "Deep Wounds: [98]\n",
      "Whirlwind: [9]\n",
      "Recklessness: [1]\n",
      "Bloodthirst: [14]\n",
      "Bloodrage: [3]\n",
      "Bloodlust: [1]\n",
      "Whirlwind OH: [9]\n",
      "Heroic Strike: [33]\n",
      "Execute: [2]\n",
      "Slam: [24]\n",
      "Engi Gloves: [2]\n",
      "Shattering Throw: [1]\n"
     ]
    }
   ],
   "source": [
    "median = np.argsort(dps_results)[len(dps_results)//2]\n",
    "print(f'Average DPS: {dps_results[median]}')\n",
    "\n",
    "cast_metrics = json.loads(metrics_batch[median])\n",
    "for spell_id, metrics in cast_metrics.items():\n",
    "    # Only one target, so we can just take the first one\n",
    "    try:\n",
    "        spell_name = spell_id_lists[spell_id]\n",
    "    except KeyError as key:\n",
    "        spell_name = key\n",
    "    print(f\"{spell_name}: {[metric['Casts'] for metric in metrics]}\")"
   ]
  },
  {
   "attachments": {},
   "cell_type": "markdown",
   "metadata": {},
   "source": [
    "### Debug Log"
   ]
  },
  {
   "cell_type": "code",
   "execution_count": 7,
   "metadata": {},
   "outputs": [],
   "source": [
    "actions_id = {\n",
    "    0: \"Bloodthirst\", \n",
    "    1: \"Whirlwind\",\n",
    "    2: \"Slam\",\n",
    "    3: \"HeroicStrike\",\n",
    "    4: \"Execute\",\n",
    "    5: \"DeathWish\",\n",
    "    6: \"Recklessness\",\n",
    "    7: \"ShatteringThrow\",\n",
    "    8: \"Bloodrage\",\n",
    "    9: \"EngiGlove\",\n",
    "    10: \"Bloodlust\",\n",
    "}"
   ]
  },
  {
   "cell_type": "code",
   "execution_count": 11,
   "metadata": {},
   "outputs": [
    {
     "data": {
      "text/html": [
       "<div>\n",
       "<style scoped>\n",
       "    .dataframe tbody tr th:only-of-type {\n",
       "        vertical-align: middle;\n",
       "    }\n",
       "\n",
       "    .dataframe tbody tr th {\n",
       "        vertical-align: top;\n",
       "    }\n",
       "\n",
       "    .dataframe thead th {\n",
       "        text-align: right;\n",
       "    }\n",
       "</style>\n",
       "<table border=\"1\" class=\"dataframe\">\n",
       "  <thead>\n",
       "    <tr style=\"text-align: right;\">\n",
       "      <th></th>\n",
       "      <th>Timestamp</th>\n",
       "      <th>Action</th>\n",
       "      <th>Successful Cast</th>\n",
       "      <th>Damage Done</th>\n",
       "      <th>Total Damage Done</th>\n",
       "      <th>Rage</th>\n",
       "      <th>DPS</th>\n",
       "    </tr>\n",
       "  </thead>\n",
       "  <tbody>\n",
       "    <tr>\n",
       "      <th>0</th>\n",
       "      <td>0.010000</td>\n",
       "      <td>HeroicStrike</td>\n",
       "      <td>True</td>\n",
       "      <td>11457.238327</td>\n",
       "      <td>1.145724e+04</td>\n",
       "      <td>54.805632</td>\n",
       "      <td>1.145724e+06</td>\n",
       "    </tr>\n",
       "    <tr>\n",
       "      <th>1</th>\n",
       "      <td>0.020000</td>\n",
       "      <td>Slam</td>\n",
       "      <td>True</td>\n",
       "      <td>0.000000</td>\n",
       "      <td>1.145724e+04</td>\n",
       "      <td>54.805632</td>\n",
       "      <td>5.728619e+05</td>\n",
       "    </tr>\n",
       "    <tr>\n",
       "      <th>2</th>\n",
       "      <td>1.530000</td>\n",
       "      <td>Bloodthirst</td>\n",
       "      <td>True</td>\n",
       "      <td>19293.494877</td>\n",
       "      <td>3.075073e+04</td>\n",
       "      <td>51.074678</td>\n",
       "      <td>2.009852e+04</td>\n",
       "    </tr>\n",
       "    <tr>\n",
       "      <th>3</th>\n",
       "      <td>3.030000</td>\n",
       "      <td>Whirlwind</td>\n",
       "      <td>True</td>\n",
       "      <td>21570.054997</td>\n",
       "      <td>5.232079e+04</td>\n",
       "      <td>75.000000</td>\n",
       "      <td>1.726759e+04</td>\n",
       "    </tr>\n",
       "    <tr>\n",
       "      <th>4</th>\n",
       "      <td>4.695287</td>\n",
       "      <td>Whirlwind</td>\n",
       "      <td>False</td>\n",
       "      <td>0.000000</td>\n",
       "      <td>6.464548e+04</td>\n",
       "      <td>100.000000</td>\n",
       "      <td>1.376816e+04</td>\n",
       "    </tr>\n",
       "    <tr>\n",
       "      <th>...</th>\n",
       "      <td>...</td>\n",
       "      <td>...</td>\n",
       "      <td>...</td>\n",
       "      <td>...</td>\n",
       "      <td>...</td>\n",
       "      <td>...</td>\n",
       "      <td>...</td>\n",
       "    </tr>\n",
       "    <tr>\n",
       "      <th>240</th>\n",
       "      <td>119.047451</td>\n",
       "      <td>Whirlwind</td>\n",
       "      <td>True</td>\n",
       "      <td>7979.560846</td>\n",
       "      <td>1.129752e+06</td>\n",
       "      <td>75.000000</td>\n",
       "      <td>9.489931e+03</td>\n",
       "    </tr>\n",
       "    <tr>\n",
       "      <th>241</th>\n",
       "      <td>121.047451</td>\n",
       "      <td>DeathWish</td>\n",
       "      <td>False</td>\n",
       "      <td>0.000000</td>\n",
       "      <td>1.133531e+06</td>\n",
       "      <td>100.000000</td>\n",
       "      <td>9.364356e+03</td>\n",
       "    </tr>\n",
       "    <tr>\n",
       "      <th>242</th>\n",
       "      <td>121.231073</td>\n",
       "      <td>Bloodthirst</td>\n",
       "      <td>True</td>\n",
       "      <td>13196.984524</td>\n",
       "      <td>1.146728e+06</td>\n",
       "      <td>80.000000</td>\n",
       "      <td>9.459030e+03</td>\n",
       "    </tr>\n",
       "    <tr>\n",
       "      <th>243</th>\n",
       "      <td>122.731073</td>\n",
       "      <td>Slam</td>\n",
       "      <td>True</td>\n",
       "      <td>10184.123378</td>\n",
       "      <td>1.156913e+06</td>\n",
       "      <td>85.000000</td>\n",
       "      <td>9.426403e+03</td>\n",
       "    </tr>\n",
       "    <tr>\n",
       "      <th>244</th>\n",
       "      <td>124.231073</td>\n",
       "      <td>DeathWish</td>\n",
       "      <td>False</td>\n",
       "      <td>0.000000</td>\n",
       "      <td>1.158045e+06</td>\n",
       "      <td>85.000000</td>\n",
       "      <td>9.321705e+03</td>\n",
       "    </tr>\n",
       "  </tbody>\n",
       "</table>\n",
       "<p>245 rows × 7 columns</p>\n",
       "</div>"
      ],
      "text/plain": [
       "      Timestamp        Action  Successful Cast   Damage Done  \\\n",
       "0      0.010000  HeroicStrike             True  11457.238327   \n",
       "1      0.020000          Slam             True      0.000000   \n",
       "2      1.530000   Bloodthirst             True  19293.494877   \n",
       "3      3.030000     Whirlwind             True  21570.054997   \n",
       "4      4.695287     Whirlwind            False      0.000000   \n",
       "..          ...           ...              ...           ...   \n",
       "240  119.047451     Whirlwind             True   7979.560846   \n",
       "241  121.047451     DeathWish            False      0.000000   \n",
       "242  121.231073   Bloodthirst             True  13196.984524   \n",
       "243  122.731073          Slam             True  10184.123378   \n",
       "244  124.231073     DeathWish            False      0.000000   \n",
       "\n",
       "     Total Damage Done        Rage           DPS  \n",
       "0         1.145724e+04   54.805632  1.145724e+06  \n",
       "1         1.145724e+04   54.805632  5.728619e+05  \n",
       "2         3.075073e+04   51.074678  2.009852e+04  \n",
       "3         5.232079e+04   75.000000  1.726759e+04  \n",
       "4         6.464548e+04  100.000000  1.376816e+04  \n",
       "..                 ...         ...           ...  \n",
       "240       1.129752e+06   75.000000  9.489931e+03  \n",
       "241       1.133531e+06  100.000000  9.364356e+03  \n",
       "242       1.146728e+06   80.000000  9.459030e+03  \n",
       "243       1.156913e+06   85.000000  9.426403e+03  \n",
       "244       1.158045e+06   85.000000  9.321705e+03  \n",
       "\n",
       "[245 rows x 7 columns]"
      ]
     },
     "execution_count": 11,
     "metadata": {},
     "output_type": "execute_result"
    }
   ],
   "source": [
    "import pandas as pd\n",
    "\n",
    "df = pd.DataFrame(debug_logs_batch[median], columns=['Timestamp', 'Action', 'Successful Cast', 'Damage Done', 'Total Damage Done', 'Rage'])\n",
    "df['Action'] = df['Action'].map(actions_id)\n",
    "df['DPS'] = df['Total Damage Done'].div(df['Timestamp'])\n",
    "df"
   ]
  },
  {
   "cell_type": "code",
   "execution_count": 12,
   "metadata": {},
   "outputs": [],
   "source": [
    "df.to_csv(\"debug_logs/debug_log_1.csv\")"
   ]
  },
  {
   "attachments": {},
   "cell_type": "markdown",
   "metadata": {},
   "source": [
    "# Spell Debug"
   ]
  },
  {
   "cell_type": "code",
   "execution_count": 15,
   "metadata": {},
   "outputs": [
    {
     "name": "stdout",
     "output_type": "stream",
     "text": [
      "Average DPS: 4925.963917374689\n"
     ]
    }
   ],
   "source": [
    "Spells.register()\n",
    "Auras.register()\n",
    "TargetAuras.register()\n",
    "\n",
    "settings['simOptions']['interactive'] = True\n",
    "damages = np.array([])\n",
    "spell_metrics = []\n",
    "\n",
    "for i in range(3000):\n",
    "    reset()\n",
    "    while not wowsims.step():\n",
    "        if wowsims.needsInput():\n",
    "            wowsims.trySpell(Spells.Slam)\n",
    "    totalDamage = wowsims.getDamageDone()\n",
    "    damages = np.append(damages, totalDamage)\n",
    "    spell_metrics.append(wowsims.getSpellMetrics())\n",
    "\n",
    "median = np.argsort(damages)[len(damages)//2]\n",
    "print(f'Average DPS: {damages[median] / duration}')"
   ]
  },
  {
   "cell_type": "code",
   "execution_count": 16,
   "metadata": {},
   "outputs": [
    {
     "name": "stdout",
     "output_type": "stream",
     "text": [
      "Melee: {'Casts': 1, 'Misses': 0, 'Hits': 0, 'Crits': 0, 'Crushes': 0, 'Dodges': 0, 'Glances': 0, 'Parries': 0, 'Blocks': 0, 'TotalDamage': 0, 'TotalThreat': 0, 'TotalHealing': 0, 'TotalShielding': 0, 'TotalCastTime': 0}\n",
      "Deep Wounds: {'Casts': 51, 'Misses': 0, 'Hits': 51, 'Crits': 0, 'Crushes': 0, 'Dodges': 0, 'Glances': 0, 'Parries': 0, 'Blocks': 0, 'TotalDamage': 106393.62398275181, 'TotalThreat': 74475.53678792623, 'TotalHealing': 0, 'TotalShielding': 0, 'TotalCastTime': 0}\n",
      "Slam: {'Casts': 67, 'Misses': 0, 'Hits': 29, 'Crits': 38, 'Crushes': 0, 'Dodges': 0, 'Glances': 0, 'Parries': 0, 'Blocks': 0, 'TotalDamage': 409385.55050488695, 'TotalThreat': 293135.885353421, 'TotalHealing': 0, 'TotalShielding': 0, 'TotalCastTime': 102000000000}\n"
     ]
    }
   ],
   "source": [
    "\n",
    "json_string = spell_metrics[median]\n",
    "cast_metrics = json.loads(json_string)\n",
    "for spell_id, metrics in cast_metrics.items():\n",
    "    # Only one target, so we can just take the first one\n",
    "    try:\n",
    "        spell_name = spell_id_lists[spell_id]\n",
    "    except KeyError as key:\n",
    "        spell_name = key\n",
    "    print(f\"{spell_name}: {[metric['Casts'] for metric in metrics]}\")"
   ]
  }
 ],
 "metadata": {
  "kernelspec": {
   "display_name": "tts39",
   "language": "python",
   "name": "python3"
  },
  "language_info": {
   "codemirror_mode": {
    "name": "ipython",
    "version": 3
   },
   "file_extension": ".py",
   "mimetype": "text/x-python",
   "name": "python",
   "nbconvert_exporter": "python",
   "pygments_lexer": "ipython3",
   "version": "3.9.12"
  },
  "orig_nbformat": 4
 },
 "nbformat": 4,
 "nbformat_minor": 2
}
